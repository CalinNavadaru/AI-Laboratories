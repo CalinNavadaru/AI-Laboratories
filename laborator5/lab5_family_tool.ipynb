{
 "cells": [
  {
   "cell_type": "code",
   "id": "initial_id",
   "metadata": {
    "collapsed": true
   },
   "source": [
    "import csv\n",
    "import os\n",
    "import matplotlib.pyplot as plt\n",
    "import numpy as np\n",
    "from sklearn import linear_model"
   ],
   "outputs": [],
   "execution_count": null
  },
  {
   "cell_type": "code",
   "source": [
    "def load_data(file_name, input_variable_name, output_variable_name):\n",
    "    data = []\n",
    "    data_names = []\n",
    "    with open(file_name) as csv_file:\n",
    "        csv_reader = csv.reader(csv_file, delimiter=',')\n",
    "        line_count = 0\n",
    "        for row in csv_reader:\n",
    "            if line_count == 0:\n",
    "                data_names = row\n",
    "            else:\n",
    "                data.append(row)\n",
    "            line_count += 1\n",
    "    selected_variable = data_names.index(input_variable_name)\n",
    "    input_list = [float(data[i][selected_variable]) for i in range(len(data))]\n",
    "    selected_output = data_names.index(output_variable_name)\n",
    "    output_list = [float(data[i][selected_output]) for i in range(len(data))]\n",
    "\n",
    "    return input_list, output_list\n",
    "\n",
    "\n",
    "crt_dir = os.getcwd()\n",
    "file_path = os.path.join(crt_dir, 'data', 'v1_world-happiness-report-2017.csv')\n",
    "\n",
    "inputs, outputs = load_data(file_path, 'Family', 'Happiness.Score')\n",
    "print('in:  ', inputs[:5])\n",
    "print('out: ', outputs[:5])"
   ],
   "metadata": {
    "collapsed": false
   },
   "id": "5d055ed78b6fa425",
   "outputs": [],
   "execution_count": null
  },
  {
   "cell_type": "code",
   "source": [
    "def plot_histogram(data, variable_name):\n",
    "    _ = plt.hist(data, 10)\n",
    "    plt.title(\"Histogram of \" + variable_name)\n",
    "    plt.show()\n",
    "\n",
    "\n",
    "plot_histogram(inputs, 'Family')\n",
    "plot_histogram(outputs, 'Happiness Score')"
   ],
   "metadata": {
    "collapsed": false
   },
   "id": "28ed79000c00cf86",
   "outputs": [],
   "execution_count": null
  },
  {
   "cell_type": "code",
   "source": [
    "plt.plot(inputs, outputs, 'ro')\n",
    "plt.xlabel('Family')\n",
    "plt.ylabel('happiness')\n",
    "plt.title('Family vs. happiness')\n",
    "plt.show()"
   ],
   "metadata": {
    "collapsed": false
   },
   "id": "5d3ae3fb7721fed8",
   "outputs": [],
   "execution_count": null
  },
  {
   "cell_type": "code",
   "source": [
    "np.random.seed(5)\n",
    "indexes = [i for i in range(len(inputs))]\n",
    "train_sample = np.random.choice(indexes, int(0.8 * len(inputs)), replace=False)\n",
    "validation_sample = [i for i in indexes if not i in train_sample]\n",
    "\n",
    "train_inputs = [inputs[i] for i in train_sample]\n",
    "train_outputs = [outputs[i] for i in train_sample]\n",
    "\n",
    "validation_inputs = [inputs[i] for i in validation_sample]\n",
    "validation_outputs = [outputs[i] for i in validation_sample]\n",
    "\n",
    "plt.plot(train_inputs, train_outputs, 'ro', label='training data')\n",
    "plt.plot(validation_inputs, validation_outputs, 'g^',\n",
    "         label='validation data')\n",
    "plt.title('train and validation data')\n",
    "plt.xlabel('GDP capita')\n",
    "plt.ylabel('happiness')\n",
    "plt.legend()\n",
    "plt.show()"
   ],
   "metadata": {
    "collapsed": false
   },
   "id": "2890dd9a5b5c5ac3",
   "outputs": [],
   "execution_count": null
  },
  {
   "cell_type": "code",
   "source": [
    "xx = [[el] for el in train_inputs]\n",
    "\n",
    "regressor = linear_model.LinearRegression()\n",
    "regressor.fit(xx, train_outputs)\n",
    "w0, w1 = regressor.intercept_, regressor.coef_[0]\n",
    "print('the learnt model: f(x) = ', w0, ' + ', w1, ' * x')"
   ],
   "metadata": {
    "collapsed": false
   },
   "id": "d1ff098a034352ee",
   "outputs": [],
   "execution_count": null
  },
  {
   "cell_type": "code",
   "source": [
    "no_of_points = 1000\n",
    "xref = []\n",
    "val = min(train_inputs)\n",
    "step = (max(train_inputs) - min(train_inputs)) / no_of_points\n",
    "for i in range(1, no_of_points):\n",
    "    xref.append(val)\n",
    "    val += step\n",
    "yref = [w0 + w1 * el for el in xref]\n",
    "\n",
    "plt.plot(train_inputs, train_outputs, 'ro', label='training data') \n",
    "plt.plot(xref, yref, 'b-', label='learnt model') \n",
    "plt.title('train data and the learnt model')\n",
    "plt.xlabel('GDP capita')\n",
    "plt.ylabel('happiness')\n",
    "plt.legend()\n",
    "plt.show()"
   ],
   "metadata": {
    "collapsed": false
   },
   "id": "99390a0b20676b4",
   "outputs": [],
   "execution_count": null
  },
  {
   "cell_type": "code",
   "source": [
    "computed_validation_outputs = regressor.predict([[x] for x in validation_inputs])\n",
    "\n",
    "plt.plot(validation_inputs, computed_validation_outputs, 'yo', label = 'computed test data')\n",
    "plt.plot(validation_inputs, validation_outputs, 'g^', label = 'real test data') \n",
    "plt.title('computed validation and real validation data')\n",
    "plt.xlabel('GDP capita')\n",
    "plt.ylabel('happiness')\n",
    "plt.legend()\n",
    "plt.show()"
   ],
   "metadata": {
    "collapsed": false
   },
   "id": "7aa82a35ccf47014",
   "outputs": [],
   "execution_count": null
  },
  {
   "cell_type": "code",
   "source": [
    "from sklearn.metrics import mean_squared_error, root_mean_squared_error\n",
    "\n",
    "error = mean_squared_error(validation_outputs, computed_validation_outputs)\n",
    "print('prediction error (tool):  ', error)\n",
    "error2 = root_mean_squared_error(validation_outputs, computed_validation_outputs)\n",
    "print('prediction error2 (tool with RMSE)', error2)"
   ],
   "metadata": {
    "collapsed": false
   },
   "id": "4558a07b6a9ec496",
   "outputs": [],
   "execution_count": null
  }
 ],
 "metadata": {
  "kernelspec": {
   "display_name": "Python 3",
   "language": "python",
   "name": "python3"
  },
  "language_info": {
   "codemirror_mode": {
    "name": "ipython",
    "version": 2
   },
   "file_extension": ".py",
   "mimetype": "text/x-python",
   "name": "python",
   "nbconvert_exporter": "python",
   "pygments_lexer": "ipython2",
   "version": "2.7.6"
  }
 },
 "nbformat": 4,
 "nbformat_minor": 5
}
