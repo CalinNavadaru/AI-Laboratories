{
 "cells": [
  {
   "cell_type": "code",
   "id": "initial_id",
   "metadata": {
    "collapsed": true
   },
   "source": [
    "import csv\n",
    "import os\n",
    "import random\n",
    "\n",
    "from matplotlib import pyplot as plt\n",
    "\n",
    "\n",
    "def get_mean(data, index):\n",
    "    mean = 0\n",
    "    counter = 0\n",
    "    for row in data:\n",
    "        if row[index].isnumeric():\n",
    "            mean += float(row[index])\n",
    "            counter += 1\n",
    "\n",
    "    return mean / counter\n",
    "\n",
    "\n",
    "def fill(data, index, mean):\n",
    "    for row in data:\n",
    "        if row[index] == '':\n",
    "            row[index] = mean\n",
    "\n",
    "\n",
    "def load_data(file_name, input_variable_name_list, output_variable_name):\n",
    "    print(file_name)\n",
    "    data = []\n",
    "    data_names = []\n",
    "    with open(file_name) as csv_file:\n",
    "        csv_reader = csv.reader(csv_file, delimiter=',')\n",
    "        line_count = 0\n",
    "        for row in csv_reader:\n",
    "            if line_count == 0:\n",
    "                data_names = row\n",
    "            else:\n",
    "                data.append(row)\n",
    "            line_count += 1\n",
    "    selected_variable1 = data_names.index(input_variable_name_list[0])\n",
    "    selected_variable2 = data_names.index(input_variable_name_list[1])\n",
    "    if file_name == 'C:\\Facultate\\Materii\\AI\\Laboratoare\\laborator5\\data\\\\v3_world-happiness-report-2017.csv':\n",
    "        m1 = get_mean(data, selected_variable1)\n",
    "        m2 = get_mean(data, selected_variable2)\n",
    "        fill(data, selected_variable1, m1)\n",
    "        fill(data, selected_variable2, m2)\n",
    "    input_list = [[float(data[i][selected_variable1]), float(data[i][selected_variable2])] for i in range(len(data))]\n",
    "    selected_output = data_names.index(output_variable_name)\n",
    "    output_list = [float(data[i][selected_output]) for i in range(len(data))]\n",
    "\n",
    "    return input_list, output_list"
   ],
   "outputs": [],
   "execution_count": null
  },
  {
   "cell_type": "code",
   "source": [
    "def plot_histogram(data, variable_name):\n",
    "    _ = plt.hist(data, 10)\n",
    "    plt.title(\"Histogram of \" + variable_name)\n",
    "    plt.show()"
   ],
   "metadata": {
    "collapsed": false
   },
   "id": "788e9dbf2796bb97",
   "outputs": [],
   "execution_count": null
  },
  {
   "cell_type": "code",
   "source": [
    "crtDir = os.getcwd()\n",
    "filePath = os.path.join(crtDir, 'data', 'v3_world-happiness-report-2017.csv')\n",
    "\n",
    "inputs, outputs = load_data(filePath, ['Economy..GDP.per.Capita.', 'Freedom'], 'Happiness.Score')\n",
    "print('in:  ', inputs[:5])\n",
    "print('out: ', outputs[:5])\n",
    "\n",
    "f1 = [ex[0] for ex in inputs]\n",
    "f2 = [ex[1] for ex in inputs]\n",
    "plot_histogram(f1, 'capita GDP')\n",
    "plot_histogram(f2, 'freedom')\n",
    "plot_histogram(outputs, 'Happiness score')"
   ],
   "metadata": {
    "collapsed": false
   },
   "id": "97b8d18f014ad14e",
   "outputs": [],
   "execution_count": null
  },
  {
   "cell_type": "code",
   "source": [
    "plot_histogram(outputs, 'Happiness score')\n",
    "\n",
    "\n",
    "def plot3Ddata(x1_train, x2_train, y_train, x1_model=None, x2_model=None, y_model=None, x1_test=None, x2_test=None,\n",
    "               y_test=None,\n",
    "               title=None):\n",
    "    ax = plt.axes(projection='3d')\n",
    "    if x1_train:\n",
    "        ax.scatter(x1_train, x2_train, y_train, c='r', marker='o', label='train data', s=10)\n",
    "    if x1_model:\n",
    "        ax.scatter(x1_model, x2_model, y_model, c='g', marker='_', label='learnt model')\n",
    "    if x1_test:\n",
    "        ax.scatter(x1_test, x2_test, y_test, c='purple', marker='^', label='test data')\n",
    "    plt.title(title)\n",
    "    ax.set_xlabel(\"capita\")\n",
    "    ax.set_ylabel(\"freedom\")\n",
    "    ax.set_zlabel(\"happiness\")\n",
    "    plt.legend()\n",
    "    plt.show()"
   ],
   "metadata": {
    "collapsed": false
   },
   "id": "29f7d8fedc02ff9b",
   "outputs": [],
   "execution_count": null
  },
  {
   "cell_type": "code",
   "source": [
    "plot3Ddata(f1, f2, outputs, [], [], [], [], [], [], \"capita vs freedom vs happiness\")"
   ],
   "metadata": {
    "collapsed": false
   },
   "id": "4cbb92397eff3a86",
   "outputs": [],
   "execution_count": null
  },
  {
   "cell_type": "code",
   "source": [
    "def normalisation(train_data, test_data):\n",
    "    def normalize_feature(data_arg):\n",
    "        minimum = min(data_arg)\n",
    "        maximum = max(data_arg)\n",
    "        for i in range(len(data_arg)):\n",
    "            data_arg[i] = (data_arg[i] - minimum) / (maximum - minimum)\n",
    "\n",
    "    def normalize(train_data_arg):\n",
    "        new_train_data = [[] for _ in range(len(train_data_arg))]\n",
    "        for i in range(len(train_data_arg[0])):\n",
    "            aux_list = [train_data_arg[r][i] for r in range(len(train_data_arg))]\n",
    "            normalize_feature(aux_list)\n",
    "            for t in range(len(train_data_arg)):\n",
    "                new_train_data[t].append(aux_list[t])\n",
    "\n",
    "        return new_train_data\n",
    "\n",
    "    if not isinstance(train_data[0], list):\n",
    "        train_data = [[d] for d in train_data]\n",
    "        test_data = [[d] for d in test_data]\n",
    "\n",
    "        normalised_train_data = normalize(train_data)\n",
    "        normalised_test_data = normalize(test_data)\n",
    "\n",
    "        train_data = [d[0] for d in train_data]\n",
    "        test_data = [d[0] for d in test_data]\n",
    "\n",
    "        normalised_train_data = [d[0] for d in normalised_train_data]\n",
    "        normalised_test_data = [d[0] for d in normalised_test_data]\n",
    "    else:\n",
    "        normalised_train_data = normalize(train_data)\n",
    "        normalised_test_data = normalize(test_data)\n",
    "\n",
    "    return normalised_train_data, normalised_test_data"
   ],
   "metadata": {
    "collapsed": false
   },
   "id": "edd7098fdbd3d5e8",
   "outputs": [],
   "execution_count": null
  },
  {
   "cell_type": "code",
   "source": [
    "indexes = [i for i in range(len(inputs))]\n",
    "train_sample = random.sample(indexes, k=int(0.8 * len(inputs)))\n",
    "test_sample = [i for i in range(len(inputs)) if not i in train_sample]\n",
    "\n",
    "train_input_data = [inputs[i] for i in train_sample]\n",
    "train_output_data = [outputs[i] for i in train_sample]\n",
    "test_input_data = [inputs[i] for i in test_sample]\n",
    "test_output_data = [outputs[i] for i in test_sample]\n",
    "\n",
    "train_input_data, test_input_data = normalisation(train_input_data, test_input_data)\n",
    "train_output_data, test_output_data = normalisation(train_output_data, test_output_data)\n",
    "\n",
    "f1_train = [t_data[0] for t_data in train_input_data]\n",
    "f2_train = [t_data[1] for t_data in train_input_data]\n",
    "\n",
    "f1_test = [t_test[0] for t_test in test_input_data]\n",
    "f2_test = [t_test[1] for t_test in test_input_data]\n",
    "\n",
    "plot3Ddata(f1_train, f2_train, train_output_data, [], [], [], f1_test, f2_test, test_output_data, \"Test\")"
   ],
   "metadata": {
    "collapsed": false
   },
   "id": "576ca69ad0a95315",
   "outputs": [],
   "execution_count": null
  },
  {
   "cell_type": "code",
   "source": [
    "plot3Ddata(f1_train, f2_train, train_output_data, [], [], [], f1_test, f2_test, test_output_data, \"Test\")\n",
    "plot_histogram(train_input_data, \"t1\")\n",
    "plot_histogram(train_output_data, \"t2\")"
   ],
   "metadata": {
    "collapsed": false
   },
   "id": "3b41b14b39d900ac",
   "outputs": [],
   "execution_count": null
  },
  {
   "cell_type": "code",
   "source": [
    "class MyLinearRegressor:\n",
    "\n",
    "    def __init__(self):\n",
    "        self.intercept_ = 0.0\n",
    "        self.coef2_ = 0.0\n",
    "        self.coef1_ = 0.0\n",
    "\n",
    "    def fit(self, x, y):\n",
    "        sx1_2 = sum([t[0] * t[0] for t in x])\n",
    "        sx2_2 = sum([t[1] * t[1] for t in x])\n",
    "        sx1x2 = sum([t[0] * t[1] for t in x])\n",
    "        sx1y = sum([t[0] * r for t, r in zip(x, y)])\n",
    "        sx2y = sum([t[1] * r for t, r in zip(x, y)])\n",
    "        s2_x1_x2 = sx1x2 ** 2\n",
    "        \n",
    "        b1 = (sx2_2 * sx1y - sx1x2 * sx2y) / ((sx2_2 * sx1_2) - s2_x1_x2)\n",
    "        \n",
    "        b2 = (sx1_2 * sx2y - sx1x2 * sx1y) / ((sx2_2 * sx1_2) - s2_x1_x2)\n",
    "        \n",
    "        b0 = (sum(y) - b1 * sum([t[0] for t in x]) - b2 * sum([t[1] for t in x])) / len(y)\n",
    "        \n",
    "        self.intercept_ = b0\n",
    "        self.coef1_ = b1\n",
    "        self.coef2_ = b2\n",
    "        \n",
    "    def predict(self, x):\n",
    "        if isinstance(x[0], list):\n",
    "            return [self.intercept_ + self.coef1_ * val[0] + self.coef2_ * val[1] for val in x]\n",
    "        else:\n",
    "            return [self.intercept_ + self.coef1_ * val for val in x]\n",
    "\n",
    "regressor = MyLinearRegressor()\n",
    "\n",
    "regressor.fit(train_input_data, train_output_data)\n",
    "w0, w1, w2 = regressor.intercept_, regressor.coef1_, regressor.coef2_\n",
    "\n",
    "print('the learnt model: f(x) = ', w0, ' + ', w1, ' * x1 + ', w2, '* x2')"
   ],
   "metadata": {
    "collapsed": false
   },
   "id": "def1dc5a99873a3",
   "outputs": [],
   "execution_count": null
  },
  {
   "cell_type": "code",
   "source": [
    "no_of_points = 25\n",
    "xref = []\n",
    "val = min(f1)\n",
    "step = (max(f1) - val) / no_of_points\n",
    "for i in range(1, no_of_points):\n",
    "    for j in range(1, no_of_points):\n",
    "        xref.append(val)\n",
    "    val += step\n",
    "\n",
    "xref2 = []\n",
    "val = min(f2)\n",
    "step = (max(f2) - val) / no_of_points\n",
    "for i in range(1, no_of_points):\n",
    "    aux = val\n",
    "    for j in range(1, no_of_points):\n",
    "        xref2.append(aux)\n",
    "        aux += step\n",
    "\n",
    "yref = [w0 + w1 * el1 + w2 * el2 for el1, el2 in zip(xref, xref2)]\n",
    "plot3Ddata(f1_train, f2_train, train_output_data, xref, xref2, yref, [], [], [], 'train data and the learnt model')"
   ],
   "metadata": {
    "collapsed": false
   },
   "id": "11bd79321112e43a",
   "outputs": [],
   "execution_count": null
  },
  {
   "cell_type": "code",
   "source": [
    "computed_test_outputs = regressor.predict(test_input_data)\n",
    "\n",
    "plot3Ddata([], [], [], f1_test, f2_test, computed_test_outputs, f1_test, f2_test, test_output_data, \"prediction\")"
   ],
   "metadata": {
    "collapsed": false
   },
   "id": "d1d58dff819a83c0",
   "outputs": [],
   "execution_count": null
  },
  {
   "cell_type": "code",
   "source": [
    "error = 0.0\n",
    "for t1, t2 in zip(computed_test_outputs, test_output_data):\n",
    "    error += (t1 - t2) ** 2\n",
    "error = error / len(test_output_data)\n",
    "print('prediction error (manual): ', error)\n",
    "\n",
    "error2 = 0.0\n",
    "for t1, t2 in zip(computed_test_outputs, test_output_data):\n",
    "    error2 += abs(t1 - t2)\n",
    "error2 = error2 / len(test_output_data)\n",
    "print('predicition error2 (manual with MAE)', error2)"
   ],
   "metadata": {
    "collapsed": false
   },
   "id": "f18a8346616972c6",
   "outputs": [],
   "execution_count": null
  }
 ],
 "metadata": {
  "kernelspec": {
   "display_name": "Python 3",
   "language": "python",
   "name": "python3"
  },
  "language_info": {
   "codemirror_mode": {
    "name": "ipython",
    "version": 2
   },
   "file_extension": ".py",
   "mimetype": "text/x-python",
   "name": "python",
   "nbconvert_exporter": "python",
   "pygments_lexer": "ipython2",
   "version": "2.7.6"
  }
 },
 "nbformat": 4,
 "nbformat_minor": 5
}
