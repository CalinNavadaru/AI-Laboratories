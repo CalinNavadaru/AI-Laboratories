{
 "cells": [
  {
   "cell_type": "code",
   "id": "initial_id",
   "metadata": {
    "collapsed": true
   },
   "source": [
    "import os\n",
    "import csv\n",
    "\n",
    "from matplotlib import pyplot as plt\n",
    "\n",
    "\n",
    "def load_data(file_name, input_variable_name, output_variable_name):\n",
    "    data = []\n",
    "    data_names = []\n",
    "    with open(file_name) as csv_file:\n",
    "        csv_reader = csv.reader(csv_file, delimiter=',')\n",
    "        line_count = 0\n",
    "        for row in csv_reader:\n",
    "            if line_count == 0:\n",
    "                data_names = row\n",
    "            else:\n",
    "                data.append(row)\n",
    "            line_count += 1\n",
    "    selected_variable = data_names.index(input_variable_name)\n",
    "    input_list = [float(data[i][selected_variable]) for i in range(len(data))]\n",
    "    selected_output = data_names.index(output_variable_name)\n",
    "    output_list = [float(data[i][selected_output]) for i in range(len(data))]\n",
    "\n",
    "    return input_list, output_list\n",
    "\n",
    "\n",
    "crtDir = os.getcwd()\n",
    "filePath = os.path.join(crtDir, 'data', 'v3_world-happiness-report-2017.csv')\n",
    "\n",
    "inputs, outputs = load_data(filePath, 'Family', 'Happiness.Score')\n",
    "print('in:  ', inputs[:5])\n",
    "print('out: ', outputs[:5])"
   ],
   "outputs": [],
   "execution_count": null
  },
  {
   "cell_type": "code",
   "source": [
    "class MyLinearUnivariateRegression:\n",
    "    def __init__(self):\n",
    "        self.intercept_ = 0.0\n",
    "        self.coef_ = 0.0\n",
    "\n",
    "    def fit(self, x, y):\n",
    "        sx = sum(x)\n",
    "        sy = sum(y)\n",
    "        sx2 = sum(i * i for i in x)\n",
    "        sxy = sum(i * j for (i, j) in zip(x, y))\n",
    "        w1 = (len(x) * sxy - sx * sy) / (len(x) * sx2 - sx * sx)\n",
    "        w0 = (sy - w1 * sx) / len(x)\n",
    "        self.intercept_, self.coef_ = w0, w1\n",
    "\n",
    "    def predict(self, x):\n",
    "        if isinstance(x[0], list):\n",
    "            return [self.intercept_ + self.coef_ * value[0] for value in x]\n",
    "        else:\n",
    "            return [self.intercept_ + self.coef_ * value for value in x]\n"
   ],
   "metadata": {
    "collapsed": false
   },
   "id": "ebc04cf3a2634ad3",
   "outputs": [],
   "execution_count": null
  },
  {
   "cell_type": "code",
   "source": [
    "def plot_histogram(data, variable_name):\n",
    "    _ = plt.hist(data, 10)\n",
    "    plt.title(\"Histogram of \" + variable_name)\n",
    "    plt.show()\n",
    "\n",
    "\n",
    "plot_histogram(inputs, 'Family')\n",
    "plot_histogram(outputs, 'Happiness Score')"
   ],
   "metadata": {
    "collapsed": false
   },
   "id": "2679a03a2578a619",
   "outputs": [],
   "execution_count": null
  },
  {
   "cell_type": "code",
   "source": [
    "plt.plot(inputs, outputs, 'ro')\n",
    "plt.xlabel('Family')\n",
    "plt.ylabel('happiness')\n",
    "plt.title('Family vs. happiness')\n",
    "plt.show()"
   ],
   "metadata": {
    "collapsed": false
   },
   "id": "e5ce0b2c218d5ebf",
   "outputs": [],
   "execution_count": null
  },
  {
   "cell_type": "code",
   "source": [
    "import random\n",
    "\n",
    "indexes = [i for i in range(len(inputs))]\n",
    "train_sample = random.sample(indexes, k=int(0.8 * len(indexes)))\n",
    "validation_sample = [i for i in indexes if not i in train_sample]\n",
    "\n",
    "train_inputs = [inputs[i] for i in train_sample]\n",
    "train_outputs = [outputs[i] for i in train_sample]\n",
    "\n",
    "validation_inputs = [inputs[i] for i in validation_sample]\n",
    "validation_outputs = [outputs[i] for i in validation_sample]\n",
    "\n",
    "plt.plot(train_inputs, train_outputs, 'ro', label='training data')  #train data are plotted by red and circle sign\n",
    "plt.plot(validation_inputs, validation_outputs, 'g^',\n",
    "         label='validation data')  #test data are plotted by green and a triangle sign\n",
    "plt.title('train and validation data')\n",
    "plt.xlabel('GDP capita')\n",
    "plt.ylabel('happiness')\n",
    "plt.legend()\n",
    "plt.show()"
   ],
   "metadata": {
    "collapsed": false
   },
   "id": "530759143ee095e5",
   "outputs": [],
   "execution_count": null
  },
  {
   "cell_type": "code",
   "source": [
    "regressor = MyLinearUnivariateRegression()\n",
    "regressor.fit(train_inputs, train_outputs)\n",
    "w0, w1 = regressor.intercept_, regressor.coef_\n",
    "print('the learnt model: f(x) = ', w0, ' + ', w1, ' * x')"
   ],
   "metadata": {
    "collapsed": false
   },
   "id": "d4c3a100586d1fa2",
   "outputs": [],
   "execution_count": null
  },
  {
   "cell_type": "code",
   "source": [
    "no_of_points = 1000\n",
    "xref = []\n",
    "val = min(train_inputs)\n",
    "step = (max(train_inputs) - min(train_inputs)) / no_of_points\n",
    "for i in range(1, no_of_points):\n",
    "    xref.append(val)\n",
    "    val += step\n",
    "yref = [w0 + w1 * el for el in xref]\n",
    "\n",
    "plt.plot(train_inputs, train_outputs, 'ro', label='training data')\n",
    "plt.plot(xref, yref, 'b-', label='learnt model')\n",
    "plt.title('train data and the learnt model')\n",
    "plt.xlabel('GDP capita')\n",
    "plt.ylabel('happiness')\n",
    "plt.legend()\n",
    "plt.show()"
   ],
   "metadata": {
    "collapsed": false
   },
   "id": "9d2558e9827d8856",
   "outputs": [],
   "execution_count": null
  },
  {
   "cell_type": "code",
   "source": [
    "computed_validation_outputs = regressor.predict([[x] for x in validation_inputs])\n",
    "\n",
    "plt.plot(validation_inputs, computed_validation_outputs, 'yo', label='computed test data')\n",
    "plt.plot(validation_inputs, validation_outputs, 'g^', label='real test data')\n",
    "plt.title('computed validation and real validation data')\n",
    "plt.xlabel('GDP capita')\n",
    "plt.ylabel('happiness')\n",
    "plt.legend()\n",
    "plt.show()"
   ],
   "metadata": {
    "collapsed": false
   },
   "id": "6c4f43f1bf694ab3",
   "outputs": [],
   "execution_count": null
  },
  {
   "cell_type": "code",
   "source": [
    "error = 0.0\n",
    "for t1, t2 in zip(computed_validation_outputs, validation_outputs):\n",
    "    error += (t1 - t2) ** 2\n",
    "error = error / len(validation_outputs)\n",
    "print('prediction error (manual): ', error)\n",
    "\n",
    "error2 = 0.0\n",
    "for t1, t2 in zip(computed_validation_outputs, validation_outputs):\n",
    "    error2 += abs(t1 - t2)\n",
    "error2 = error2 / len(validation_outputs)\n",
    "print('predicition error2 (manual with MAE)', error2)"
   ],
   "metadata": {
    "collapsed": false
   },
   "id": "b88cf89e5d0216e4",
   "outputs": [],
   "execution_count": null
  }
 ],
 "metadata": {
  "kernelspec": {
   "display_name": "Python 3",
   "language": "python",
   "name": "python3"
  },
  "language_info": {
   "codemirror_mode": {
    "name": "ipython",
    "version": 2
   },
   "file_extension": ".py",
   "mimetype": "text/x-python",
   "name": "python",
   "nbconvert_exporter": "python",
   "pygments_lexer": "ipython2",
   "version": "2.7.6"
  }
 },
 "nbformat": 4,
 "nbformat_minor": 5
}
