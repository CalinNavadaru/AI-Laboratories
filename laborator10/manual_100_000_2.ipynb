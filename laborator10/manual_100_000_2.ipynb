{
 "cells": [
  {
   "cell_type": "code",
   "id": "initial_id",
   "metadata": {
    "collapsed": true,
    "ExecuteTime": {
     "end_time": "2024-06-03T17:46:17.768731Z",
     "start_time": "2024-06-03T17:46:14.223046Z"
    }
   },
   "source": [
    "import random\n",
    "\n",
    "import networkx as nx\n",
    "from matplotlib import pyplot as plt"
   ],
   "outputs": [],
   "execution_count": 1
  },
  {
   "metadata": {
    "ExecuteTime": {
     "end_time": "2024-06-03T17:46:27.413903Z",
     "start_time": "2024-06-03T17:46:17.768731Z"
    }
   },
   "cell_type": "code",
   "source": [
    "path = \"data/100_000_2.gml\"\n",
    "graph = nx.read_gml(path, label='id')"
   ],
   "id": "8dac8986b3db9a4a",
   "outputs": [],
   "execution_count": 2
  },
  {
   "metadata": {
    "ExecuteTime": {
     "end_time": "2024-06-03T17:46:27.418621Z",
     "start_time": "2024-06-03T17:46:27.413903Z"
    }
   },
   "cell_type": "code",
   "source": "# sol_path = input(\"Path class: \")",
   "id": "f65ae76406656b34",
   "outputs": [],
   "execution_count": 3
  },
  {
   "metadata": {
    "ExecuteTime": {
     "end_time": "2024-06-03T17:46:27.604554Z",
     "start_time": "2024-06-03T17:46:27.419638Z"
    }
   },
   "cell_type": "code",
   "source": [
    "vertices = list(graph.nodes)\n",
    "node_to_index = {node: index for index, node in enumerate(vertices)}\n",
    "edges = list(graph.edges)"
   ],
   "id": "1eaa6e66e2e2c778",
   "outputs": [],
   "execution_count": 4
  },
  {
   "metadata": {
    "ExecuteTime": {
     "end_time": "2024-06-03T17:46:27.613208Z",
     "start_time": "2024-06-03T17:46:27.604554Z"
    }
   },
   "cell_type": "code",
   "source": [
    "class Chromosome:\n",
    "    def __init__(self, problem_param_arg=None):\n",
    "        self.__problem_param = problem_param_arg\n",
    "        self.__representation = [random.randint(1, problem_param_arg['noVertices']) for _ in\n",
    "                                 range(problem_param_arg['noVertices'])]\n",
    "        self.__fitness = 0.0\n",
    "\n",
    "    @property\n",
    "    def representation(self):\n",
    "        return self.__representation\n",
    "\n",
    "    @property\n",
    "    def fitness(self):\n",
    "        return self.__fitness\n",
    "\n",
    "    @representation.setter\n",
    "    def representation(self, representation=None):\n",
    "        if representation is None:\n",
    "            representation = [random.randint(1, self.__problem_param['noVertices']) for _ in\n",
    "                              range(self.__problem_param['noVertices'])]\n",
    "        self.__representation = representation\n",
    "\n",
    "    @fitness.setter\n",
    "    def fitness(self, fit=0.0):\n",
    "        self.__fitness = fit\n",
    "\n",
    "    def crossover(self, c: 'Chromosome'):\n",
    "        r = random.randint(0, len(self.__representation) - 1)\n",
    "        new_representation = []\n",
    "        for i in range(r):\n",
    "            new_representation.append(self.__representation[i])\n",
    "        for i in range(r, len(self.__representation)):\n",
    "            new_representation.append(c.__representation[i])\n",
    "        offspring = Chromosome(c.__problem_param)\n",
    "        offspring.representation = new_representation\n",
    "        return offspring\n",
    "\n",
    "    def mutation(self):\n",
    "        pos = random.randint(0, len(self.__representation) - 1)\n",
    "        self.__representation[pos] = random.randint(1, self.__problem_param['noVertices'])\n",
    "\n",
    "    def __str__(self):\n",
    "        return '\\nChromo: ' + str(self.__representation) + ' has fit: ' + str(self.__fitness)\n",
    "\n",
    "    def __repr__(self):\n",
    "        return self.__str__()\n",
    "\n",
    "    def __eq__(self, c):\n",
    "        return self.__representation == c.__repres and self.__fitness == c.__fitness"
   ],
   "id": "a702eb50e87032b9",
   "outputs": [],
   "execution_count": 5
  },
  {
   "metadata": {
    "ExecuteTime": {
     "end_time": "2024-06-03T17:46:27.624205Z",
     "start_time": "2024-06-03T17:46:27.613208Z"
    }
   },
   "cell_type": "code",
   "source": [
    "class GA:\n",
    "    def __init__(self, param=None, problem_param=None):\n",
    "        self.__param = param\n",
    "        self.__problem_param = problem_param\n",
    "        self.__population = []\n",
    "\n",
    "    @property\n",
    "    def population(self):\n",
    "        return self.__population\n",
    "\n",
    "    def initialization(self):\n",
    "        for _ in range(0, self.__param['popSize']):\n",
    "            c = Chromosome(self.__problem_param)\n",
    "            self.__population.append(c)\n",
    "\n",
    "    def evaluation(self):\n",
    "        for c in self.__population:\n",
    "            c.fitness = self.__problem_param['fitness'](c.representation)\n",
    "\n",
    "    def selection(self):\n",
    "        pos1 = random.randint(0, self.__param['popSize'] - 1)\n",
    "        pos2 = random.randint(0, self.__param['popSize'] - 1)\n",
    "        if self.__param['cmp'](self.__population[pos1].fitness, self.__population[pos2].fitness):\n",
    "            return pos2\n",
    "        else:\n",
    "            return pos1\n",
    "\n",
    "    def next_generation(self):\n",
    "        new_pop = []\n",
    "        self.__population.sort(key=lambda x: x.fitness, reverse=True)\n",
    "        elites = self.__population[:self.__param['elitism']]  \n",
    "        new_pop.extend(elites)  \n",
    "\n",
    "        for _ in range(self.__param['popSize'] - self.__param['elitism']):\n",
    "            p1 = self.__population[self.selection()]\n",
    "            p2 = self.__population[self.selection()]\n",
    "            child = p1.crossover(p2)\n",
    "            child.mutation()\n",
    "            new_pop.append(child)\n",
    "\n",
    "        self.__population = new_pop\n",
    "        self.evaluation()\n",
    "\n",
    "    def best_chromosome(self):\n",
    "        best_c = self.__population[0]\n",
    "        for c in self.__population:\n",
    "            if self.__param['cmp'](best_c.fitness, c.fitness):\n",
    "                best_c = c\n",
    "        return best_c"
   ],
   "id": "f8bbfd5a4e2b5edc",
   "outputs": [],
   "execution_count": 6
  },
  {
   "metadata": {
    "ExecuteTime": {
     "end_time": "2024-06-03T17:46:27.634203Z",
     "start_time": "2024-06-03T17:46:27.624550Z"
    }
   },
   "cell_type": "code",
   "source": [
    "def modularity(communities: list[int]):\n",
    "    global node_to_index, vertices, edges\n",
    "    m = len(edges)\n",
    "    q = 0\n",
    "    for community in set(communities):\n",
    "        e = 0\n",
    "        a = 0\n",
    "        for edge in edges:\n",
    "            if communities[node_to_index[edge[0]]] == communities[node_to_index[edge[1]]] == community:\n",
    "                e += 1\n",
    "            if communities[node_to_index[edge[0]]] == community or communities[node_to_index[edge[1]]] == community:\n",
    "                a += 1\n",
    "        e /= m\n",
    "        a = a / (2 * m)\n",
    "        q += e - a ** 2\n",
    "    return q\n",
    "\n",
    "\n",
    "def compute_degree(node: int):\n",
    "    degree = 0\n",
    "    for edge in edges:\n",
    "        if edge[0] == node:\n",
    "            degree += 1\n",
    "\n",
    "    return degree\n",
    "\n",
    "\n",
    "def compute_inter_community_degree(communities: list[int], community, node):\n",
    "    result = 0\n",
    "    for edge in edges:\n",
    "        if edge[0] == node:\n",
    "            if communities[edge[1]] != community:\n",
    "                result += 1\n",
    "\n",
    "    return result\n",
    "\n",
    "\n",
    "def average_odf(communities: list[int]):\n",
    "    total_odf = 0\n",
    "    community_count = 0\n",
    "    for community in set(communities):\n",
    "        community_odf = 0\n",
    "        community_node_count = 0\n",
    "        for node in vertices:\n",
    "            if communities[node] != community:\n",
    "                continue\n",
    "            out_degree = compute_degree(node)\n",
    "            inter_community_degree = compute_inter_community_degree(communities, community, node)\n",
    "            odf = inter_community_degree / out_degree if out_degree > 0 else 0\n",
    "            community_odf += odf\n",
    "            community_node_count += 1\n",
    "        if community_node_count > 0:\n",
    "            total_odf += community_odf / community_node_count\n",
    "            community_count += 1\n",
    "    return total_odf / community_count if community_count > 0 else 0\n",
    "\n",
    "\n",
    "def compute_average_conductance(communities: list[int]):\n",
    "    conductance_scores = []\n",
    "    for community in set(communities):\n",
    "        community_edges = 0\n",
    "        total_edges = 0\n",
    "        for edge in edges:\n",
    "            if communities[edge[0]] == communities[edge[1]] == community:\n",
    "                community_edges += 1\n",
    "            if communities[edge[0]] == community or communities[edge[1]] == community:\n",
    "                total_edges += 1\n",
    "        conductance = 1 - (community_edges / total_edges) if total_edges > 0 else 0\n",
    "        conductance_scores.append(conductance)\n",
    "    return sum(conductance_scores) / len(conductance_scores) if conductance_scores else 0"
   ],
   "id": "ec1515cadce843d1",
   "outputs": [],
   "execution_count": 7
  },
  {
   "metadata": {
    "ExecuteTime": {
     "end_time": "2024-06-03T17:46:27.641429Z",
     "start_time": "2024-06-03T17:46:27.634203Z"
    }
   },
   "cell_type": "code",
   "source": [
    "def modularity_comp(a, b):\n",
    "    return a < b\n",
    "\n",
    "\n",
    "def conductance_comp(a, b):\n",
    "    return a > b\n",
    "\n",
    "\n",
    "param = {\n",
    "    'popSize': 1,\n",
    "    'cmp': modularity_comp,\n",
    "    'elitism': 1\n",
    "}\n",
    "problem_param = {\n",
    "    'noVertices': len(vertices),\n",
    "    'fitness': modularity\n",
    "}"
   ],
   "id": "148abff3562680eb",
   "outputs": [],
   "execution_count": 8
  },
  {
   "metadata": {
    "ExecuteTime": {
     "end_time": "2024-06-03T17:46:27.649148Z",
     "start_time": "2024-06-03T17:46:27.641429Z"
    }
   },
   "cell_type": "code",
   "source": [
    "def plot_solutions(solutions, fitness):\n",
    "    # Convert solutions to a format suitable for plotting\n",
    "    x = [index for index, s in enumerate(solutions)]\n",
    "\n",
    "    # Create a scatter plot\n",
    "    plt.scatter(x, fitness)\n",
    "\n",
    "    # Set plot title and labels\n",
    "    plt.title('Solutions and their fitness values')\n",
    "    plt.xlabel('Solution')\n",
    "    plt.ylabel('Fitness')\n",
    "\n",
    "    # Show the plot\n",
    "    plt.show()"
   ],
   "id": "9ae05f8d5434dea6",
   "outputs": [],
   "execution_count": 9
  },
  {
   "metadata": {
    "ExecuteTime": {
     "end_time": "2024-06-03T20:26:33.116302Z",
     "start_time": "2024-06-03T17:46:27.649148Z"
    }
   },
   "cell_type": "code",
   "source": [
    "ga = GA(param, problem_param)\n",
    "ga.initialization()\n",
    "s = []\n",
    "f = []\n",
    "b = None\n",
    "for i in range(1):\n",
    "    ga.evaluation()\n",
    "    solutions = [c.representation for c in ga.population]\n",
    "    fitness = [c.fitness for c in ga.population]\n",
    "    b = ga.best_chromosome()\n",
    "    plot_solutions(solutions, fitness)\n",
    "    ga.next_generation()\n",
    "    \n",
    "print(str(b))"
   ],
   "id": "80031b91f189fbab",
   "outputs": [
    {
     "data": {
      "text/plain": [
       "<Figure size 640x480 with 1 Axes>"
      ],
      "image/png": "[encoded data removed]"
     },
     "metadata": {},
     "output_type": "display_data"
    },
    {
     "name": "stderr",
     "output_type": "stream",
     "text": [
      "\n",
      "KeyboardInterrupt\n",
      "\n"
     ]
    }
   ],
   "execution_count": 10
  }
 ],
 "metadata": {
  "kernelspec": {
   "display_name": "Python 3",
   "language": "python",
   "name": "python3"
  },
  "language_info": {
   "codemirror_mode": {
    "name": "ipython",
    "version": 2
   },
   "file_extension": ".py",
   "mimetype": "text/x-python",
   "name": "python",
   "nbconvert_exporter": "python",
   "pygments_lexer": "ipython2",
   "version": "2.7.6"
  }
 },
 "nbformat": 4,
 "nbformat_minor": 5
}
