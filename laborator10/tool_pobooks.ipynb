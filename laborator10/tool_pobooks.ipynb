{
 "cells": [
  {
   "metadata": {},
   "cell_type": "code",
   "source": [
    "path = \"data/polbooks.gml\"\n",
    "resolution_value = 0.7"
   ],
   "id": "45a5e0f02d14056d",
   "outputs": [],
   "execution_count": null
  },
  {
   "metadata": {},
   "cell_type": "code",
   "source": [
    "import matplotlib.pyplot as plt\n",
    "import networkx as nx\n",
    "import numpy as np\n",
    "graph = nx.read_gml(path)"
   ],
   "id": "1117ad51a3e0347c",
   "outputs": [],
   "execution_count": null
  },
  {
   "metadata": {},
   "cell_type": "code",
   "source": "print(graph)",
   "id": "403d3fbb72e3fe47",
   "outputs": [],
   "execution_count": null
  },
  {
   "metadata": {},
   "cell_type": "code",
   "source": [
    "pos = nx.spring_layout(graph)  # compute graph layout\n",
    "plt.figure(figsize=(8, 8))  # image is 8 x 8 inches \n",
    "nx.draw_networkx_nodes(graph, pos, node_size = 100)\n",
    "nx.draw_networkx_edges(graph, pos, alpha = 0.3)\n",
    "plt.show()"
   ],
   "id": "81fbd9f1ecf0ed8d",
   "outputs": [],
   "execution_count": null
  },
  {
   "metadata": {},
   "cell_type": "code",
   "source": [
    "from networkx.algorithms import community\n",
    "\n",
    "communities_generator = community.louvain_communities(graph, resolution=resolution_value)\n",
    "communities = [x for x in communities_generator]\n",
    "print(communities)"
   ],
   "id": "af7740fd95a0b30b",
   "outputs": [],
   "execution_count": null
  },
  {
   "metadata": {},
   "cell_type": "code",
   "source": [
    "colors = plt.cm.rainbow(np.linspace(0, 1, len(communities)))\n",
    "\n",
    "plt.figure(figsize=(8, 8))\n",
    "for community, color in zip(communities, colors):\n",
    "    nx.draw_networkx_nodes(graph, pos, nodelist=community, node_color=[color])\n",
    "\n",
    "nx.draw_networkx_edges(graph, pos, alpha=0.3)\n",
    "\n",
    "plt.show()"
   ],
   "id": "6c75c66003ca5715",
   "outputs": [],
   "execution_count": null
  },
  {
   "metadata": {},
   "cell_type": "code",
   "source": [
    "def get_node_label(node_id):\n",
    "    return node_id"
   ],
   "id": "a22cd95125b5b009",
   "outputs": [],
   "execution_count": null
  },
  {
   "metadata": {},
   "cell_type": "code",
   "source": [
    "for i, community in enumerate(communities):\n",
    "    print(f'{i + 1} community:', end=' ')\n",
    "    for node in community:\n",
    "        print(get_node_label(node), end=', ')\n",
    "    print()"
   ],
   "id": "8972e6664efff916",
   "outputs": [],
   "execution_count": null
  },
  {
   "metadata": {},
   "cell_type": "code",
   "source": [
    "for index, node in enumerate(graph.nodes(data=False)):\n",
    "    for i, community in enumerate(communities):\n",
    "        if node in community:\n",
    "            print(f'{index + 1} {i + 1}')"
   ],
   "id": "347f89a70b940962",
   "outputs": [],
   "execution_count": null
  }
 ],
 "metadata": {
  "kernelspec": {
   "display_name": "Python 3",
   "language": "python",
   "name": "python3"
  },
  "language_info": {
   "codemirror_mode": {
    "name": "ipython",
    "version": 2
   },
   "file_extension": ".py",
   "mimetype": "text/x-python",
   "name": "python",
   "nbconvert_exporter": "python",
   "pygments_lexer": "ipython2",
   "version": "2.7.6"
  }
 },
 "nbformat": 4,
 "nbformat_minor": 5
}
