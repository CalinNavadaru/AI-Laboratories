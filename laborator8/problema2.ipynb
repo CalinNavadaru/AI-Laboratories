{
 "cells": [
  {
   "cell_type": "code",
   "id": "initial_id",
   "metadata": {
    "collapsed": true
   },
   "source": [
    "import random\n",
    "import re\n",
    "import string\n",
    "\n",
    "import markovify\n",
    "\n",
    "with open(\"data/english_corpus.txt\", encoding='utf-8') as f:\n",
    "    text = f.read()\n",
    "\n",
    "text_model = markovify.Text(text)\n",
    "\n",
    "result = \"\"\n",
    "for i in range(35):\n",
    "    verse = text_model.make_short_sentence(110)\n",
    "    result += '\\n' + verse\n",
    "    print(verse)"
   ],
   "outputs": [],
   "execution_count": null
  },
  {
   "metadata": {},
   "cell_type": "code",
   "source": [
    "from nltk.sentiment.vader import SentimentIntensityAnalyzer\n",
    "\n",
    "sid = SentimentIntensityAnalyzer()\n",
    "\n",
    "scores = sid.polarity_scores(result)\n",
    "\n",
    "print(scores)"
   ],
   "id": "e55b3063f0efe2d7",
   "outputs": [],
   "execution_count": null
  },
  {
   "metadata": {},
   "cell_type": "code",
   "source": [
    "separators = string.punctuation + ' '\n",
    "pattern = \"|\".join(re.escape(separator) for separator in separators)\n",
    "word_list = re.split(pattern, result)\n",
    "print(len(word_list))"
   ],
   "id": "b22acf9b21a12e72",
   "outputs": [],
   "execution_count": null
  },
  {
   "metadata": {},
   "cell_type": "code",
   "source": [
    "from gensim.models import KeyedVectors\n",
    "\n",
    "result_list = []\n",
    "\n",
    "word2vec_model = KeyedVectors.load_word2vec_format(\"data/GoogleNews-vectors-negative300.bin\", binary=True)\n",
    "\n",
    "\n",
    "\n",
    "def find_synonyms(word):\n",
    "    word = word.strip()\n",
    "    synonyms_list = []\n",
    "    if word in word2vec_model.key_to_index:\n",
    "        similar_words = word2vec_model.most_similar(word)\n",
    "        synonyms_list = [x[0] for x in similar_words]\n",
    "\n",
    "    return synonyms_list\n",
    "\n",
    "\n",
    "for word in word_list:\n",
    "    choice = random.random()\n",
    "    if choice >= 0.1:\n",
    "        synonyms = find_synonyms(word)\n",
    "        if synonyms:\n",
    "            result_list.append(synonyms[0])\n",
    "            continue\n",
    "    result_list.append(word)\n",
    "\n",
    "print(len(result_list))\n",
    "print(\" \".join(result_list))"
   ],
   "id": "eb9233760907b20",
   "outputs": [],
   "execution_count": null
  },
  {
   "metadata": {},
   "cell_type": "code",
   "source": [
    "with open(\"text_salvat_1.txt\", \"w+\") as f1:\n",
    "    f1.write(result)"
   ],
   "id": "eb52e0632ff19142",
   "outputs": [],
   "execution_count": null
  },
  {
   "metadata": {},
   "cell_type": "code",
   "source": [
    "from nltk.translate.bleu_score import SmoothingFunction, sentence_bleu\n",
    "\n",
    "reference = result\n",
    "candidate = text\n",
    "\n",
    "smoothie = SmoothingFunction().method4\n",
    "score = sentence_bleu(reference, candidate, smoothing_function=smoothie)\n",
    "\n",
    "print(score)"
   ],
   "id": "70ca2c8437a6e6f7",
   "outputs": [],
   "execution_count": null
  }
 ],
 "metadata": {
  "kernelspec": {
   "display_name": "Python 3",
   "language": "python",
   "name": "python3"
  },
  "language_info": {
   "codemirror_mode": {
    "name": "ipython",
    "version": 2
   },
   "file_extension": ".py",
   "mimetype": "text/x-python",
   "name": "python",
   "nbconvert_exporter": "python",
   "pygments_lexer": "ipython2",
   "version": "2.7.6"
  }
 },
 "nbformat": 4,
 "nbformat_minor": 5
}
