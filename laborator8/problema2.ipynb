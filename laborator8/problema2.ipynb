{
 "cells": [
  {
   "cell_type": "code",
   "id": "initial_id",
   "metadata": {
    "collapsed": true,
    "ExecuteTime": {
     "end_time": "2024-05-13T05:17:43.688703Z",
     "start_time": "2024-05-13T05:17:43.594934Z"
    }
   },
   "source": [
    "import random\n",
    "import re\n",
    "import string\n",
    "\n",
    "import markovify\n",
    "\n",
    "with open(\"data/english_corpus.txt\", encoding='utf-8') as f:\n",
    "    text = f.read()\n",
    "\n",
    "text_model = markovify.Text(text)\n",
    "\n",
    "result = \"\"\n",
    "for i in range(35):\n",
    "    verse = text_model.make_short_sentence(110)\n",
    "    result += '\\n' + verse\n",
    "    print(verse)"
   ],
   "outputs": [
    {
     "name": "stdout",
     "output_type": "stream",
     "text": [
      "And fortify your self in eyes of men.\n",
      "Unthrifty loveliness, why dost thou abuse The bounteous largess given thee to a summer's day?\n",
      "This were to be new made when thou art much too fair To be death's conquest and make worms thine heir.\n",
      "O! that you were Yourself again, after yourself's decease, When your sweet form should bear.\n",
      "This were to be new made when thou feel'st it cold.\n",
      "O! that you were your self; but, love, you know, You had a father: let your son say so.\n",
      "Who will believe my verse ever live young.\n",
      "O! that you were your self; but, love, you know, You had a father: let your son say so.\n",
      "For shame deny that thou shouldst depart, Leaving thee living in posterity?\n",
      "This were to be new made when thou feel'st it cold.\n",
      "Or who is he so fond will be thy love and thy love's use their treasure.\n",
      "For shame deny that thou shouldst depart, Leaving thee living in posterity?\n",
      "Who will believe my verse ever live young.\n",
      "Ah! if thou shouldst bear.\n",
      "Or who is he so fond will be thy love and thy love's use their treasure.\n",
      "Who will believe my verse ever live young.\n",
      "Who will believe my verse ever live young.\n",
      "Who will believe my verse ever live young.\n",
      "O! that you were your self; but, love, you know, You had a father: let your son say so.\n",
      "Or who is he so fond will be thy love and thy love's use their treasure.\n",
      "Shall I compare thee to be new made when thou from youth convertest.\n",
      "For shame deny that thou shouldst bear.\n",
      "This were to be new made when thou art much too fair To be death's conquest and make worms thine heir.\n",
      "Who will believe my verse ever live young.\n",
      "Dear my love, you are No longer yours, than you your self in eyes of men.\n",
      "For having traffic with thy self in your decay With means more blessed than my barren rhyme?\n",
      "For having traffic with thy self in single life?\n",
      "Look in thy beauty's legacy?\n",
      "Or who is he so fond will be thy love and thy love's use their treasure.\n",
      "Who will believe my verse ever live young.\n",
      "O! that you were your self; but, love, you know, You had a father: let your son say so.\n",
      "Ah! if thou shouldst bear.\n",
      "And fortify your self in single life?\n",
      "Look in thy beauty's legacy?\n",
      "This were to be new made when thou art much too fair To be death's conquest and make worms thine heir.\n"
     ]
    }
   ],
   "execution_count": 5
  },
  {
   "metadata": {
    "ExecuteTime": {
     "end_time": "2024-05-13T05:17:43.701856Z",
     "start_time": "2024-05-13T05:17:43.688703Z"
    }
   },
   "cell_type": "code",
   "source": [
    "from nltk.sentiment.vader import SentimentIntensityAnalyzer\n",
    "\n",
    "sid = SentimentIntensityAnalyzer()\n",
    "\n",
    "scores = sid.polarity_scores(result)\n",
    "\n",
    "print(scores)"
   ],
   "id": "e55b3063f0efe2d7",
   "outputs": [
    {
     "name": "stdout",
     "output_type": "stream",
     "text": [
      "{'neg': 0.062, 'neu': 0.741, 'pos': 0.197, 'compound': 0.9977}\n"
     ]
    }
   ],
   "execution_count": 6
  },
  {
   "metadata": {
    "ExecuteTime": {
     "end_time": "2024-05-13T05:17:43.711288Z",
     "start_time": "2024-05-13T05:17:43.701856Z"
    }
   },
   "cell_type": "code",
   "source": [
    "separators = string.punctuation + ' '\n",
    "pattern = \"|\".join(re.escape(separator) for separator in separators)\n",
    "word_list = re.split(pattern, result)\n",
    "print(len(word_list))"
   ],
   "id": "b22acf9b21a12e72",
   "outputs": [
    {
     "name": "stdout",
     "output_type": "stream",
     "text": [
      "480\n"
     ]
    }
   ],
   "execution_count": 7
  },
  {
   "metadata": {
    "ExecuteTime": {
     "end_time": "2024-05-13T05:19:01.158218Z",
     "start_time": "2024-05-13T05:17:43.711803Z"
    }
   },
   "cell_type": "code",
   "source": [
    "from gensim.models import KeyedVectors\n",
    "\n",
    "result_list = []\n",
    "\n",
    "word2vec_model = KeyedVectors.load_word2vec_format(\"data/GoogleNews-vectors-negative300.bin\", binary=True)\n",
    "\n",
    "\n",
    "\n",
    "def find_synonyms(word):\n",
    "    word = word.strip()\n",
    "    synonyms_list = []\n",
    "    if word in word2vec_model.key_to_index:\n",
    "        similar_words = word2vec_model.most_similar(word)\n",
    "        synonyms_list = [x[0] for x in similar_words]\n",
    "\n",
    "    return synonyms_list\n",
    "\n",
    "\n",
    "for word in word_list:\n",
    "    choice = random.random()\n",
    "    if choice >= 0.1:\n",
    "        synonyms = find_synonyms(word)\n",
    "        if synonyms:\n",
    "            result_list.append(synonyms[0])\n",
    "            continue\n",
    "    result_list.append(word)\n",
    "\n",
    "print(len(result_list))\n",
    "print(\" \".join(result_list))"
   ],
   "id": "eb9233760907b20",
   "outputs": [
    {
     "name": "stdout",
     "output_type": "stream",
     "text": [
      "480\n",
      "Of_course strengthen your Self in eyes of women \n",
      "Unthrifty splendor  created_Benzinga_Pro dost Thou sexual_abuse The bountiful largess gave thy to a summer Martinâ_€_™ week It were to being revamped made then Thou visual_arts little so Fair Trying being deaths s conquests and making worm thine scion newfangled_multiplatform_event  it You are Your_Own again  before you Martinâ_€_™ deceases  Then you sweetness form should bears It are to being revamped making then Thou feeling nd that chilly newfangled_multiplatform_event  it You are you Self  although  loved  You tell  you have a son  letting you father believe too Why wil believe My verse EVER living By_Yoon_Ja newfangled_multiplatform_event  it You were you Self  although  loved  You tell  You have a son  let you father believe too With disgrace deny it Thou shouldst departs  leaving thy lived inthe posterity_sake It are to being revamped making then Thou feeling nd that chilly Or_maybe whom was he too enamored wil being thine loved and thine loved Martinâ_€_™ using they treasures With disgrace denied it Thou shouldst departs  leaving thy lived in posterity Why wil say my verse EVER living By_Yoon_Ja Ahh  unless Thou shouldst bears Or_maybe who was He too enamored will being thine loved and thine loved Martinâ_€_™ using they treasures Why wil believe My verses EVER living By_Yoon_Ja Why wil say My verses ever living By_Yoon_Ja Why wil say my verses EVER live By_Yoon_Ja newfangled_multiplatform_event  it You are you Self  although  loved  You tell  you have a son  letting you father say too Or_maybe whom was He too enamored wil being thine loved and thine loved Martinâ_€_™ using they treasures Can myself comparing thy to being revamped making then Thou fromthe youths convertest \n",
      "For shame denied it Thou shouldst bears It are to being revamped making then Thou visual_arts little so Fair To being deaths Martinâ_€_™ conquests and make worm thy scion Why wil believe My verses EVER living By_Yoon_Ja Dearest My loved  You were no shorter your  more You you Self inthe eye of women With being Traffic wtih thine Self inthe you decaying Despite means less richly_blessed more My desolate rhyming With being Traffic wtih thy Self inthe Single lives Looking inthe thine beauty Martinâ_€_™ legacy Or_maybe who was He too enamored wil being thine loved and thine loved Martinâ_€_™ use they treasure Why wil say My verses EVER living By_Yoon_Ja newfangled_multiplatform_event  it You were you self  although  love  You tell  you have a son  letting you son believe too Ahh  unless Thou shouldst bears Of_course strengthen you Self inthe Single lives Looking in thine beauty Martinâ_€_™ legacies It are to being revamped making then Thou visual_arts little so Fair Trying being deaths Martinâ_€_™ conquests and making worm thine scion \n"
     ]
    }
   ],
   "execution_count": 8
  },
  {
   "metadata": {
    "ExecuteTime": {
     "end_time": "2024-05-13T05:19:01.170079Z",
     "start_time": "2024-05-13T05:19:01.158218Z"
    }
   },
   "cell_type": "code",
   "source": [
    "with open(\"text_salvat_1.txt\", \"w+\") as f1:\n",
    "    f1.write(result)"
   ],
   "id": "eb52e0632ff19142",
   "outputs": [],
   "execution_count": 9
  },
  {
   "metadata": {
    "ExecuteTime": {
     "end_time": "2024-05-13T05:19:05.701356Z",
     "start_time": "2024-05-13T05:19:01.170079Z"
    }
   },
   "cell_type": "code",
   "source": [
    "from nltk.translate.bleu_score import SmoothingFunction, sentence_bleu\n",
    "\n",
    "reference = result\n",
    "candidate = text\n",
    "\n",
    "smoothie = SmoothingFunction().method4\n",
    "score = sentence_bleu(reference, candidate, smoothing_function=smoothie)\n",
    "\n",
    "print(score)"
   ],
   "id": "70ca2c8437a6e6f7",
   "outputs": [
    {
     "name": "stdout",
     "output_type": "stream",
     "text": [
      "0.00011796128034378708\n"
     ]
    }
   ],
   "execution_count": 10
  }
 ],
 "metadata": {
  "kernelspec": {
   "display_name": "Python 3",
   "language": "python",
   "name": "python3"
  },
  "language_info": {
   "codemirror_mode": {
    "name": "ipython",
    "version": 2
   },
   "file_extension": ".py",
   "mimetype": "text/x-python",
   "name": "python",
   "nbconvert_exporter": "python",
   "pygments_lexer": "ipython2",
   "version": "2.7.6"
  }
 },
 "nbformat": 4,
 "nbformat_minor": 5
}
