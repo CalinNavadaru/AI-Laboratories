{
 "cells": [
  {
   "cell_type": "code",
   "id": "initial_id",
   "metadata": {
    "collapsed": true,
    "ExecuteTime": {
     "end_time": "2024-05-13T05:28:14.837934Z",
     "start_time": "2024-05-13T05:28:14.827658Z"
    }
   },
   "source": [
    "import random\n",
    "\n",
    "\n",
    "def build_chain(text, n):\n",
    "    words = text.split()\n",
    "    chain = {}\n",
    "    for i in range(len(words) - n):\n",
    "        key = tuple(words[i:i + n])\n",
    "        value = words[i + n]\n",
    "        if key in chain:\n",
    "            chain[key].append(value)\n",
    "        else:\n",
    "            chain[key] = [value]\n",
    "    return chain\n",
    "\n",
    "\n",
    "def generate_text(chain, n, length):\n",
    "    words = random.choice(list(chain.keys()))\n",
    "    result = list(words)\n",
    "    for i in range(length):\n",
    "        key = tuple(words)\n",
    "        while key not in chain:\n",
    "            words = random.choice(list(chain.keys()))\n",
    "            key = tuple(words)\n",
    "        next_word = random.choice(chain[key])\n",
    "        result.append(next_word)\n",
    "        words = result[-n:]\n",
    "    return ' '.join(result)\n"
   ],
   "outputs": [],
   "execution_count": 10
  },
  {
   "metadata": {
    "ExecuteTime": {
     "end_time": "2024-05-13T05:28:14.930815Z",
     "start_time": "2024-05-13T05:28:14.843451Z"
    }
   },
   "cell_type": "code",
   "source": [
    "with open(\"data/corpus_complet.txt\", encoding='utf-8') as f:\n",
    "    text = f.read()\n",
    "\n",
    "chain = build_chain(text, 1)\n",
    "result_text = generate_text(chain, 1, 150).split(\".\")\n",
    "for prop in result_text:\n",
    "    print(prop)"
   ],
   "id": "5fa0089e3e1b8e3a",
   "outputs": [
    {
     "name": "stdout",
     "output_type": "stream",
     "text": [
      "strâns glomotoc, Aceeaşi umbrã albã prin spaţii, Delfinele iau culori: De mireasmă ce trece, vreme Nu câştig Nici ştiu iubirea Miroase a izvoarelor murmururi, Umbra Între ziduri, printre gratii ruginite-a unei femei\n",
      "\n",
      "\n",
      " Te miri că timpul în faţa şi-o fãrâmã de stea\n",
      " O nouă primăvară Cine-a putut cuprinde Simt că adevărul sau merinde Simţiri gălăgioase cu roza sângeroasă, Bat cu-o privire Împrăştie de-a lunei disc, stăpânitor vegheaza, Nimic tu ştiai de-i vremea mea! Nu câştig Nici pentru ospăţul de nebunia sa; Dar când plutesc încet şi ninşi de la călcâie, Să te port\n",
      "\n",
      "\n",
      " Femeie, -mască de al ei uşoară? S-auzi cum voi mormânt albastru mândru a voilor din baladã ţi-am pus să facă mai curând\n",
      "\n",
      "\n",
      " Sunt singur, mai bună, Vântu-mi bate, Şi ochii negri\n",
      "\n",
      "\n",
      " nu vrea, Eu n-am mai ţine strajă, Iar în jurul tău\n",
      "\n",
      "\n",
      " Tot astfel Bolintineanu începu cu-o roză a râului, ce farmecă şi-nfrânge! Frumos şi de mii de\n"
     ]
    }
   ],
   "execution_count": 11
  },
  {
   "metadata": {
    "ExecuteTime": {
     "end_time": "2024-05-13T05:28:15.015038Z",
     "start_time": "2024-05-13T05:28:14.930815Z"
    }
   },
   "cell_type": "code",
   "source": [
    "chain = build_chain(text, 4)\n",
    "with open(\"data/corpus_complet.txt\", encoding='utf-8') as f:\n",
    "    text = f.read()\n",
    "\n",
    "result_text = generate_text(chain, 4, 150).split(\".\")\n",
    "for prop in result_text:\n",
    "    print(prop)"
   ],
   "id": "966cf20f0c3a14ae",
   "outputs": [
    {
     "name": "stdout",
     "output_type": "stream",
     "text": [
      "la plugul raţiunii grele: Doamne, când voi putea din brazda, ei să ies? Pe spirala Duhului cu deschis-suitoare ineIe Să urc sus în cerurile minţii mele\n",
      " Doamne sfânt, vorbesc şi eu în dodii\n",
      "\n",
      "\n",
      ": Când te cobori să priveghezi prin zodii La rânduiala turmelor de stele, Ia seama şi spre laudule mele, Primeşte-mi fumul jertfei de mirodii\n",
      "\n",
      "\n",
      " Pitic, pe cea mai scundă din planete, N-am spart vreun veac cu tunuri şi bătăi\n",
      "\n",
      "\n",
      " Poate mă ştii\n",
      "\n",
      "\n",
      ", sunt faur de sonete, Şi-mi aţipesc, pe ritmuri, îndelete Urechea inimii la paşii Tăi\n",
      "\n",
      "\n",
      " Doamne, lucrarea pe care ai început-o cu mine Simt că nu se va sfârşi aici şi cu moarte: Slujesc în alaiul unei uriaşe liturghii străine, Şi nu mă poate opri în el şi pentru sine Acest pământ îndatorat doară să mă poarte\n",
      " Îl talc numai - tindă cu lespezi puţine-- ¬ Lapăd în el strafe de rând, îmbrac pe cele divine Şi trec cu alaiul Tău\n"
     ]
    }
   ],
   "execution_count": 12
  },
  {
   "metadata": {
    "ExecuteTime": {
     "end_time": "2024-05-13T05:28:15.096680Z",
     "start_time": "2024-05-13T05:28:15.015038Z"
    }
   },
   "cell_type": "code",
   "source": [
    "chain = build_chain(text, 5)\n",
    "with open(\"data/corpus_complet.txt\", encoding='utf-8') as f:\n",
    "    text = f.read()\n",
    "\n",
    "result_text = generate_text(chain, 5, 150)\n",
    "print(result_text)"
   ],
   "id": "a0b8a44d4cbfbc28",
   "outputs": [
    {
     "name": "stdout",
     "output_type": "stream",
     "text": [
      "a murit Şi poate că plâng la clavire Fecioare cu păr despletit... Trec singur... şi tare mi-e teamă... Şi, unde mă aflu, nu ştiu- Vai, plopii detună oraşul... Clavirele plâng în pustiu... Te voi aştepta, într-o zi, sau într-o noapte oarecare Pentru ca să văd dacă mai pot să am o preocupare, Voi trece iar pe lângă ape, şi-n unda lor voi apărea, Voi sta pe lângă vreo ruină, va plânge iar o cucuvea; Pe urmă, nu va mai fi timp... voi fi uitatul muncitor; Va fi şi pentru mine lumea un fenomen întâmplător... Despre iubire, câteodată, poate într-o carte voi găsi, Poate-n oglindă vreo albină compătimind se va lovi- Plângând în zori cu faţa în soare mă voi simţi fără de rost, Mă voi gândi la toată jalea poeţilor care au fost... Un corb va trece peste casă şi iarba mă va îngheţa, Oraşul, prin ninsoare, noaptea, din pianole va cânta, Sau toamna goală\n"
     ]
    }
   ],
   "execution_count": 13
  }
 ],
 "metadata": {
  "kernelspec": {
   "display_name": "Python 3",
   "language": "python",
   "name": "python3"
  },
  "language_info": {
   "codemirror_mode": {
    "name": "ipython",
    "version": 2
   },
   "file_extension": ".py",
   "mimetype": "text/x-python",
   "name": "python",
   "nbconvert_exporter": "python",
   "pygments_lexer": "ipython2",
   "version": "2.7.6"
  }
 },
 "nbformat": 4,
 "nbformat_minor": 5
}
