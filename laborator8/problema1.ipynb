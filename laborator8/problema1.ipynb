{
 "cells": [
  {
   "cell_type": "code",
   "id": "initial_id",
   "metadata": {
    "collapsed": true
   },
   "source": [
    "import random\n",
    "\n",
    "\n",
    "def build_chain(text, n):\n",
    "    words = text.split()\n",
    "    chain = {}\n",
    "    for i in range(len(words) - n):\n",
    "        key = tuple(words[i:i + n])\n",
    "        value = words[i + n]\n",
    "        if key in chain:\n",
    "            chain[key].append(value)\n",
    "        else:\n",
    "            chain[key] = [value]\n",
    "    return chain\n",
    "\n",
    "\n",
    "def generate_text(chain, n, length):\n",
    "    words = random.choice(list(chain.keys()))\n",
    "    result = list(words)\n",
    "    for i in range(length):\n",
    "        key = tuple(words)\n",
    "        while key not in chain:\n",
    "            words = random.choice(list(chain.keys()))\n",
    "            key = tuple(words)\n",
    "        next_word = random.choice(chain[key])\n",
    "        result.append(next_word)\n",
    "        words = result[-n:]\n",
    "    return ' '.join(result)\n"
   ],
   "outputs": [],
   "execution_count": null
  },
  {
   "metadata": {},
   "cell_type": "code",
   "source": [
    "with open(\"data/corpus_complet.txt\", encoding='utf-8') as f:\n",
    "    text = f.read()\n",
    "\n",
    "chain = build_chain(text, 1)\n",
    "result_text = generate_text(chain, 1, 150).split(\".\")\n",
    "for prop in result_text:\n",
    "    print(prop)"
   ],
   "id": "5fa0089e3e1b8e3a",
   "outputs": [],
   "execution_count": null
  },
  {
   "metadata": {},
   "cell_type": "code",
   "source": [
    "chain = build_chain(text, 4)\n",
    "with open(\"data/corpus_complet.txt\", encoding='utf-8') as f:\n",
    "    text = f.read()\n",
    "\n",
    "result_text = generate_text(chain, 4, 150).split(\".\")\n",
    "for prop in result_text:\n",
    "    print(prop)"
   ],
   "id": "966cf20f0c3a14ae",
   "outputs": [],
   "execution_count": null
  },
  {
   "metadata": {},
   "cell_type": "code",
   "source": [
    "chain = build_chain(text, 5)\n",
    "with open(\"data/corpus_complet.txt\", encoding='utf-8') as f:\n",
    "    text = f.read()\n",
    "\n",
    "result_text = generate_text(chain, 5, 150)\n",
    "print(result_text)"
   ],
   "id": "a0b8a44d4cbfbc28",
   "outputs": [],
   "execution_count": null
  }
 ],
 "metadata": {
  "kernelspec": {
   "display_name": "Python 3",
   "language": "python",
   "name": "python3"
  },
  "language_info": {
   "codemirror_mode": {
    "name": "ipython",
    "version": 2
   },
   "file_extension": ".py",
   "mimetype": "text/x-python",
   "name": "python",
   "nbconvert_exporter": "python",
   "pygments_lexer": "ipython2",
   "version": "2.7.6"
  }
 },
 "nbformat": 4,
 "nbformat_minor": 5
}
