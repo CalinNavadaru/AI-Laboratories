{
 "cells": [
  {
   "cell_type": "markdown",
   "source": [
    "# Problema 10\n",
    "    Complexitate timp: theta(n * log(m))\n",
    "    Complexitate spatiu: theta(n * m)"
   ],
   "metadata": {
    "collapsed": false
   },
   "id": "5eaa1dd8f6967cbd"
  },
  {
   "cell_type": "code",
   "outputs": [],
   "source": [
    "import bisect\n",
    "import math\n",
    "\n",
    "\n",
    "def problema10(matrix: list[list[int]]) -> int:\n",
    "    maxim = 0\n",
    "    index = 0\n",
    "    for i in range(1, len(matrix)):\n",
    "        index_1 = bisect.bisect_left(matrix[i], 1)\n",
    "        if maxim < len(matrix[index]) - index_1:\n",
    "            maxim = len(matrix[index]) - index_1\n",
    "            index = i\n",
    "\n",
    "    return index\n",
    "\n",
    "\n",
    "assert (problema10([[0, 0, 0, 1, 1],\n",
    "                    [0, 1, 1, 1, 1],\n",
    "                    [0, 0, 1, 1, 1]]) == 1)\n",
    "assert (problema10([[0, 0, 0, 0, 0],\n",
    "                    [0, 0, 0, 0, 1],\n",
    "                    [0, 0, 1, 1, 1]]) == 2)"
   ],
   "metadata": {
    "collapsed": true,
    "ExecuteTime": {
     "end_time": "2024-02-29T15:51:50.481136Z",
     "start_time": "2024-02-29T15:51:50.476147Z"
    }
   },
   "id": "initial_id",
   "execution_count": 12
  },
  {
   "cell_type": "markdown",
   "source": [
    "# Problema 11\n",
    "    Complexitate timp: theta(n * m)\n",
    "    Complexitate memorie: theta(n * m)"
   ],
   "metadata": {
    "collapsed": false
   },
   "id": "5a053da040ede83f"
  },
  {
   "cell_type": "code",
   "outputs": [
    {
     "name": "stdout",
     "output_type": "stream",
     "text": [
      "[1, 1, 1, 1, 0, 0, 1, 1, 0, 1]\n",
      "[1, 1, 1, 1, 1, 0, 1, 1, 1, 1]\n",
      "[1, 1, 1, 1, 1, 1, 1, 1, 1, 1]\n",
      "[1, 1, 1, 1, 1, 1, 1, 1, 0, 1]\n",
      "[1, 1, 1, 1, 1, 1, 1, 1, 0, 0]\n",
      "[1, 1, 1, 1, 1, 1, 1, 1, 0, 1]\n",
      "[1, 1, 1, 0, 1, 1, 1, 0, 0, 1]\n",
      "[1, 1, 1, 0, 1, 1, 1, 1, 1, 1]\n",
      "--------------------------\n",
      "[1, 1, 1, 1, 1]\n",
      "[1, 1, 0, 0, 1]\n",
      "[1, 1, 1, 0, 1]\n",
      "[1, 1, 1, 0, 0]\n",
      "[1, 1, 1, 0, 1]\n",
      "[1, 1, 1, 1, 1]\n"
     ]
    }
   ],
   "source": [
    "def fill(i, j, matrix, neighbors, s, margine):\n",
    "    gasit = False\n",
    "    s[(i, j)] = 1\n",
    "    if i == 0 or j == 0 or i == len(matrix) - 1 or j == len(matrix[i]) - 1:\n",
    "        return True\n",
    "\n",
    "    n = [(i + x, y + j) for x, y in neighbors]\n",
    "    n.sort()\n",
    "    for x, y in n:\n",
    "        if s.get((x, y), 0) == 0 and matrix[x][y] == 0:\n",
    "            margine = fill(x, y, matrix, neighbors, s, margine)\n",
    "            matrix[i][j] = matrix[x][y] * (margine is False) + 0 * (margine is True)\n",
    "            gasit = True\n",
    "\n",
    "    if not gasit and not margine:\n",
    "        matrix[i][j] = 1\n",
    "\n",
    "    return margine\n",
    "\n",
    "\n",
    "def problema11(matrix: list[list[int]]) -> list[list[int]]:\n",
    "    neighbors = [(-1, 0), (0, 1), (1, 0), (0, -1)]\n",
    "    s = dict()\n",
    "    for i in range(1, len(matrix)):\n",
    "        for j in range(1, len(matrix[i])):\n",
    "            if s.get((i, j), 0) == 0 and matrix[i][j] == 0:\n",
    "                fill(i, j, matrix, neighbors, s, False)\n",
    "\n",
    "    return matrix\n",
    "\n",
    "\n",
    "print(*problema11([[1, 1, 1, 1, 0, 0, 1, 1, 0, 1],\n",
    "                   [1, 0, 0, 1, 1, 0, 1, 1, 1, 1],\n",
    "                   [1, 0, 0, 1, 1, 1, 1, 1, 1, 1],\n",
    "                   [1, 1, 1, 1, 0, 0, 1, 1, 0, 1],\n",
    "                   [1, 0, 0, 1, 1, 0, 1, 1, 0, 0],\n",
    "                   [1, 1, 0, 1, 1, 0, 0, 1, 0, 1],\n",
    "                   [1, 1, 1, 0, 1, 0, 1, 0, 0, 1],\n",
    "                   [1, 1, 1, 0, 1, 1, 1, 1, 1, 1]]), sep='\\n', end='\\n--------------------------\\n')\n",
    "print(*problema11([\n",
    "    [1, 1, 1, 1, 1],\n",
    "    [1, 1, 0, 0, 1],\n",
    "    [1, 1, 1, 0, 1],\n",
    "    [1, 1, 1, 0, 0],\n",
    "    [1, 1, 1, 0, 1],\n",
    "    [1, 1, 1, 1, 1]\n",
    "]), sep='\\n')"
   ],
   "metadata": {
    "collapsed": false,
    "ExecuteTime": {
     "end_time": "2024-02-29T15:39:34.620970Z",
     "start_time": "2024-02-29T15:39:34.611642Z"
    }
   },
   "id": "6c46ce8f41ff0a65",
   "execution_count": 10
  },
  {
   "cell_type": "code",
   "outputs": [],
   "source": [
    "def problema11_2(matrix):\n",
    "    if not matrix:\n",
    "        return\n",
    "\n",
    "    rows = len(matrix)\n",
    "    cols = len(matrix[0])\n",
    "\n",
    "    # Definim funcția de căutare în adâncime (DFS)\n",
    "    def dfs(i, j):\n",
    "        # Verificăm dacă coordonatele sunt valide și dacă elementul este 0\n",
    "        if rows > i >= 0 == matrix[i][j] and 0 <= j < cols:\n",
    "            # Marcam elementul ca fiind vizitat\n",
    "            matrix[i][j] = -1\n",
    "            # Apelăm recursiv pentru toate cele patru direcții\n",
    "            dfs(i + 1, j)\n",
    "            dfs(i - 1, j)\n",
    "            dfs(i, j + 1)\n",
    "            dfs(i, j - 1)\n",
    "\n",
    "    # Parcurgem marginea matricei și începem căutarea în adâncime (DFS)\n",
    "    for i in range(rows):\n",
    "        dfs(i, 0)\n",
    "        dfs(i, cols - 1)\n",
    "\n",
    "    for j in range(cols):\n",
    "        dfs(0, j)\n",
    "        dfs(rows - 1, j)\n",
    "\n",
    "    # Înlocuim toate 0-urile complet înconjurate de 1 cu 1\n",
    "    for i in range(0, rows):\n",
    "        for j in range(0, cols):\n",
    "            if matrix[i][j] == 0:\n",
    "                matrix[i][j] = 1\n",
    "            elif matrix[i][j] == -1:\n",
    "                matrix[i][j] = 0\n",
    "\n",
    "    return matrix\n",
    "\n",
    "\n",
    "# Exemplu de utilizare:\n",
    "matrix = [\n",
    "    [1, 1, 1, 1, 1],\n",
    "    [1, 0, 0, 0, 1],\n",
    "    [1, 0, 1, 0, 1],\n",
    "    [1, 0, 0, 0, 1],\n",
    "    [1, 1, 1, 1, 1]\n",
    "]\n",
    "\n",
    "problema11_2(matrix)\n",
    "\n",
    "# Afisare rezultat\n",
    "for row in matrix:\n",
    "    print(row)\n"
   ],
   "metadata": {
    "collapsed": false
   },
   "id": "3f9791cd1d747c05"
  },
  {
   "cell_type": "markdown",
   "source": [
    "# Problema 9\n",
    "    Complexitate timp: theta(n * m)\n",
    "    Complexitate spatiu: theta(n * m)  "
   ],
   "metadata": {
    "collapsed": false
   },
   "id": "62fdf3d225d52903"
  },
  {
   "cell_type": "code",
   "outputs": [],
   "source": [
    "def problema9(matrix: list[list[int]], query: list[((int, int), (int, int))]) -> list[int]:\n",
    "    new_matrix = [[0] * len(matrix[0]) for _ in range(len(matrix))]\n",
    "    new_matrix[0][0] = matrix[0][0]\n",
    "    for i in range(1, len(matrix)):\n",
    "        new_matrix[i][0] = matrix[i][0] + new_matrix[i - 1][0]\n",
    "    for j in range(1, len(matrix[0])):\n",
    "        new_matrix[0][j] = matrix[0][j] + new_matrix[0][j - 1]\n",
    "    for i in range(1, len(matrix)):\n",
    "        for j in range(1, len(matrix[i])):\n",
    "            new_matrix[i][j] = matrix[i][j] + new_matrix[i - 1][j] + new_matrix[i][j - 1] - new_matrix[i - 1][j - 1]\n",
    "\n",
    "    rez = []\n",
    "    for s, t in query:\n",
    "        a, b = s\n",
    "        x, y = t\n",
    "        rez.append(new_matrix[x][y] - new_matrix[a - 1][y] - new_matrix[x][b - 1] + new_matrix[a - 1][b - 1])\n",
    "\n",
    "    return rez\n",
    "\n",
    "\n",
    "assert (problema9([[0, 2, 5, 4, 1],\n",
    "                   [4, 8, 2, 3, 7],\n",
    "                   [6, 3, 4, 6, 2],\n",
    "                   [7, 3, 1, 8, 3],\n",
    "                   [1, 5, 7, 9, 4]], [((1, 1), (3, 3)), ((2, 2), (4, 4))]) == [38, 44])"
   ],
   "metadata": {
    "collapsed": false,
    "ExecuteTime": {
     "end_time": "2024-02-29T16:08:14.224120Z",
     "start_time": "2024-02-29T16:08:14.217202Z"
    }
   },
   "id": "a491458e0487c469",
   "execution_count": 18
  },
  {
   "cell_type": "markdown",
   "source": [
    "# Problema 2\n",
    "    Complexitate timp: theta(1)\n",
    "    Complexitate spatiu: theta(1)"
   ],
   "metadata": {
    "collapsed": false
   },
   "id": "833110a3fc030949"
  },
  {
   "cell_type": "code",
   "outputs": [],
   "source": [
    "import math\n",
    "\n",
    "def problema2(a: tuple[float, float], b: tuple[float, float]) -> float:\n",
    "    return math.sqrt((a[0] - b[0]) ** 2 + (a[1] - b[1]) ** 2)\n",
    "\n",
    "\n",
    "assert (problema2((1, 5), (4, 1)) == 5)\n",
    "assert (problema2((1, 0), (4, 0)) == math.sqrt(9))"
   ],
   "metadata": {
    "collapsed": false,
    "ExecuteTime": {
     "end_time": "2024-02-29T17:39:39.032183Z",
     "start_time": "2024-02-29T17:39:39.027455Z"
    }
   },
   "id": "a57fb8c691975722",
   "execution_count": 26
  }
 ],
 "metadata": {
  "kernelspec": {
   "display_name": "Python 3",
   "language": "python",
   "name": "python3"
  },
  "language_info": {
   "codemirror_mode": {
    "name": "ipython",
    "version": 2
   },
   "file_extension": ".py",
   "mimetype": "text/x-python",
   "name": "python",
   "nbconvert_exporter": "python",
   "pygments_lexer": "ipython2",
   "version": "2.7.6"
  }
 },
 "nbformat": 4,
 "nbformat_minor": 5
}
