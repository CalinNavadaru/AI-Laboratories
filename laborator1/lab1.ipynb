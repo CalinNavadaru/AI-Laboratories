{
 "cells": [
  {
   "cell_type": "markdown",
   "source": [
    "# Problema 10\n",
    "    Complexitate timp: theta(n * log(m))\n",
    "    Complexitate spatiu: theta(n * m)"
   ],
   "metadata": {
    "collapsed": false
   },
   "id": "5eaa1dd8f6967cbd"
  },
  {
   "cell_type": "code",
   "source": [
    "import bisect\n",
    "\n",
    "\n",
    "def problema10(matrix: list[list[int]]) -> int:\n",
    "    maxim = 0\n",
    "    index = 0\n",
    "    for i in range(1, len(matrix)):\n",
    "        index_1 = bisect.bisect_left(matrix[i], 1)\n",
    "        if maxim < len(matrix[index]) - index_1:\n",
    "            maxim = len(matrix[index]) - index_1\n",
    "            index = i\n",
    "\n",
    "    return index\n",
    "\n",
    "\n",
    "assert (problema10([[0, 0, 0, 1, 1],\n",
    "                    [0, 1, 1, 1, 1],\n",
    "                    [0, 0, 1, 1, 1]]) == 1)\n",
    "assert (problema10([[0, 0, 0, 0, 0],\n",
    "                    [0, 0, 0, 0, 1],\n",
    "                    [0, 0, 1, 1, 1]]) == 2)"
   ],
   "metadata": {
    "collapsed": true
   },
   "id": "initial_id",
   "outputs": [],
   "execution_count": null
  },
  {
   "cell_type": "markdown",
   "source": [
    "# GPT\n",
    "    Complexitate timp: theta(n * log(m))\n",
    "    Complexitate spatiu: theta(1)"
   ],
   "metadata": {
    "collapsed": false
   },
   "id": "43b1451a94f25c8e"
  },
  {
   "cell_type": "code",
   "source": [
    "def index_linie_max_1(matrice):\n",
    "    nr_linii = len(matrice)\n",
    "    nr_coloane = len(matrice[0])\n",
    "    max_1 = 0\n",
    "    index_max_1 = 0\n",
    "\n",
    "    for i in range(nr_linii):\n",
    "        # Căutare binară pe linia curentă pentru a găsi ultimul element de 1\n",
    "        stanga, dreapta = 0, nr_coloane - 1\n",
    "        while stanga <= dreapta:\n",
    "            mijloc = (stanga + dreapta) // 2\n",
    "            if matrice[i][mijloc] == 1:\n",
    "                stanga = mijloc + 1\n",
    "            else:\n",
    "                dreapta = mijloc - 1\n",
    "        # Actualizăm numărul maxim de 1 și indexul liniei corespunzătoare\n",
    "        if nr_coloane - 1 - dreapta > max_1:\n",
    "            max_1 = nr_coloane - 1 - dreapta\n",
    "            index_max_1 = i\n",
    "\n",
    "    return index_max_1 + 1\n",
    "\n",
    "\n",
    "# Exemplu de utilizare:\n",
    "matrice = [\n",
    "    [0, 0, 1, 1],\n",
    "    [0, 1, 1, 1],\n",
    "    [0, 0, 0, 1]\n",
    "]\n",
    "\n",
    "print(\"Indexul liniei cu cele mai multe elemente de 1:\", index_linie_max_1(matrice))  # Output: 1\n",
    "\n",
    "print(index_linie_max_1([[0, 0, 0, 1, 1],\n",
    "                         [0, 1, 1, 1, 1],\n",
    "                         [0, 0, 1, 1, 1]]))\n",
    "assert (index_linie_max_1([[0, 0, 0, 1, 1],\n",
    "                           [0, 1, 1, 1, 1],\n",
    "                           [0, 0, 1, 1, 1]]) == 1)\n",
    "assert (index_linie_max_1([[0, 0, 0, 0, 0],\n",
    "                           [0, 0, 0, 0, 1],\n",
    "                           [0, 0, 1, 1, 1]]) == 2)\n"
   ],
   "metadata": {
    "collapsed": false
   },
   "id": "3e2f02865dddfb0d",
   "outputs": [],
   "execution_count": null
  },
  {
   "cell_type": "markdown",
   "source": [
    "# Problema 11\n",
    "    Complexitate timp: theta(n * m)\n",
    "    Complexitate memorie: theta(n * m)"
   ],
   "metadata": {
    "collapsed": false
   },
   "id": "5a053da040ede83f"
  },
  {
   "cell_type": "code",
   "source": [
    "def fill(i, j, matrix, neighbors, s, margine):\n",
    "    gasit = False\n",
    "    s[(i, j)] = 1\n",
    "    if i == 0 or j == 0 or i == len(matrix) - 1 or j == len(matrix[i]) - 1:\n",
    "        return True\n",
    "\n",
    "    n = [(i + x, y + j) for x, y in neighbors]\n",
    "    n.sort()\n",
    "    for x, y in n:\n",
    "        if s.get((x, y), 0) == 0 and matrix[x][y] == 0:\n",
    "            margine = fill(x, y, matrix, neighbors, s, margine)\n",
    "            matrix[i][j] = matrix[x][y] * (margine is False) + 0 * (margine is True)\n",
    "            gasit = True\n",
    "\n",
    "    if not gasit and not margine:\n",
    "        matrix[i][j] = 1\n",
    "\n",
    "    return margine\n",
    "\n",
    "\n",
    "def problema11(matrix: list[list[int]]) -> list[list[int]]:\n",
    "    neighbors = [(-1, 0), (0, 1), (1, 0), (0, -1)]\n",
    "    s = dict()\n",
    "    for i in range(1, len(matrix)):\n",
    "        for j in range(1, len(matrix[i])):\n",
    "            if s.get((i, j), 0) == 0 and matrix[i][j] == 0:\n",
    "                fill(i, j, matrix, neighbors, s, False)\n",
    "\n",
    "    return matrix\n",
    "\n",
    "\n",
    "print(*problema11([[1, 1, 1, 1, 0, 0, 1, 1, 0, 1],\n",
    "                   [1, 0, 0, 1, 1, 0, 1, 1, 1, 1],\n",
    "                   [1, 0, 0, 1, 1, 1, 1, 1, 1, 1],\n",
    "                   [1, 1, 1, 1, 0, 0, 1, 1, 0, 1],\n",
    "                   [1, 0, 0, 1, 1, 0, 1, 1, 0, 0],\n",
    "                   [1, 1, 0, 1, 1, 0, 0, 1, 0, 1],\n",
    "                   [1, 1, 1, 0, 1, 0, 1, 0, 0, 1],\n",
    "                   [1, 1, 1, 0, 1, 1, 1, 1, 1, 1]]), sep='\\n', end='\\n--------------------------\\n')\n",
    "assert (problema11([[1, 1, 1, 1, 0, 0, 1, 1, 0, 1],\n",
    "                    [1, 0, 0, 1, 1, 0, 1, 1, 1, 1],\n",
    "                    [1, 0, 0, 1, 1, 1, 1, 1, 1, 1],\n",
    "                    [1, 1, 1, 1, 0, 0, 1, 1, 0, 1],\n",
    "                    [1, 0, 0, 1, 1, 0, 1, 1, 0, 0],\n",
    "                    [1, 1, 0, 1, 1, 0, 0, 1, 0, 1],\n",
    "                    [1, 1, 1, 0, 1, 0, 1, 0, 0, 1],\n",
    "                    [1, 1, 1, 0, 1, 1, 1, 1, 1, 1]]) == [[1, 1, 1, 1, 0, 0, 1, 1, 0, 1],\n",
    "                                                         [1, 1, 1, 1, 1, 0, 1, 1, 1, 1],\n",
    "                                                         [1, 1, 1, 1, 1, 1, 1, 1, 1, 1],\n",
    "                                                         [1, 1, 1, 1, 1, 1, 1, 1, 0, 1],\n",
    "                                                         [1, 1, 1, 1, 1, 1, 1, 1, 0, 0],\n",
    "                                                         [1, 1, 1, 1, 1, 1, 1, 1, 0, 1],\n",
    "                                                         [1, 1, 1, 0, 1, 1, 1, 0, 0, 1],\n",
    "                                                         [1, 1, 1, 0, 1, 1, 1, 1, 1, 1]])"
   ],
   "metadata": {
    "collapsed": false
   },
   "id": "6c46ce8f41ff0a65",
   "outputs": [],
   "execution_count": null
  },
  {
   "cell_type": "markdown",
   "source": [
    "# GPT\n",
    "    Complexitate timp: theta(n * m)\n",
    "    Complexitate spatiu: theta(1)"
   ],
   "metadata": {
    "collapsed": false
   },
   "id": "4b9a4540a3ff1b89"
  },
  {
   "cell_type": "code",
   "source": [
    "def problema11_2(matrix):\n",
    "    if not matrix:\n",
    "        return\n",
    "\n",
    "    rows = len(matrix)\n",
    "    cols = len(matrix[0])\n",
    "\n",
    "    # Definim funcția de căutare în adâncime (DFS)\n",
    "    def dfs(i, j):\n",
    "        # Verificăm dacă coordonatele sunt valide și dacă elementul este 0\n",
    "        if rows > i >= 0 == matrix[i][j] and 0 <= j < cols:\n",
    "            # Marcam elementul ca fiind vizitat\n",
    "            matrix[i][j] = -1\n",
    "            # Apelăm recursiv pentru toate cele patru direcții\n",
    "            dfs(i + 1, j)\n",
    "            dfs(i - 1, j)\n",
    "            dfs(i, j + 1)\n",
    "            dfs(i, j - 1)\n",
    "\n",
    "    # Parcurgem marginea matricei și începem căutarea în adâncime (DFS)\n",
    "    for i in range(rows):\n",
    "        dfs(i, 0)\n",
    "        dfs(i, cols - 1)\n",
    "\n",
    "    for j in range(cols):\n",
    "        dfs(0, j)\n",
    "        dfs(rows - 1, j)\n",
    "\n",
    "    # Înlocuim toate 0-urile complet înconjurate de 1 cu 1\n",
    "    for i in range(0, rows):\n",
    "        for j in range(0, cols):\n",
    "            if matrix[i][j] == 0:\n",
    "                matrix[i][j] = 1\n",
    "            elif matrix[i][j] == -1:\n",
    "                matrix[i][j] = 0\n",
    "\n",
    "    return matrix\n",
    "\n",
    "\n",
    "# Exemplu de utilizare:\n",
    "matrix = [\n",
    "    [1, 1, 1, 1, 1],\n",
    "    [1, 0, 0, 0, 1],\n",
    "    [1, 0, 1, 0, 1],\n",
    "    [1, 0, 0, 0, 1],\n",
    "    [1, 1, 1, 1, 1]\n",
    "]\n",
    "\n",
    "problema11_2(matrix)\n",
    "\n",
    "# Afisare rezultat\n",
    "for row in matrix:\n",
    "    print(row)\n"
   ],
   "metadata": {
    "collapsed": false
   },
   "id": "3f9791cd1d747c05",
   "outputs": [],
   "execution_count": null
  },
  {
   "cell_type": "markdown",
   "source": [
    "# Problema 9\n",
    "    Complexitate timp: theta(n * m)\n",
    "    Complexitate spatiu: theta(n * m)  "
   ],
   "metadata": {
    "collapsed": false
   },
   "id": "62fdf3d225d52903"
  },
  {
   "cell_type": "code",
   "source": [
    "def problema9(matrix: list[list[int]], query: list[((int, int), (int, int))]) -> list[int]:\n",
    "    new_matrix = [[0] * len(matrix[0]) for _ in range(len(matrix))]\n",
    "    new_matrix[0][0] = matrix[0][0]\n",
    "    for i in range(1, len(matrix)):\n",
    "        new_matrix[i][0] = matrix[i][0] + new_matrix[i - 1][0]\n",
    "    for j in range(1, len(matrix[0])):\n",
    "        new_matrix[0][j] = matrix[0][j] + new_matrix[0][j - 1]\n",
    "    for i in range(1, len(matrix)):\n",
    "        for j in range(1, len(matrix[i])):\n",
    "            new_matrix[i][j] = matrix[i][j] + new_matrix[i - 1][j] + new_matrix[i][j - 1] - new_matrix[i - 1][j - 1]\n",
    "\n",
    "    rez = []\n",
    "    for s, t in query:\n",
    "        a, b = s\n",
    "        x, y = t\n",
    "        r = new_matrix[a - 1][y] if new_matrix[a - 1][y] > 0 else 0\n",
    "        r1 = new_matrix[x][b - 1] if new_matrix[x][b - 1] > 0 else 0\n",
    "        r2 = new_matrix[a - 1][b - 1] if new_matrix[a - 1][b - 1] > 0 else 0\n",
    "        rez.append(new_matrix[x][y] - r - r1 + r2)\n",
    "\n",
    "    return rez\n",
    "\n",
    "\n",
    "assert (problema9([[0, 2, 5, 4, 1],\n",
    "                   [4, 8, 2, 3, 7],\n",
    "                   [6, 3, 4, 6, 2],\n",
    "                   [7, 3, 1, 8, 3],\n",
    "                   [1, 5, 7, 9, 4]], [((1, 1), (3, 3)), ((2, 2), (4, 4))]) == [38, 44])"
   ],
   "metadata": {
    "collapsed": false
   },
   "id": "a491458e0487c469",
   "outputs": [],
   "execution_count": null
  },
  {
   "cell_type": "markdown",
   "source": [
    "# GPT\n",
    "    Complexitate timp: theta(n * m)\n",
    "    Complexitate spatiu: theta(n * m)"
   ],
   "metadata": {
    "collapsed": false
   },
   "id": "cf63e1178d36368d"
  },
  {
   "cell_type": "code",
   "source": [
    "def suma_submatricelor_ultra_eficient(matrice, coordonate):\n",
    "    n = len(matrice)\n",
    "    m = len(matrice[0])\n",
    "\n",
    "    # Calculăm matricea auxiliară de sume parțiale\n",
    "    sume_partiale = [[0] * m for _ in range(n)]\n",
    "    sume_partiale[0][0] = matrice[0][0]\n",
    "\n",
    "    # Calculăm sumele parțiale pentru prima linie și prima coloană\n",
    "    for i in range(1, n):\n",
    "        sume_partiale[i][0] = sume_partiale[i - 1][0] + matrice[i][0]\n",
    "    for j in range(1, m):\n",
    "        sume_partiale[0][j] = sume_partiale[0][j - 1] + matrice[0][j]\n",
    "\n",
    "    # Calculăm restul sumelor parțiale\n",
    "    for i in range(1, n):\n",
    "        for j in range(1, m):\n",
    "            sume_partiale[i][j] = sume_partiale[i - 1][j] + sume_partiale[i][j - 1] - sume_partiale[i - 1][j - 1] + \\\n",
    "                                  matrice[i][j]\n",
    "\n",
    "    rezultate = []\n",
    "    for coord in coordonate:\n",
    "        p, q = coord[0]\n",
    "        r, s = coord[1]\n",
    "\n",
    "        # Calculăm suma elementelor din submatrice folosind sumele parțiale\n",
    "        suma_submatrice = sume_partiale[r][s]\n",
    "        if p > 0:\n",
    "            suma_submatrice -= sume_partiale[p - 1][s]\n",
    "        if q > 0:\n",
    "            suma_submatrice -= sume_partiale[r][q - 1]\n",
    "        if p > 0 and q > 0:\n",
    "            suma_submatrice += sume_partiale[p - 1][q - 1]\n",
    "        rezultate.append(suma_submatrice)\n",
    "\n",
    "    return rezultate\n",
    "\n",
    "\n",
    "# Exemplu de utilizare:\n",
    "matrice_exemplu = [\n",
    "    [1, 2, 3],\n",
    "    [4, 5, 6],\n",
    "    [7, 8, 9]\n",
    "]\n",
    "\n",
    "coordonate_exemplu = [((0, 0), (1, 1)), ((1, 0), (2, 2))]\n",
    "\n",
    "rezultate = suma_submatricelor_ultra_eficient(matrice_exemplu, coordonate_exemplu)\n",
    "print(rezultate)  # Output: [12, 26]\n"
   ],
   "metadata": {
    "collapsed": false
   },
   "id": "dc008be03b673276",
   "outputs": [],
   "execution_count": null
  },
  {
   "cell_type": "markdown",
   "source": [
    "# Problema 2\n",
    "    Complexitate timp: theta(1)\n",
    "    Complexitate spatiu: theta(1)"
   ],
   "metadata": {
    "collapsed": false
   },
   "id": "833110a3fc030949"
  },
  {
   "cell_type": "code",
   "source": [
    "import math\n",
    "\n",
    "\n",
    "def problema2(a: tuple[float, float], b: tuple[float, float]) -> float:\n",
    "    return math.sqrt((a[0] - b[0]) ** 2 + (a[1] - b[1]) ** 2)\n",
    "\n",
    "\n",
    "assert (problema2((1, 5), (4, 1)) == 5)\n",
    "assert (problema2((1, 0), (4, 0)) == math.sqrt(9))"
   ],
   "metadata": {
    "collapsed": false
   },
   "id": "a57fb8c691975722",
   "outputs": [],
   "execution_count": null
  },
  {
   "cell_type": "markdown",
   "source": [
    "# GPT\n",
    "    Complexitate timp: theta(1)\n",
    "    Complexitate spatiu: theta(1)"
   ],
   "metadata": {
    "collapsed": false
   },
   "id": "3cc28a9907b509bc"
  },
  {
   "cell_type": "code",
   "source": [
    "import math\n",
    "\n",
    "\n",
    "def euclidean_distance(point1, point2):\n",
    "    x1, y1 = point1\n",
    "    x2, y2 = point2\n",
    "    return math.sqrt((x2 - x1) ** 2 + (y2 - y1) ** 2)\n",
    "\n",
    "\n",
    "# Exemplu de utilizare\n",
    "point1 = (1, 5)\n",
    "point2 = (4, 1)\n",
    "distance = euclidean_distance(point1, point2)\n",
    "print(\"Distanța între\", point1, \"și\", point2, \"este:\", distance)\n"
   ],
   "metadata": {
    "collapsed": false
   },
   "id": "f3992bc043908e32",
   "outputs": [],
   "execution_count": null
  },
  {
   "cell_type": "markdown",
   "source": [
    "# Problema 1\n",
    "    Complexitate timp: theta(n)\n",
    "    Complexitate spatiu: theta(1)"
   ],
   "metadata": {
    "collapsed": false
   },
   "id": "155c1e8b84177f72"
  },
  {
   "cell_type": "code",
   "source": [
    "def problema1(text: str) -> str:\n",
    "    last_word = \"\"\n",
    "    for word in text.split(\" \"):\n",
    "        if last_word < word:\n",
    "            last_word = word\n",
    "\n",
    "    return last_word\n",
    "\n",
    "\n",
    "assert (problema1(\"Ana are mere rosii si galbene\") == \"si\")\n",
    "assert (problema1(\"Nicolescu e smecher\") == \"smecher\")"
   ],
   "metadata": {
    "collapsed": false
   },
   "id": "cad2f8f1b8391f1e",
   "outputs": [],
   "execution_count": null
  },
  {
   "cell_type": "markdown",
   "source": [
    "# GPT  \n",
    "    Complexitate timp: theta(n * log(n))\n",
    "    Complexitate spatiu: theta(n)"
   ],
   "metadata": {
    "collapsed": false
   },
   "id": "20cf1ec914aeee6"
  },
  {
   "cell_type": "code",
   "source": [
    "text = \"Ana are mere rosii si galbene\"\n",
    "\n",
    "# Descompunem textul în cuvinte individuale\n",
    "cuvinte = text.split()\n",
    "\n",
    "# Sortăm cuvintele în ordine alfabetică\n",
    "cuvinte.sort()\n",
    "\n",
    "# Alegem ultimul cuvânt alfabetic\n",
    "ultimul_cuvant = cuvinte[-1]\n",
    "\n",
    "print(\"Ultimul cuvânt alfabetic:\", ultimul_cuvant)\n"
   ],
   "metadata": {
    "collapsed": false
   },
   "id": "b149b890a645b30a",
   "outputs": [],
   "execution_count": null
  },
  {
   "cell_type": "markdown",
   "source": [
    "# Problema 3\n",
    "    Complexitate timp: theta(n)\n",
    "    Complexitate spatiu: theta(1)"
   ],
   "metadata": {
    "collapsed": false
   },
   "id": "8cc355029f10a5ce"
  },
  {
   "cell_type": "code",
   "source": [
    "def problema3(vector1: list[float], vector2: list[float]) -> float:\n",
    "    rez = 0\n",
    "    for a, b in zip(vector1, vector2):\n",
    "        if a != 0 and b != 0:\n",
    "            rez += (a * b)\n",
    "\n",
    "    return rez\n",
    "\n",
    "\n",
    "assert (problema3([1, 0, 2, 0, 3], [1, 2, 0, 3, 1]) == 4)\n",
    "assert (problema3([1, 0, 2, 0, 3], [1, 0, 2, 0, 3]) == 14)"
   ],
   "metadata": {
    "collapsed": false
   },
   "id": "d999e5d832f7000b",
   "outputs": [],
   "execution_count": null
  },
  {
   "cell_type": "markdown",
   "source": [
    "# GPT\n",
    "    Complexitate timp: theta(n)\n",
    "    Complexitate spatiu: theta(1)"
   ],
   "metadata": {
    "collapsed": false
   },
   "id": "d88c3df8e496da26"
  },
  {
   "cell_type": "code",
   "source": [
    "def sparse_dot_product(vector1, vector2):\n",
    "    # Inițializăm suma produselor cu zero\n",
    "    dot_product = 0\n",
    "    # Iterăm doar prin elementele nenule și le înmulțim\n",
    "    for i in range(len(vector1)):\n",
    "        dot_product += vector1[i] * vector2[i]\n",
    "    return dot_product\n",
    "\n",
    "\n",
    "# Exemplu de utilizare\n",
    "vector1 = [1, 0, 2, 0, 3]\n",
    "vector2 = [1, 2, 0, 3, 1]\n",
    "result = sparse_dot_product(vector1, vector2)\n",
    "print(\"Produsul scalar al celor doi vectori este:\", result)\n"
   ],
   "metadata": {
    "collapsed": false
   },
   "id": "1f6ad62cdb487557",
   "outputs": [],
   "execution_count": null
  },
  {
   "cell_type": "markdown",
   "source": [
    "# Problema 4\n",
    "    Complexitate timp: theta(n)\n",
    "    Complexitate spatiu: theta(n)"
   ],
   "metadata": {
    "collapsed": false
   },
   "id": "a141d9ad6ef957e4"
  },
  {
   "cell_type": "code",
   "source": [
    "def problema4(text: str) -> list[str]:\n",
    "    dictionar = dict()\n",
    "    for word in text.split(\" \"):\n",
    "        dictionar[word] = dictionar.get(word, 0) + 1\n",
    "\n",
    "    return [word for word, count in dictionar.items() if count == 1]\n",
    "\n",
    "\n",
    "assert (problema4(\"ana are ana are mere rosii ana\") == [\"mere\", \"rosii\"])\n",
    "assert (problema4(\"ana are ana are\") == [])"
   ],
   "metadata": {
    "collapsed": false
   },
   "id": "2c97a36a5ef1a725",
   "outputs": [],
   "execution_count": null
  },
  {
   "cell_type": "markdown",
   "source": [
    "# GPT\n",
    "    Complexitate timp: theta(n)\n",
    "    Complexitate spatiu: theta(n)"
   ],
   "metadata": {
    "collapsed": false
   },
   "id": "524eabe5f44ee4dd"
  },
  {
   "cell_type": "code",
   "source": [
    "from collections import Counter\n",
    "\n",
    "\n",
    "def find_unique_words(text):\n",
    "    # Separăm textul în cuvinte\n",
    "    words = text.split()\n",
    "    # Folosim Counter pentru a număra de câte ori apare fiecare cuvânt\n",
    "    word_count = Counter(words)\n",
    "    # Găsim cuvintele care apar exact o dată\n",
    "    unique_words = [word for word, count in word_count.items() if count == 1]\n",
    "    return unique_words\n",
    "\n",
    "\n",
    "# Exemplu de utilizare\n",
    "text = \"ana are ana are mere rosii ana\"\n",
    "unique_words = find_unique_words(text)\n",
    "print(\"Cuvintele care apar o singură dată în text sunt:\", unique_words)\n"
   ],
   "metadata": {
    "collapsed": false
   },
   "id": "6608e92846b937a9",
   "outputs": [],
   "execution_count": null
  },
  {
   "cell_type": "markdown",
   "source": [
    "# Problema 5\n",
    "    Complexitate timp: theta(n)\n",
    "    Complexitate spatiu: theta(1)"
   ],
   "metadata": {
    "collapsed": false
   },
   "id": "1fca33873769be27"
  },
  {
   "cell_type": "code",
   "source": [
    "def problema5(sir: list[int]) -> int:\n",
    "    a = 0\n",
    "    maxim = 0\n",
    "    for elem in sir:\n",
    "        a += elem\n",
    "        if maxim < elem:\n",
    "            maxim = elem\n",
    "\n",
    "    b = maxim * (maxim + 1) // 2\n",
    "    return a - b\n",
    "\n",
    "\n",
    "assert (problema5([1, 2, 3, 4, 5, 6, 7, 8, 2]) == 2)\n",
    "assert (problema5([1, 2, 3, 4, 5, 6, 7, 8, 6]) == 6)"
   ],
   "metadata": {
    "collapsed": false
   },
   "id": "aab7dd09cfa1a7a1",
   "outputs": [],
   "execution_count": null
  },
  {
   "cell_type": "markdown",
   "source": [
    "# GPT\n",
    "    Complexitate timp: theta(n)\n",
    "    Complexitate spatiu: theta(1)"
   ],
   "metadata": {
    "collapsed": false
   },
   "id": "a3573768ca94a3fc"
  },
  {
   "cell_type": "code",
   "source": [
    "def find_duplicate(nums):\n",
    "    n = len(nums)\n",
    "    xor_sum = 0\n",
    "    # XOR între toate elementele din șir\n",
    "    for num in nums:\n",
    "        xor_sum ^= num\n",
    "    # XOR între toate numerele de la 1 la n - 1\n",
    "    for i in range(1, n):\n",
    "        xor_sum ^= i\n",
    "    return xor_sum\n",
    "\n",
    "\n",
    "# Exemplu de utilizare\n",
    "nums = [1, 2, 3, 4, 2]\n",
    "duplicate_value = find_duplicate(nums)\n",
    "print(\"Valoarea care se repetă de două ori este:\", duplicate_value)"
   ],
   "metadata": {
    "collapsed": false
   },
   "id": "f3978ae9c88f0afe",
   "outputs": [],
   "execution_count": null
  },
  {
   "cell_type": "markdown",
   "source": [
    "# Problema 6\n",
    "    Complexitate timp: theta(n)\n",
    "    Complexitate spatiu: theta(1)"
   ],
   "metadata": {
    "collapsed": false
   },
   "id": "5aa7ba1be90cea0c"
  },
  {
   "cell_type": "code",
   "source": [
    "def problema6(sir: list[int]) -> int:\n",
    "    frecv = 0\n",
    "    elem = sir[0]\n",
    "    for i in range(1, len(sir)):\n",
    "        if elem == sir[i]:\n",
    "            frecv += 1\n",
    "        else:\n",
    "            frecv -= 1\n",
    "            if frecv <= 0:\n",
    "                elem = sir[i]\n",
    "\n",
    "    return elem\n",
    "\n",
    "\n",
    "assert (problema6([2, 8, 7, 2, 2, 5, 2, 3, 1, 2, 2]) == 2)\n",
    "assert (problema6([1, 6, 6, 6, 5, 6, 7, 8, 6]) == 6)"
   ],
   "metadata": {
    "collapsed": false
   },
   "id": "568ede0fa484a897",
   "outputs": [],
   "execution_count": null
  },
  {
   "cell_type": "markdown",
   "source": [
    "# GPT\n",
    "    Complexitate timp: theta(n)\n",
    "    Complexitate spatiu: theta(1)"
   ],
   "metadata": {
    "collapsed": false
   },
   "id": "4cb9cf12a2306c5c"
  },
  {
   "cell_type": "code",
   "source": [
    "def find_majority_element(nums):\n",
    "    candidate = None\n",
    "    count = 0\n",
    "\n",
    "    # Identificarea candidatului\n",
    "    for num in nums:\n",
    "        if count == 0:\n",
    "            candidate = num\n",
    "            count = 1\n",
    "        elif candidate == num:\n",
    "            count += 1\n",
    "        else:\n",
    "            count -= 1\n",
    "\n",
    "    # Verificarea dacă candidatul este într-adevăr majoritar\n",
    "    count = 0\n",
    "    for num in nums:\n",
    "        if num == candidate:\n",
    "            count += 1\n",
    "\n",
    "    if count > len(nums) // 2:\n",
    "        return candidate\n",
    "    else:\n",
    "        return None\n",
    "\n",
    "\n",
    "# Exemplu de utilizare\n",
    "nums = [2, 8, 7, 2, 2, 5, 2, 3, 1, 2, 2]\n",
    "majority_element = find_majority_element(nums)\n",
    "if majority_element is not None:\n",
    "    print(\"Elementul majoritar este:\", majority_element)\n",
    "else:\n",
    "    print(\"Nu există element majoritar în șirul dat.\")\n"
   ],
   "metadata": {
    "collapsed": false
   },
   "id": "faf12f758efd1be4",
   "outputs": [],
   "execution_count": null
  },
  {
   "cell_type": "markdown",
   "source": [
    "# Problema 7\n",
    "    Complexitate timp: theta(n)\n",
    "    Comlexitate spatiu: theta(n)"
   ],
   "metadata": {
    "collapsed": false
   },
   "id": "153e12d531c06d72"
  },
  {
   "cell_type": "code",
   "source": [
    "import heapq\n",
    "\n",
    "\n",
    "def problema7(lista: list[int], k: int) -> int:\n",
    "    heap = lista.copy()\n",
    "    heapq.heapify(heap)\n",
    "    return heapq.nlargest(k, lista)[k - 1]\n",
    "\n",
    "\n",
    "assert (problema7([7, 4, 6, 3, 9, 1], 2) == 7)\n",
    "assert (problema7([7, 4, 6, 3, 9, 1], 1) == 9)\n",
    "assert (problema7([7, 4, 6, 3, 9, 1], 3) == 6)"
   ],
   "metadata": {
    "collapsed": false
   },
   "id": "cb27d817a5f3a6c9",
   "outputs": [],
   "execution_count": null
  },
  {
   "cell_type": "markdown",
   "source": [
    "# GPT  \n",
    "    Complexitate timp: theta(n)\n",
    "    Comlexitate spatiu: theta(n) "
   ],
   "metadata": {
    "collapsed": false
   },
   "id": "43a9e324ce91b604"
  },
  {
   "cell_type": "code",
   "source": [
    "def partition(nums, left, right):\n",
    "    pivot = nums[right]\n",
    "    i = left - 1\n",
    "    for j in range(left, right):\n",
    "        if nums[j] <= pivot:\n",
    "            i += 1\n",
    "            nums[i], nums[j] = nums[j], nums[i]\n",
    "    nums[i + 1], nums[right] = nums[right], nums[i + 1]\n",
    "    return i + 1\n",
    "\n",
    "\n",
    "def kth_largest(nums, k):\n",
    "    left = 0\n",
    "    right = len(nums) - 1\n",
    "    while left <= right:\n",
    "        pivot_index = partition(nums, left, right)\n",
    "        if pivot_index == len(nums) - k:\n",
    "            return nums[pivot_index]\n",
    "        elif pivot_index < len(nums) - k:\n",
    "            left = pivot_index + 1\n",
    "        else:\n",
    "            right = pivot_index - 1\n",
    "\n",
    "\n",
    "# Exemplu de utilizare\n",
    "nums = [7, 4, 6, 3, 9, 1]\n",
    "k = 2\n",
    "kth_largest_element = kth_largest(nums, k)\n",
    "print(f\"Al {k}-lea cel mai mare element este:\", kth_largest_element)\n"
   ],
   "metadata": {
    "collapsed": false
   },
   "id": "7b084acf24dfa4d0",
   "outputs": [],
   "execution_count": null
  },
  {
   "cell_type": "markdown",
   "source": [
    "# Problema 8\n",
    "    Complexitate timp: theta(n)\n",
    "    Complexitate spatiu: theta(2^n)"
   ],
   "metadata": {
    "collapsed": false
   },
   "id": "5a96e6b2487dac"
  },
  {
   "cell_type": "code",
   "source": [
    "import math\n",
    "\n",
    "\n",
    "def problema8_aux(n: int, s=\"\", unu=False):\n",
    "    if unu and n == 0:\n",
    "        return [s]\n",
    "    elif n == 0:\n",
    "        return []\n",
    "\n",
    "    s1 = s + '1'\n",
    "    a1 = problema8_aux(n - 1, s1, True)\n",
    "    s1 = s + '0'\n",
    "    b1 = problema8_aux(n - 1, s1, unu)\n",
    "    rez = a1\n",
    "    rez.extend(b1)\n",
    "    return rez\n",
    "\n",
    "\n",
    "def problema8(n: int) -> list[str]:\n",
    "    return problema8_aux(int(math.log2(n)), unu=False)\n",
    "\n",
    "\n",
    "assert (problema8(4) == ['11', '10', '01'])\n",
    "assert (problema8(8) == ['111', '110', '101', '100', '011', '010', '001'])"
   ],
   "metadata": {
    "collapsed": false
   },
   "id": "2f7387ab5b5bddd3",
   "outputs": [],
   "execution_count": null
  },
  {
   "cell_type": "markdown",
   "source": [
    "# GPT   \n",
    "    Complexitate timp: theta(n)\n",
    "    Complexitate spatiu: theta(n)"
   ],
   "metadata": {
    "collapsed": false
   },
   "id": "8c90f82bc8bcfca1"
  },
  {
   "cell_type": "code",
   "source": [
    "from collections import deque\n",
    "\n",
    "\n",
    "def generate_binary_numbers(n):\n",
    "    result = []\n",
    "    queue = deque()\n",
    "    if n >= 1:\n",
    "        queue.append(\"1\")\n",
    "    for _ in range(n):\n",
    "        num = queue.popleft()\n",
    "        result.append(num)\n",
    "        queue.append(num + \"0\")\n",
    "        queue.append(num + \"1\")\n",
    "    return result\n",
    "\n",
    "\n",
    "# Exemplu de utilizare\n",
    "n = 8\n",
    "binary_numbers = generate_binary_numbers(n)\n",
    "print(\"Numerele binare de la 1 la\", n, \"sunt:\", binary_numbers)\n"
   ],
   "metadata": {
    "collapsed": false
   },
   "id": "306b6c0243f956af",
   "outputs": [],
   "execution_count": null
  }
 ],
 "metadata": {
  "kernelspec": {
   "display_name": "Python 3",
   "language": "python",
   "name": "python3"
  },
  "language_info": {
   "codemirror_mode": {
    "name": "ipython",
    "version": 2
   },
   "file_extension": ".py",
   "mimetype": "text/x-python",
   "name": "python",
   "nbconvert_exporter": "python",
   "pygments_lexer": "ipython2",
   "version": "2.7.6"
  }
 },
 "nbformat": 4,
 "nbformat_minor": 5
}
