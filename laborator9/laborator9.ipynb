{
 "cells": [
  {
   "metadata": {},
   "cell_type": "markdown",
   "source": "# Azure",
   "id": "e65a69616cd3149f"
  },
  {
   "metadata": {
    "ExecuteTime": {
     "end_time": "2024-05-20T05:32:29.102377Z",
     "start_time": "2024-05-20T05:32:29.095729Z"
    }
   },
   "cell_type": "code",
   "source": [
    "\n",
    "import random\n",
    "\n",
    "import numpy\n",
    "from azure.ai.textanalytics import TextAnalyticsClient\n",
    "from azure.core.credentials import AzureKeyCredential"
   ],
   "id": "3f24c6c0958e5d67",
   "outputs": [],
   "execution_count": 4
  },
  {
   "metadata": {
    "ExecuteTime": {
     "end_time": "2024-05-20T05:32:29.238530Z",
     "start_time": "2024-05-20T05:32:29.221594Z"
    }
   },
   "cell_type": "code",
   "source": [
    "endpoint = \"https://nlpnavadarucalin.cognitiveservices.azure.com/\"\n",
    "key = \"4e07f5fc3192462eacc190286a86f426\"\n",
    "\n",
    "client = TextAnalyticsClient(endpoint=endpoint, credential=AzureKeyCredential(key))"
   ],
   "id": "5803bfc733f4ef9d",
   "outputs": [],
   "execution_count": 5
  },
  {
   "metadata": {
    "ExecuteTime": {
     "end_time": "2024-05-20T05:32:30.258039Z",
     "start_time": "2024-05-20T05:32:29.253036Z"
    }
   },
   "cell_type": "code",
   "source": [
    "message1 = [\n",
    "    \"By choosing a bike over a car, I’m reducing my environmental footprint. Cycling promotes eco-friendly transportation, and I’m proud to be part of that movement..\"]\n",
    "\n",
    "result = client.analyze_sentiment(message1, show_opinion_mining=True)\n",
    "docs = [doc for doc in result if not doc.is_error]\n",
    "\n",
    "for idx, doc in enumerate(docs):\n",
    "    print(doc.sentiment)"
   ],
   "id": "1f12cd4db45d3799",
   "outputs": [
    {
     "name": "stdout",
     "output_type": "stream",
     "text": [
      "positive\n"
     ]
    }
   ],
   "execution_count": 6
  },
  {
   "metadata": {
    "ExecuteTime": {
     "end_time": "2024-05-20T05:32:32.107189Z",
     "start_time": "2024-05-20T05:32:30.258039Z"
    }
   },
   "cell_type": "code",
   "source": [
    "import pandas as pd\n",
    "\n",
    "data = pd.read_csv(\"data/reviews_mixed.csv\")\n",
    "data"
   ],
   "id": "d312ccae9f42ee5d",
   "outputs": [
    {
     "data": {
      "text/plain": [
       "                                                  Text Sentiment\n",
       "0    The rooms are extremely small, practically onl...  negative\n",
       "1                              Room safe did not work.  negative\n",
       "2                           Mattress very comfortable.  positive\n",
       "3    Very uncomfortable, thin mattress, with plasti...  negative\n",
       "4                                  No bathroom in room  negative\n",
       "..                                                 ...       ...\n",
       "202  Crumbs from snacks were not cleaned up for 3 d...  negative\n",
       "203  the bathroom was a little dirty with hair at t...  negative\n",
       "204  We had requested two queen beds and got a room...  negative\n",
       "205                    Noisy noisy suite on 4th floor.  negative\n",
       "206                           no way to lock the door.  negative\n",
       "\n",
       "[207 rows x 2 columns]"
      ],
      "text/html": [
       "<div>\n",
       "<style scoped>\n",
       "    .dataframe tbody tr th:only-of-type {\n",
       "        vertical-align: middle;\n",
       "    }\n",
       "\n",
       "    .dataframe tbody tr th {\n",
       "        vertical-align: top;\n",
       "    }\n",
       "\n",
       "    .dataframe thead th {\n",
       "        text-align: right;\n",
       "    }\n",
       "</style>\n",
       "<table border=\"1\" class=\"dataframe\">\n",
       "  <thead>\n",
       "    <tr style=\"text-align: right;\">\n",
       "      <th></th>\n",
       "      <th>Text</th>\n",
       "      <th>Sentiment</th>\n",
       "    </tr>\n",
       "  </thead>\n",
       "  <tbody>\n",
       "    <tr>\n",
       "      <th>0</th>\n",
       "      <td>The rooms are extremely small, practically onl...</td>\n",
       "      <td>negative</td>\n",
       "    </tr>\n",
       "    <tr>\n",
       "      <th>1</th>\n",
       "      <td>Room safe did not work.</td>\n",
       "      <td>negative</td>\n",
       "    </tr>\n",
       "    <tr>\n",
       "      <th>2</th>\n",
       "      <td>Mattress very comfortable.</td>\n",
       "      <td>positive</td>\n",
       "    </tr>\n",
       "    <tr>\n",
       "      <th>3</th>\n",
       "      <td>Very uncomfortable, thin mattress, with plasti...</td>\n",
       "      <td>negative</td>\n",
       "    </tr>\n",
       "    <tr>\n",
       "      <th>4</th>\n",
       "      <td>No bathroom in room</td>\n",
       "      <td>negative</td>\n",
       "    </tr>\n",
       "    <tr>\n",
       "      <th>...</th>\n",
       "      <td>...</td>\n",
       "      <td>...</td>\n",
       "    </tr>\n",
       "    <tr>\n",
       "      <th>202</th>\n",
       "      <td>Crumbs from snacks were not cleaned up for 3 d...</td>\n",
       "      <td>negative</td>\n",
       "    </tr>\n",
       "    <tr>\n",
       "      <th>203</th>\n",
       "      <td>the bathroom was a little dirty with hair at t...</td>\n",
       "      <td>negative</td>\n",
       "    </tr>\n",
       "    <tr>\n",
       "      <th>204</th>\n",
       "      <td>We had requested two queen beds and got a room...</td>\n",
       "      <td>negative</td>\n",
       "    </tr>\n",
       "    <tr>\n",
       "      <th>205</th>\n",
       "      <td>Noisy noisy suite on 4th floor.</td>\n",
       "      <td>negative</td>\n",
       "    </tr>\n",
       "    <tr>\n",
       "      <th>206</th>\n",
       "      <td>no way to lock the door.</td>\n",
       "      <td>negative</td>\n",
       "    </tr>\n",
       "  </tbody>\n",
       "</table>\n",
       "<p>207 rows × 2 columns</p>\n",
       "</div>"
      ]
     },
     "execution_count": 7,
     "metadata": {},
     "output_type": "execute_result"
    }
   ],
   "execution_count": 7
  },
  {
   "metadata": {
    "ExecuteTime": {
     "end_time": "2024-05-20T05:32:32.114837Z",
     "start_time": "2024-05-20T05:32:32.107189Z"
    }
   },
   "cell_type": "code",
   "source": [
    "list_reviews = data['Text'].to_list()\n",
    "sentiments_reviews = data['Sentiment'].to_list()\n",
    "ground_truth = pd.factorize(data['Sentiment'])"
   ],
   "id": "b62d90a4fa4e6c76",
   "outputs": [],
   "execution_count": 8
  },
  {
   "metadata": {
    "ExecuteTime": {
     "end_time": "2024-05-20T05:32:48.091641Z",
     "start_time": "2024-05-20T05:32:32.114837Z"
    }
   },
   "cell_type": "code",
   "source": [
    "predicted = []\n",
    "for id_review, values in enumerate(zip(list_reviews, sentiments_reviews)):\n",
    "    review, sentiment = values\n",
    "    result_reviews = client.analyze_sentiment([review], show_opinion_mining=True)\n",
    "    result_docs = [doc for doc in result_reviews if not doc.is_error]\n",
    "    for review_text in result_docs:\n",
    "        print(f'Review: {review} -> {review_text.sentiment}')\n",
    "        if review_text.sentiment == \"positive\":\n",
    "            predicted.append(1)\n",
    "        else:\n",
    "            predicted.append(0)"
   ],
   "id": "cbfe52c0c214b44f",
   "outputs": [
    {
     "name": "stdout",
     "output_type": "stream",
     "text": [
      "Review: The rooms are extremely small, practically only a bed. -> negative\n",
      "Review: Room safe did not work. -> negative\n",
      "Review: Mattress very comfortable. -> positive\n",
      "Review: Very uncomfortable, thin mattress, with plastic cover that rustles every time you move. -> negative\n",
      "Review: No bathroom in room -> negative\n",
      "Review: The bed was soooo comfy. -> positive\n",
      "Review: someone must have been smoking in the room next door. -> neutral\n",
      "Review: The bed is very comfortable. -> positive\n",
      "Review: Very spacious rooms, quiet and very comfortable. -> positive\n",
      "Review: For 3 people in a bedroom the sofa bed is a bit unconfortable. -> negative\n",
      "Review: Lights in the common room were too dim. -> negative\n",
      "Review: Air conditioning working fine. -> positive\n",
      "Review: So if you're the type that likes to let water run a bit before getting wet or it takes a minute to figure out how to make it hot, you're gonna get wet. -> neutral\n",
      "Review: the windows are only single glazed so the heat could escape- although to be fair it was -6 outside! -> negative\n",
      "Review: Terrible, small cubbyholes, which are marketed as rooms. -> negative\n",
      "Review: Corridors filthy\n",
      "Room filthy\n",
      "Electrical cables in room not safe\n",
      "Whole building smelly\n",
      "Shower repulsive -> negative\n",
      "Review: walls seem to have no sound insulation -> neutral\n",
      "Review: The gym was very small and basic -> negative\n",
      "Review: The mattresses were too \"springy\" and uncomfortable. -> negative\n",
      "Review: very light and the comfy of the bed was unbeatable. -> positive\n",
      "Review: Shows some wear and tear. -> neutral\n",
      "Review: Some thinks didnt work well : air, tv , open windows, -> negative\n",
      "Review: Microwave needed! -> positive\n",
      "Review: Room wasn't cleaned or bed made up -> negative\n",
      "Review: The room had cable TV, a safe, an iron, a hairdryer and free coffee & tea in the downstairs area. -> positive\n",
      "Review: The heat in the room fluctuated -- at times it felt a little draft, and on my last night, the fan was really loud. -> negative\n",
      "Review: #NAME? -> neutral\n",
      "Review: The building was under renovation, -> neutral\n",
      "Review: The water pressure was not that strong in the shower. -> negative\n",
      "Review: Room too small to open suitcase. -> negative\n",
      "Review: no elevator might be a challenge for some people -> neutral\n",
      "Review: Pay extra.. :( Room was tiny -> negative\n",
      "Review: and hip and CLEAN! -> positive\n",
      "Review: Comfortable bed and selection of pillows. -> positive\n",
      "Review: The TV was not working. -> negative\n",
      "Review: The walk up 4 stories -> neutral\n",
      "Review: Hallways to room stale and didn't feel clean. -> negative\n",
      "Review: there was a building under construction across the road which was extremely noisy throughout the day. -> negative\n",
      "Review: Bathtub not clean. -> negative\n",
      "Review: Hot water was abundant and the A/C (window unit) was ice cold - Excellent! -> positive\n",
      "Review: Access to fitness facilities, especially the pool was a real value added. -> positive\n",
      "Review: Barely room for anything else than sleep. -> negative\n",
      "Review: Lift was a bit of a pain with card access. -> negative\n",
      "Review: Could have used a little more counter room in bath and we didn't think the restaurant looked very inviting compared to the rest of the hotel. -> negative\n",
      "Review: The bed was highly uncomfortable, although the engineer fixed it -> negative\n",
      "Review: The memory foam mattress - we all agreed the best night's sleep in a hotel EVER... -> positive\n",
      "Review: Toilet paper wasn't replaced everyday! -> negative\n",
      "Review: The extra beds are not the greatest (a futon and a sleeper couch) -> negative\n",
      "Review: Room was extremely cramped. -> negative\n",
      "Review: Shower cap n sanitary bags not available in the room. -> negative\n",
      "Review: it was freezing cold in my room for the night I stayed. -> negative\n",
      "Review: Outside seating was lovely -> positive\n",
      "Review: The heating was unbelievably noisy during the night. -> negative\n",
      "Review: bed, smell. -> neutral\n",
      "Review: Bathroom area large would have been nice with a bathtub. -> positive\n",
      "Review: Shared restrooms do not support many rooms and/or many people. -> negative\n",
      "Review: Stiff feel to the place- no amenities. -> negative\n",
      "Review: Lovely room, bed was so comfortable! -> positive\n",
      "Review: Every 15 minutes door were slamming & lights on. -> negative\n",
      "Review: After that time, mostly quiet apart from some door slamming by other guests. -> neutral\n",
      "Review: The top of the window was then covered by the dirty blind. -> negative\n",
      "Review: Detest the glass \"door\" if shower/tub .. with? -> neutral\n",
      "Review: this was expected, clean towels and room cleaned every day. -> positive\n",
      "Review: Barely a few degrees warmer than outside during winter, so I had to rug up and wear shoes to use the toilet. -> neutral\n",
      "Review: ac was terrible -> negative\n",
      "Review: More plug outlets with surge protectors. -> neutral\n",
      "Review: Just to give you an idea: the shutters of the windows were not working, did not go neither up or down - just hanging down only one side and the other up.... -> negative\n",
      "Review: The phone in my room was not working. -> negative\n",
      "Review: Elevators are slow, very long lines. -> negative\n",
      "Review: Location anda facilities -> positive\n",
      "Review: There was also  garbage in our kitchen - there were isntant coffee packages left from previous customers. -> negative\n",
      "Review: Amazing facilities. -> positive\n",
      "Review: Only one elevator , -> neutral\n",
      "Review: Room was very spacious -> positive\n",
      "Review: The bathroom is dirty. -> negative\n",
      "Review: Roof terrace great -> positive\n",
      "Review: No tea or coffee making facilities in the rooms -> negative\n",
      "Review: the room had aircon and we had earplugs and slept soundly. -> neutral\n",
      "Review: Also, when the bright bathroom lights are turned on, it lights up the whole hotel room, shining thru the frosted glass panels. -> neutral\n",
      "Review: The Bed was SUPER COMFY ! -> positive\n",
      "Review: Bathroom was extra small, -> negative\n",
      "Review: Rooms are cosy with great temperature control. -> positive\n",
      "Review: Facilities were very clean. -> positive\n",
      "Review: only if you don't mind stains in your bed sheets or cockroaches in your (shared) bathroom. -> neutral\n",
      "Review: The bathroom functioned o.k. -> positive\n",
      "Review: Poor TV picture and channel selection. -> negative\n",
      "Review: No elevator. -> negative\n",
      "Review: essential gym to allow for some workout. -> neutral\n",
      "Review: Rooms quite small for price, especially if you use a travel cot. -> negative\n",
      "Review: room was not at all inviting. -> negative\n",
      "Review: Wifi connected -> neutral\n",
      "Review: Everything was very clean. -> positive\n",
      "Review: Windows haven't been cleaned for years (if ever). -> negative\n",
      "Review: Showers could do with some renovations - they seem clean, -> positive\n",
      "Review: Only cold water came out. -> neutral\n",
      "Review: the Persian decor is so half-hearted it - I'd take down the 5 lengths of Turkish bunting lanterns above the glass roofed bar or cover the whole area with them - 30 more (!) -> neutral\n",
      "Review: The toilet ran until you jiggled the handle. -> neutral\n",
      "Review: The bed was terrible and not comfortable at all -> negative\n",
      "Review: Mattresses and linens were all great. -> positive\n",
      "Review: No wardrobe, no space for luggage, no towel change, walls are not sound proof thus very noisy. -> negative\n",
      "Review: The elevators were fast - never we had to wait long for a one.On 15th floor the city noise was not bothering at all and after the whole day walking around we were sleeping execellent. -> positive\n",
      "Review: Has most things you need. -> neutral\n",
      "Review: Bed was not a full size 2,40 cm long bed, they were smaller. -> negative\n",
      "Review: very spartan. -> neutral\n",
      "Review: Room extremely small. -> negative\n",
      "Review: No walls mean oher guests being loud at all hrs. -> neutral\n",
      "Review: Very nice rooftop terrace, and gym. -> positive\n",
      "Review: Wallpaper is peeking off in places. -> neutral\n",
      "Review: Insufficient and hard to reach plugs to charge devices. -> negative\n",
      "Review: Mouse in the room,\n",
      "No Wifi,\n",
      "No cleaning service in 3 days,\n",
      "No elevators,\n",
      "Doors to outside of hotel didn't lock anymore,\n",
      "On main avenue, with constructions, one of our room was pretty loud. -> negative\n",
      "Review: No bath, only a shower, and I requested 2 queen size beds -> neutral\n",
      "Review: I called and they just hadn't received the shipment of clean towels. -> negative\n",
      "Review: The room was clean. -> positive\n",
      "Review: I don't mind the small space,\n",
      "just would have liked a bit more \"style.\" -> neutral\n",
      "Review: King Room was spacious with plenty of room to spread out and unpack, especially awesome for an extended stay. -> positive\n",
      "Review: Hotel was very clean and had character. -> positive\n",
      "Review: on HVAC vent. -> neutral\n",
      "Review: We just had to place our luggage on the floor. -> neutral\n",
      "Review: Unclean bathrooms. -> negative\n",
      "Review: Only negative was the old and very loud air conditioning in the rooms. -> negative\n",
      "Review: there was dust and tissue under the bed. -> negative\n",
      "Review: The bed was very comfy & the room spacious. -> positive\n",
      "Review: No air conditioning. -> neutral\n",
      "Review: Bath and shower were in poor condition and didn''t hold the water. -> negative\n",
      "Review: I was told I would have two double beds. -> neutral\n",
      "Review: Bathroom and shower were very good!, lighting as well. -> positive\n",
      "Review: Rooms too small. -> negative\n",
      "Review: Our room had left over garbage from whomever stayed there prior. -> negative\n",
      "Review: The floor was not very clean. -> negative\n",
      "Review: Very comfortable beds. -> positive\n",
      "Review: The only area of improvement would be the fitness center. -> neutral\n",
      "Review: The pool is the best! -> positive\n",
      "Review: good soundproofing to windows), great showerroom with excellent hot shower, good air con, free wifi and coffee maker. -> positive\n",
      "Review: 5 star qualiity towels and linen. -> positive\n",
      "Review: we only had 7 channels which four of them werent in english. -> neutral\n",
      "Review: It's much more potent and pleasant than\n",
      "any Febreeze scent.\n",
      " -> positive\n",
      "Review: Some have small televisions, flat screen, or the old 1990's tube, as well as, some of the rooms do not have that amenity.I usually book a double room, which thus far comes with a window and is a bit more spacious.The single rooms are much smaller, yet comfortable. -> mixed\n",
      "Review: Room was large for my family of 4 adults. -> neutral\n",
      "Review: My room was pretty soulless, although it did have a great view. -> positive\n",
      "Review: The room itself was very clean. -> positive\n",
      "Review: My room was immaculate and smelled so fresh and clean. -> positive\n",
      "Review: quiet place. -> positive\n",
      "Review: The room was a nice size, big enough for both my and my friend's huge suitcases to fit on the floor and for us to still move around. -> positive\n",
      "Review: The hotel was very clean. -> positive\n",
      "Review: No kettle, had to use a coffee maker to boil water for tea which was tricky as it had to be rinsed through many times. -> negative\n",
      "Review: Rooms were spotless and classy. -> negative\n",
      "Review: The front entrance could use some curb appeal. -> neutral\n",
      "Review: Bathroom was way too retro.......shower was very poor... no hand shower, poor water pressure and way too narrow.......It also had a plastic curtain which for a $650 dollar hotel room is way too nasty. -> negative\n",
      "Review: extra small rooms. -> neutral\n",
      "Review: Poor beds quality, very very noisy : would have been the same if we would have no windows. -> negative\n",
      "Review: The bathrooms have frosted glass walls,not private at all. -> neutral\n",
      "Review: Rooms are cold and you can't adjust the temperature and also heating works only a few hours in the morning. -> negative\n",
      "Review: very loud construction noise out front of our window. -> negative\n",
      "Review: The room was interior so no traffic noise. -> neutral\n",
      "Review: Room was noisy and cold. -> negative\n",
      "Review: The air-con was too noisy to leave on for too long. -> negative\n",
      "Review: still easy to reach. -> positive\n",
      "Review: The front door didn't work so we had to pry it open. -> negative\n",
      "Review: clean and tidy.\n",
      " -> positive\n",
      "Review: The bed is really terrible,especially the blanket is heavy and terrible terrible quality. -> negative\n",
      "Review: Bathroom sink tap leaked and aircon didn't work properly -> negative\n",
      "Review: We didn't like the mouse in the room. -> negative\n",
      "Review: Decent room -> positive\n",
      "Review: Loved the elegant art deco ambience. -> positive\n",
      "Review: Broken tiles in shower. -> negative\n",
      "Review: In the shower it was turned down as cold as it could be and it was still hotter than I would usually have it. -> neutral\n",
      "Review: Bed was hard and sheets were rough. -> negative\n",
      "Review: I loved that there was a coffee shop\n",
      "underneath, and it closed at 12am every night, so that I can get my late\n",
      "night coffee, if I wanted. -> positive\n",
      "Review: Dimly lit. -> negative\n",
      "Review: The towels had holes in them. -> neutral\n",
      "Review: The hotel  advertised AC as one of its amenities in its booking.com descriptions! -> neutral\n",
      "Review: The bed was super comfortable and the bathtub with jets was awesome too. -> positive\n",
      "Review: We actually enjoyed how small our room was because we knew about it ahead of time and wanted to try something really different. -> positive\n",
      "Review: Bedding was changed once, -> neutral\n",
      "Review: The same counts for the bathroom, especially the shower was great. -> positive\n",
      "Review: The hotel has a rooftop with a hot tub which has an awesome view. -> positive\n",
      "Review: It was quiet. -> neutral\n",
      "Review: Rooms are small, -> neutral\n",
      "Review: The drapes could have fit the window. -> neutral\n",
      "Review: It was very not comfortable. -> negative\n",
      "Review: Facilities were great. -> positive\n",
      "Review: Just one bed so in your room you always have to sit on the bed. -> neutral\n",
      "Review: So there could have been more convenient outlets. -> neutral\n",
      "Review: The exercise room closest to my floor was filled with big screen TVs and sheets covering them. -> neutral\n",
      "Review: a bit tight to make people either pay or leave yr room. -> neutral\n",
      "Review: Shower was intense. -> negative\n",
      "Review: The bed was very comfortable, and room minimalist -> positive\n",
      "Review: Rooms aren't very sound proof from hallway sounds. -> negative\n",
      "Review: Cool design. -> positive\n",
      "Review: Our room was very spacious, especially for NYC. -> positive\n",
      "Review: The main lobby is nice -> positive\n",
      "Review: Carpets are coming unstitched. -> neutral\n",
      "Review: It was bigger so that was nice! -> positive\n",
      "Review: Room was not cleaned even once during our stay. -> negative\n",
      "Review: Room not what we ordered or prepaid for. -> negative\n",
      "Review: The room needed to be painted, -> neutral\n",
      "Review: Sep 5-8 room 302\n",
      "Room was too small, the shower pressure was good. -> negative\n",
      "Review: Very large for Manhattan with good sized bed, flat screen TV & ample closet. -> positive\n",
      "Review: #NAME? -> neutral\n",
      "Review: Waited over 40 minutes to use shower. -> neutral\n",
      "Review: The lifts worked! -> positive\n",
      "Review: Elevators tend to be slow... -> neutral\n",
      "Review: Crumbs from snacks were not cleaned up for 3 days!! -> negative\n",
      "Review: the bathroom was a little dirty with hair at the walls -> negative\n",
      "Review: We had requested two queen beds and got a room with 1 queen and 2 twins, we were advised that there were not any other rooms and could put the (2) beds together, which we did and it was no issue as far as sleeping. -> positive\n",
      "Review: Noisy noisy suite on 4th floor. -> negative\n",
      "Review: no way to lock the door. -> negative\n"
     ]
    }
   ],
   "execution_count": 9
  },
  {
   "metadata": {
    "ExecuteTime": {
     "end_time": "2024-05-20T05:32:48.097502Z",
     "start_time": "2024-05-20T05:32:48.091641Z"
    }
   },
   "cell_type": "code",
   "source": [
    "print(predicted)\n",
    "ground_truth = ground_truth[0]\n",
    "print(ground_truth)"
   ],
   "id": "4e9b5ca373bf60ec",
   "outputs": [
    {
     "name": "stdout",
     "output_type": "stream",
     "text": [
      "[0, 0, 1, 0, 0, 1, 0, 1, 1, 0, 0, 1, 0, 0, 0, 0, 0, 0, 0, 1, 0, 0, 1, 0, 1, 0, 0, 0, 0, 0, 0, 0, 1, 1, 0, 0, 0, 0, 0, 1, 1, 0, 0, 0, 0, 1, 0, 0, 0, 0, 0, 1, 0, 0, 1, 0, 0, 1, 0, 0, 0, 0, 1, 0, 0, 0, 0, 0, 0, 1, 0, 1, 0, 1, 0, 1, 0, 0, 0, 1, 0, 1, 1, 0, 1, 0, 0, 0, 0, 0, 0, 1, 0, 1, 0, 0, 0, 0, 1, 0, 1, 0, 0, 0, 0, 0, 1, 0, 0, 0, 0, 0, 1, 0, 1, 1, 0, 0, 0, 0, 0, 1, 0, 0, 0, 1, 0, 0, 0, 1, 0, 1, 1, 1, 0, 1, 0, 0, 1, 1, 1, 1, 1, 1, 0, 0, 0, 0, 0, 0, 0, 0, 0, 0, 0, 0, 1, 0, 1, 0, 0, 0, 1, 1, 0, 0, 0, 1, 0, 0, 0, 1, 1, 0, 1, 1, 0, 0, 0, 0, 1, 0, 0, 0, 0, 0, 1, 0, 1, 1, 1, 0, 1, 0, 0, 0, 0, 1, 0, 0, 1, 0, 0, 0, 1, 0, 0]\n",
      "[0 0 1 0 0 1 0 1 1 0 0 1 0 0 0 0 0 0 0 0 0 0 0 0 1 0 0 1 0 0 0 0 1 1 0 0 0\n",
      " 0 0 1 1 0 0 0 0 1 0 0 0 0 0 0 0 0 1 0 0 1 0 0 0 0 1 0 0 0 0 0 0 1 0 1 0 1\n",
      " 0 0 0 1 0 1 0 1 1 0 0 0 0 1 0 0 0 1 0 0 0 0 0 0 1 0 1 1 0 0 0 0 1 0 0 0 0\n",
      " 0 1 0 1 1 0 0 0 0 0 1 0 0 0 1 0 0 0 1 0 1 1 1 0 1 1 1 0 1 1 1 1 1 0 1 0 0\n",
      " 0 0 0 0 0 1 0 0 1 0 0 0 0 0 1 1 0 0 0 1 0 0 0 1 1 0 1 1 1 0 0 1 1 0 0 0 0\n",
      " 1 1 0 1 1 1 0 0 0 0 0 0 1 0 0 1 0 0 0 0 0 0]\n"
     ]
    }
   ],
   "execution_count": 10
  },
  {
   "metadata": {
    "ExecuteTime": {
     "end_time": "2024-05-20T05:32:51.932417Z",
     "start_time": "2024-05-20T05:32:48.097502Z"
    }
   },
   "cell_type": "code",
   "source": [
    "from sklearn.metrics import accuracy_score\n",
    "\n",
    "print(f'Accuracy {accuracy_score(predicted, ground_truth)}')"
   ],
   "id": "5642dfb578350228",
   "outputs": [
    {
     "name": "stdout",
     "output_type": "stream",
     "text": [
      "Accuracy 0.8985507246376812\n"
     ]
    }
   ],
   "execution_count": 11
  },
  {
   "metadata": {},
   "cell_type": "markdown",
   "source": "# k-Means Library",
   "id": "4fa9e419abb19181"
  },
  {
   "metadata": {
    "ExecuteTime": {
     "end_time": "2024-05-20T05:33:08.527003Z",
     "start_time": "2024-05-20T05:32:51.932417Z"
    }
   },
   "cell_type": "code",
   "source": [
    "from gensim.models import KeyedVectors\n",
    "\n",
    "word2vec_model = KeyedVectors.load_word2vec_format(\"data/GoogleNews-vectors-negative300.bin\", binary=True)\n",
    "\n",
    "msg = message1[0].split()\n",
    "result = 0\n",
    "for word in msg:\n",
    "    word = word.strip()\n",
    "    result += word2vec_model[word] if len(word) > 2 and word in word2vec_model.index_to_key else 0\n",
    "\n",
    "result = result / len(msg)\n",
    "print(result)"
   ],
   "id": "7378e2e4e9ec1de5",
   "outputs": [
    {
     "name": "stdout",
     "output_type": "stream",
     "text": [
      "[-0.04304077  0.04303711  0.00933838 -0.00063477  0.0042334   0.00563599\n",
      "  0.0444519  -0.03330322  0.04454102  0.05844238 -0.00289063 -0.03786377\n",
      "  0.00310547  0.00273193  0.00834961  0.01220337 -0.03130127  0.04852539\n",
      " -0.0118988   0.03140137 -0.00813133  0.06179687 -0.02397217  0.024077\n",
      "  0.00498535 -0.00852646 -0.05765503  0.03287842  0.0245813  -0.01949707\n",
      "  0.02625366 -0.01031738  0.0034375   0.02036133  0.01613769 -0.04096191\n",
      "  0.01537331 -0.04107178  0.01603027  0.02294434  0.00482422  0.00379395\n",
      "  0.00846588  0.02636231 -0.05333008 -0.0294751  -0.01579834  0.03224976\n",
      "  0.01113892  0.02836182  0.01843262  0.03191528  0.00327148  0.00170166\n",
      "  0.03438476  0.02916992 -0.06543457 -0.05528198  0.01521912 -0.02749023\n",
      "  0.00321289  0.03508789 -0.05106445 -0.0327832   0.0144165  -0.01025879\n",
      " -0.03026856  0.03092041 -0.00800049  0.01854981 -0.00800934  0.02458496\n",
      "  0.01207275 -0.01600586 -0.0347937  -0.05670898  0.05134     0.00733521\n",
      " -0.02066895  0.0239624  -0.00335114 -0.03385254 -0.00436523 -0.01598389\n",
      " -0.02766113 -0.0527356  -0.05075683  0.04275879  0.01605469  0.02206543\n",
      "  0.02126709 -0.02291984 -0.017901   -0.04225586 -0.0319751  -0.01550201\n",
      " -0.00852905 -0.00284286  0.00722168  0.00404785 -0.02036133 -0.02398437\n",
      "  0.02216553  0.04551819  0.02225342 -0.01187256  0.01578613 -0.08143555\n",
      "  0.01461914 -0.03056152 -0.03517578 -0.01157105 -0.00563599  0.00293457\n",
      "  0.05699219  0.00693848 -0.01895264  0.01836182  0.01014496  0.03411621\n",
      " -0.03269775 -0.00041016 -0.04022949  0.02291016 -0.02125     0.0095813\n",
      " -0.04246094 -0.02401855  0.00056885  0.04683838 -0.00818603 -0.04577148\n",
      " -0.06296875 -0.00171997 -0.00492676 -0.01283203  0.01392578  0.01561157\n",
      "  0.02921692  0.05033936  0.01014465 -0.02180603 -0.02681152 -0.02085938\n",
      " -0.01025147 -0.00363708 -0.00335449 -0.01230469  0.03155395 -0.02180031\n",
      "  0.03857422 -0.00973633 -0.00651337  0.02005859  0.00468689  0.02746094\n",
      "  0.03844421 -0.01520721 -0.06892578 -0.02146362 -0.00229004  0.01155014\n",
      "  0.03172363  0.0316333   0.0132019  -0.00083405 -0.00886719 -0.03098877\n",
      " -0.01915772 -0.04066651 -0.00493164 -0.01493652  0.03544922 -0.00106445\n",
      "  0.0138501   0.01240875  0.01388428 -0.047854   -0.01084961  0.02933594\n",
      " -0.05738373 -0.03993408  0.00074219 -0.00362793 -0.00011475 -0.00889832\n",
      " -0.04463013  0.04408569 -0.00018066  0.00590332 -0.01010742  0.00473511\n",
      " -0.00513184 -0.00489075 -0.02449951 -0.04593262  0.00560059  0.0145752\n",
      "  0.01377258 -0.03935143  0.00463379  0.00411133  0.01463253 -0.03316559\n",
      " -0.02157227  0.00769531 -0.03000977 -0.00260742  0.0049884  -0.01753906\n",
      "  0.01462791  0.00430176 -0.00234009  0.04991211  0.0046167  -0.00233887\n",
      "  0.00293579  0.01021973 -0.00871582 -0.00016846 -0.01164551 -0.05486817\n",
      "  0.01312012  0.00135254 -0.01667481 -0.04244141  0.05291992 -0.02893066\n",
      "  0.01884277  0.01398926 -0.0145166   0.03600098  0.02472412 -0.01362885\n",
      " -0.01622559 -0.00994629  0.03243576 -0.01150879  0.04891602 -0.01622559\n",
      " -0.02619263 -0.04319824 -0.00043213 -0.02931641  0.00220703 -0.03393921\n",
      " -0.02509247  0.01961792 -0.03171997 -0.04471191 -0.03849609  0.00953613\n",
      " -0.00651978  0.01036133  0.01600586  0.0219751   0.04837158  0.00665039\n",
      " -0.03662109  0.01001953 -0.0045227   0.01015625  0.01033447 -0.02873047\n",
      "  0.03726868  0.05800781 -0.03511475 -0.01354988 -0.03256836  0.00378906\n",
      " -0.00233398  0.030327    0.00431641  0.00366394 -0.00855713 -0.08660156\n",
      " -0.02843628 -0.02342041 -0.05414062 -0.01623779 -0.00636963 -0.00474854\n",
      " -0.00094727 -0.02595703 -0.00661133  0.01030762 -0.03119141  0.00927612\n",
      "  0.04549316 -0.00966064 -0.01695068  0.00509155 -0.05753296  0.00257568\n",
      " -0.03468262 -0.01097534  0.04765137  0.00172363  0.01729492  0.00810059]\n"
     ]
    }
   ],
   "execution_count": 12
  },
  {
   "metadata": {
    "ExecuteTime": {
     "end_time": "2024-05-20T05:33:08.553952Z",
     "start_time": "2024-05-20T05:33:08.527003Z"
    }
   },
   "cell_type": "code",
   "source": [
    "from random import shuffle\n",
    "\n",
    "indexes = [i for i in range(len(list_reviews))]\n",
    "shuffle(indexes)\n",
    "train_indexes = indexes[:int(0.78 * len(indexes))]\n",
    "train_input = [list_reviews[i] for i in train_indexes]\n",
    "test_input = [list_reviews[i] for i in indexes if i not in train_indexes]\n",
    "test_output = [ground_truth[i] for i in indexes if i not in train_indexes]"
   ],
   "id": "978c7802e047f055",
   "outputs": [],
   "execution_count": 13
  },
  {
   "metadata": {
    "ExecuteTime": {
     "end_time": "2024-05-20T05:33:08.565227Z",
     "start_time": "2024-05-20T05:33:08.553952Z"
    }
   },
   "cell_type": "code",
   "source": [
    "import numpy as np\n",
    "\n",
    "\n",
    "def train_feature_w2v(data_arg):\n",
    "    result_list = []\n",
    "    for prop in data_arg:\n",
    "        feature = 0\n",
    "        list_words = prop.split()\n",
    "        for word_arg in list_words:\n",
    "            word_arg = word_arg.strip()\n",
    "            if word_arg in word2vec_model.index_to_key and len(word_arg) > 2:\n",
    "                feature += np.mean(word2vec_model[word_arg])\n",
    "            else:\n",
    "                feature += 0\n",
    "\n",
    "        feature = feature / len(list_words)\n",
    "        result_list.append(feature)\n",
    "\n",
    "    return numpy.array(result_list).reshape(-1, 1)"
   ],
   "id": "a5793875c8bfd265",
   "outputs": [],
   "execution_count": 14
  },
  {
   "metadata": {
    "ExecuteTime": {
     "end_time": "2024-05-20T05:33:19.120211Z",
     "start_time": "2024-05-20T05:33:08.574234Z"
    }
   },
   "cell_type": "code",
   "source": [
    "train_input = train_feature_w2v(train_input)\n",
    "test_input = train_feature_w2v(test_input)"
   ],
   "id": "a58241cd70a15eb9",
   "outputs": [],
   "execution_count": 15
  },
  {
   "metadata": {
    "ExecuteTime": {
     "end_time": "2024-05-20T05:33:20.429992Z",
     "start_time": "2024-05-20T05:33:19.120211Z"
    }
   },
   "cell_type": "code",
   "source": [
    "from sklearn.cluster import KMeans\n",
    "\n",
    "unsupervisedClassifier = KMeans(n_clusters=2, random_state=0)\n",
    "unsupervisedClassifier.fit(train_input)"
   ],
   "id": "6f1328232e91dce",
   "outputs": [
    {
     "data": {
      "text/plain": [
       "KMeans(n_clusters=2, random_state=0)"
      ],
      "text/html": [
       "<style>#sk-container-id-1 {\n",
       "  /* Definition of color scheme common for light and dark mode */\n",
       "  --sklearn-color-text: black;\n",
       "  --sklearn-color-line: gray;\n",
       "  /* Definition of color scheme for unfitted estimators */\n",
       "  --sklearn-color-unfitted-level-0: #fff5e6;\n",
       "  --sklearn-color-unfitted-level-1: #f6e4d2;\n",
       "  --sklearn-color-unfitted-level-2: #ffe0b3;\n",
       "  --sklearn-color-unfitted-level-3: chocolate;\n",
       "  /* Definition of color scheme for fitted estimators */\n",
       "  --sklearn-color-fitted-level-0: #f0f8ff;\n",
       "  --sklearn-color-fitted-level-1: #d4ebff;\n",
       "  --sklearn-color-fitted-level-2: #b3dbfd;\n",
       "  --sklearn-color-fitted-level-3: cornflowerblue;\n",
       "\n",
       "  /* Specific color for light theme */\n",
       "  --sklearn-color-text-on-default-background: var(--sg-text-color, var(--theme-code-foreground, var(--jp-content-font-color1, black)));\n",
       "  --sklearn-color-background: var(--sg-background-color, var(--theme-background, var(--jp-layout-color0, white)));\n",
       "  --sklearn-color-border-box: var(--sg-text-color, var(--theme-code-foreground, var(--jp-content-font-color1, black)));\n",
       "  --sklearn-color-icon: #696969;\n",
       "\n",
       "  @media (prefers-color-scheme: dark) {\n",
       "    /* Redefinition of color scheme for dark theme */\n",
       "    --sklearn-color-text-on-default-background: var(--sg-text-color, var(--theme-code-foreground, var(--jp-content-font-color1, white)));\n",
       "    --sklearn-color-background: var(--sg-background-color, var(--theme-background, var(--jp-layout-color0, #111)));\n",
       "    --sklearn-color-border-box: var(--sg-text-color, var(--theme-code-foreground, var(--jp-content-font-color1, white)));\n",
       "    --sklearn-color-icon: #878787;\n",
       "  }\n",
       "}\n",
       "\n",
       "#sk-container-id-1 {\n",
       "  color: var(--sklearn-color-text);\n",
       "}\n",
       "\n",
       "#sk-container-id-1 pre {\n",
       "  padding: 0;\n",
       "}\n",
       "\n",
       "#sk-container-id-1 input.sk-hidden--visually {\n",
       "  border: 0;\n",
       "  clip: rect(1px 1px 1px 1px);\n",
       "  clip: rect(1px, 1px, 1px, 1px);\n",
       "  height: 1px;\n",
       "  margin: -1px;\n",
       "  overflow: hidden;\n",
       "  padding: 0;\n",
       "  position: absolute;\n",
       "  width: 1px;\n",
       "}\n",
       "\n",
       "#sk-container-id-1 div.sk-dashed-wrapped {\n",
       "  border: 1px dashed var(--sklearn-color-line);\n",
       "  margin: 0 0.4em 0.5em 0.4em;\n",
       "  box-sizing: border-box;\n",
       "  padding-bottom: 0.4em;\n",
       "  background-color: var(--sklearn-color-background);\n",
       "}\n",
       "\n",
       "#sk-container-id-1 div.sk-container {\n",
       "  /* jupyter's `normalize.less` sets `[hidden] { display: none; }`\n",
       "     but bootstrap.min.css set `[hidden] { display: none !important; }`\n",
       "     so we also need the `!important` here to be able to override the\n",
       "     default hidden behavior on the sphinx rendered scikit-learn.org.\n",
       "     See: https://github.com/scikit-learn/scikit-learn/issues/21755 */\n",
       "  display: inline-block !important;\n",
       "  position: relative;\n",
       "}\n",
       "\n",
       "#sk-container-id-1 div.sk-text-repr-fallback {\n",
       "  display: none;\n",
       "}\n",
       "\n",
       "div.sk-parallel-item,\n",
       "div.sk-serial,\n",
       "div.sk-item {\n",
       "  /* draw centered vertical line to link estimators */\n",
       "  background-image: linear-gradient(var(--sklearn-color-text-on-default-background), var(--sklearn-color-text-on-default-background));\n",
       "  background-size: 2px 100%;\n",
       "  background-repeat: no-repeat;\n",
       "  background-position: center center;\n",
       "}\n",
       "\n",
       "/* Parallel-specific style estimator block */\n",
       "\n",
       "#sk-container-id-1 div.sk-parallel-item::after {\n",
       "  content: \"\";\n",
       "  width: 100%;\n",
       "  border-bottom: 2px solid var(--sklearn-color-text-on-default-background);\n",
       "  flex-grow: 1;\n",
       "}\n",
       "\n",
       "#sk-container-id-1 div.sk-parallel {\n",
       "  display: flex;\n",
       "  align-items: stretch;\n",
       "  justify-content: center;\n",
       "  background-color: var(--sklearn-color-background);\n",
       "  position: relative;\n",
       "}\n",
       "\n",
       "#sk-container-id-1 div.sk-parallel-item {\n",
       "  display: flex;\n",
       "  flex-direction: column;\n",
       "}\n",
       "\n",
       "#sk-container-id-1 div.sk-parallel-item:first-child::after {\n",
       "  align-self: flex-end;\n",
       "  width: 50%;\n",
       "}\n",
       "\n",
       "#sk-container-id-1 div.sk-parallel-item:last-child::after {\n",
       "  align-self: flex-start;\n",
       "  width: 50%;\n",
       "}\n",
       "\n",
       "#sk-container-id-1 div.sk-parallel-item:only-child::after {\n",
       "  width: 0;\n",
       "}\n",
       "\n",
       "/* Serial-specific style estimator block */\n",
       "\n",
       "#sk-container-id-1 div.sk-serial {\n",
       "  display: flex;\n",
       "  flex-direction: column;\n",
       "  align-items: center;\n",
       "  background-color: var(--sklearn-color-background);\n",
       "  padding-right: 1em;\n",
       "  padding-left: 1em;\n",
       "}\n",
       "\n",
       "\n",
       "/* Toggleable style: style used for estimator/Pipeline/ColumnTransformer box that is\n",
       "clickable and can be expanded/collapsed.\n",
       "- Pipeline and ColumnTransformer use this feature and define the default style\n",
       "- Estimators will overwrite some part of the style using the `sk-estimator` class\n",
       "*/\n",
       "\n",
       "/* Pipeline and ColumnTransformer style (default) */\n",
       "\n",
       "#sk-container-id-1 div.sk-toggleable {\n",
       "  /* Default theme specific background. It is overwritten whether we have a\n",
       "  specific estimator or a Pipeline/ColumnTransformer */\n",
       "  background-color: var(--sklearn-color-background);\n",
       "}\n",
       "\n",
       "/* Toggleable label */\n",
       "#sk-container-id-1 label.sk-toggleable__label {\n",
       "  cursor: pointer;\n",
       "  display: block;\n",
       "  width: 100%;\n",
       "  margin-bottom: 0;\n",
       "  padding: 0.5em;\n",
       "  box-sizing: border-box;\n",
       "  text-align: center;\n",
       "}\n",
       "\n",
       "#sk-container-id-1 label.sk-toggleable__label-arrow:before {\n",
       "  /* Arrow on the left of the label */\n",
       "  content: \"▸\";\n",
       "  float: left;\n",
       "  margin-right: 0.25em;\n",
       "  color: var(--sklearn-color-icon);\n",
       "}\n",
       "\n",
       "#sk-container-id-1 label.sk-toggleable__label-arrow:hover:before {\n",
       "  color: var(--sklearn-color-text);\n",
       "}\n",
       "\n",
       "/* Toggleable content - dropdown */\n",
       "\n",
       "#sk-container-id-1 div.sk-toggleable__content {\n",
       "  max-height: 0;\n",
       "  max-width: 0;\n",
       "  overflow: hidden;\n",
       "  text-align: left;\n",
       "  /* unfitted */\n",
       "  background-color: var(--sklearn-color-unfitted-level-0);\n",
       "}\n",
       "\n",
       "#sk-container-id-1 div.sk-toggleable__content.fitted {\n",
       "  /* fitted */\n",
       "  background-color: var(--sklearn-color-fitted-level-0);\n",
       "}\n",
       "\n",
       "#sk-container-id-1 div.sk-toggleable__content pre {\n",
       "  margin: 0.2em;\n",
       "  border-radius: 0.25em;\n",
       "  color: var(--sklearn-color-text);\n",
       "  /* unfitted */\n",
       "  background-color: var(--sklearn-color-unfitted-level-0);\n",
       "}\n",
       "\n",
       "#sk-container-id-1 div.sk-toggleable__content.fitted pre {\n",
       "  /* unfitted */\n",
       "  background-color: var(--sklearn-color-fitted-level-0);\n",
       "}\n",
       "\n",
       "#sk-container-id-1 input.sk-toggleable__control:checked~div.sk-toggleable__content {\n",
       "  /* Expand drop-down */\n",
       "  max-height: 200px;\n",
       "  max-width: 100%;\n",
       "  overflow: auto;\n",
       "}\n",
       "\n",
       "#sk-container-id-1 input.sk-toggleable__control:checked~label.sk-toggleable__label-arrow:before {\n",
       "  content: \"▾\";\n",
       "}\n",
       "\n",
       "/* Pipeline/ColumnTransformer-specific style */\n",
       "\n",
       "#sk-container-id-1 div.sk-label input.sk-toggleable__control:checked~label.sk-toggleable__label {\n",
       "  color: var(--sklearn-color-text);\n",
       "  background-color: var(--sklearn-color-unfitted-level-2);\n",
       "}\n",
       "\n",
       "#sk-container-id-1 div.sk-label.fitted input.sk-toggleable__control:checked~label.sk-toggleable__label {\n",
       "  background-color: var(--sklearn-color-fitted-level-2);\n",
       "}\n",
       "\n",
       "/* Estimator-specific style */\n",
       "\n",
       "/* Colorize estimator box */\n",
       "#sk-container-id-1 div.sk-estimator input.sk-toggleable__control:checked~label.sk-toggleable__label {\n",
       "  /* unfitted */\n",
       "  background-color: var(--sklearn-color-unfitted-level-2);\n",
       "}\n",
       "\n",
       "#sk-container-id-1 div.sk-estimator.fitted input.sk-toggleable__control:checked~label.sk-toggleable__label {\n",
       "  /* fitted */\n",
       "  background-color: var(--sklearn-color-fitted-level-2);\n",
       "}\n",
       "\n",
       "#sk-container-id-1 div.sk-label label.sk-toggleable__label,\n",
       "#sk-container-id-1 div.sk-label label {\n",
       "  /* The background is the default theme color */\n",
       "  color: var(--sklearn-color-text-on-default-background);\n",
       "}\n",
       "\n",
       "/* On hover, darken the color of the background */\n",
       "#sk-container-id-1 div.sk-label:hover label.sk-toggleable__label {\n",
       "  color: var(--sklearn-color-text);\n",
       "  background-color: var(--sklearn-color-unfitted-level-2);\n",
       "}\n",
       "\n",
       "/* Label box, darken color on hover, fitted */\n",
       "#sk-container-id-1 div.sk-label.fitted:hover label.sk-toggleable__label.fitted {\n",
       "  color: var(--sklearn-color-text);\n",
       "  background-color: var(--sklearn-color-fitted-level-2);\n",
       "}\n",
       "\n",
       "/* Estimator label */\n",
       "\n",
       "#sk-container-id-1 div.sk-label label {\n",
       "  font-family: monospace;\n",
       "  font-weight: bold;\n",
       "  display: inline-block;\n",
       "  line-height: 1.2em;\n",
       "}\n",
       "\n",
       "#sk-container-id-1 div.sk-label-container {\n",
       "  text-align: center;\n",
       "}\n",
       "\n",
       "/* Estimator-specific */\n",
       "#sk-container-id-1 div.sk-estimator {\n",
       "  font-family: monospace;\n",
       "  border: 1px dotted var(--sklearn-color-border-box);\n",
       "  border-radius: 0.25em;\n",
       "  box-sizing: border-box;\n",
       "  margin-bottom: 0.5em;\n",
       "  /* unfitted */\n",
       "  background-color: var(--sklearn-color-unfitted-level-0);\n",
       "}\n",
       "\n",
       "#sk-container-id-1 div.sk-estimator.fitted {\n",
       "  /* fitted */\n",
       "  background-color: var(--sklearn-color-fitted-level-0);\n",
       "}\n",
       "\n",
       "/* on hover */\n",
       "#sk-container-id-1 div.sk-estimator:hover {\n",
       "  /* unfitted */\n",
       "  background-color: var(--sklearn-color-unfitted-level-2);\n",
       "}\n",
       "\n",
       "#sk-container-id-1 div.sk-estimator.fitted:hover {\n",
       "  /* fitted */\n",
       "  background-color: var(--sklearn-color-fitted-level-2);\n",
       "}\n",
       "\n",
       "/* Specification for estimator info (e.g. \"i\" and \"?\") */\n",
       "\n",
       "/* Common style for \"i\" and \"?\" */\n",
       "\n",
       ".sk-estimator-doc-link,\n",
       "a:link.sk-estimator-doc-link,\n",
       "a:visited.sk-estimator-doc-link {\n",
       "  float: right;\n",
       "  font-size: smaller;\n",
       "  line-height: 1em;\n",
       "  font-family: monospace;\n",
       "  background-color: var(--sklearn-color-background);\n",
       "  border-radius: 1em;\n",
       "  height: 1em;\n",
       "  width: 1em;\n",
       "  text-decoration: none !important;\n",
       "  margin-left: 1ex;\n",
       "  /* unfitted */\n",
       "  border: var(--sklearn-color-unfitted-level-1) 1pt solid;\n",
       "  color: var(--sklearn-color-unfitted-level-1);\n",
       "}\n",
       "\n",
       ".sk-estimator-doc-link.fitted,\n",
       "a:link.sk-estimator-doc-link.fitted,\n",
       "a:visited.sk-estimator-doc-link.fitted {\n",
       "  /* fitted */\n",
       "  border: var(--sklearn-color-fitted-level-1) 1pt solid;\n",
       "  color: var(--sklearn-color-fitted-level-1);\n",
       "}\n",
       "\n",
       "/* On hover */\n",
       "div.sk-estimator:hover .sk-estimator-doc-link:hover,\n",
       ".sk-estimator-doc-link:hover,\n",
       "div.sk-label-container:hover .sk-estimator-doc-link:hover,\n",
       ".sk-estimator-doc-link:hover {\n",
       "  /* unfitted */\n",
       "  background-color: var(--sklearn-color-unfitted-level-3);\n",
       "  color: var(--sklearn-color-background);\n",
       "  text-decoration: none;\n",
       "}\n",
       "\n",
       "div.sk-estimator.fitted:hover .sk-estimator-doc-link.fitted:hover,\n",
       ".sk-estimator-doc-link.fitted:hover,\n",
       "div.sk-label-container:hover .sk-estimator-doc-link.fitted:hover,\n",
       ".sk-estimator-doc-link.fitted:hover {\n",
       "  /* fitted */\n",
       "  background-color: var(--sklearn-color-fitted-level-3);\n",
       "  color: var(--sklearn-color-background);\n",
       "  text-decoration: none;\n",
       "}\n",
       "\n",
       "/* Span, style for the box shown on hovering the info icon */\n",
       ".sk-estimator-doc-link span {\n",
       "  display: none;\n",
       "  z-index: 9999;\n",
       "  position: relative;\n",
       "  font-weight: normal;\n",
       "  right: .2ex;\n",
       "  padding: .5ex;\n",
       "  margin: .5ex;\n",
       "  width: min-content;\n",
       "  min-width: 20ex;\n",
       "  max-width: 50ex;\n",
       "  color: var(--sklearn-color-text);\n",
       "  box-shadow: 2pt 2pt 4pt #999;\n",
       "  /* unfitted */\n",
       "  background: var(--sklearn-color-unfitted-level-0);\n",
       "  border: .5pt solid var(--sklearn-color-unfitted-level-3);\n",
       "}\n",
       "\n",
       ".sk-estimator-doc-link.fitted span {\n",
       "  /* fitted */\n",
       "  background: var(--sklearn-color-fitted-level-0);\n",
       "  border: var(--sklearn-color-fitted-level-3);\n",
       "}\n",
       "\n",
       ".sk-estimator-doc-link:hover span {\n",
       "  display: block;\n",
       "}\n",
       "\n",
       "/* \"?\"-specific style due to the `<a>` HTML tag */\n",
       "\n",
       "#sk-container-id-1 a.estimator_doc_link {\n",
       "  float: right;\n",
       "  font-size: 1rem;\n",
       "  line-height: 1em;\n",
       "  font-family: monospace;\n",
       "  background-color: var(--sklearn-color-background);\n",
       "  border-radius: 1rem;\n",
       "  height: 1rem;\n",
       "  width: 1rem;\n",
       "  text-decoration: none;\n",
       "  /* unfitted */\n",
       "  color: var(--sklearn-color-unfitted-level-1);\n",
       "  border: var(--sklearn-color-unfitted-level-1) 1pt solid;\n",
       "}\n",
       "\n",
       "#sk-container-id-1 a.estimator_doc_link.fitted {\n",
       "  /* fitted */\n",
       "  border: var(--sklearn-color-fitted-level-1) 1pt solid;\n",
       "  color: var(--sklearn-color-fitted-level-1);\n",
       "}\n",
       "\n",
       "/* On hover */\n",
       "#sk-container-id-1 a.estimator_doc_link:hover {\n",
       "  /* unfitted */\n",
       "  background-color: var(--sklearn-color-unfitted-level-3);\n",
       "  color: var(--sklearn-color-background);\n",
       "  text-decoration: none;\n",
       "}\n",
       "\n",
       "#sk-container-id-1 a.estimator_doc_link.fitted:hover {\n",
       "  /* fitted */\n",
       "  background-color: var(--sklearn-color-fitted-level-3);\n",
       "}\n",
       "</style><div id=\"sk-container-id-1\" class=\"sk-top-container\"><div class=\"sk-text-repr-fallback\"><pre>KMeans(n_clusters=2, random_state=0)</pre><b>In a Jupyter environment, please rerun this cell to show the HTML representation or trust the notebook. <br />On GitHub, the HTML representation is unable to render, please try loading this page with nbviewer.org.</b></div><div class=\"sk-container\" hidden><div class=\"sk-item\"><div class=\"sk-estimator fitted sk-toggleable\"><input class=\"sk-toggleable__control sk-hidden--visually\" id=\"sk-estimator-id-1\" type=\"checkbox\" checked><label for=\"sk-estimator-id-1\" class=\"sk-toggleable__label fitted sk-toggleable__label-arrow fitted\">&nbsp;&nbsp;KMeans<a class=\"sk-estimator-doc-link fitted\" rel=\"noreferrer\" target=\"_blank\" href=\"https://scikit-learn.org/1.4/modules/generated/sklearn.cluster.KMeans.html\">?<span>Documentation for KMeans</span></a><span class=\"sk-estimator-doc-link fitted\">i<span>Fitted</span></span></label><div class=\"sk-toggleable__content fitted\"><pre>KMeans(n_clusters=2, random_state=0)</pre></div> </div></div></div></div>"
      ]
     },
     "execution_count": 16,
     "metadata": {},
     "output_type": "execute_result"
    }
   ],
   "execution_count": 16
  },
  {
   "metadata": {
    "ExecuteTime": {
     "end_time": "2024-05-20T05:33:20.443949Z",
     "start_time": "2024-05-20T05:33:20.429992Z"
    }
   },
   "cell_type": "code",
   "source": [
    "predicted = unsupervisedClassifier.predict(test_input)\n",
    "print(predicted)\n",
    "\n",
    "from sklearn.metrics import accuracy_score\n",
    "\n",
    "print(f'Accuracy {accuracy_score(predicted, test_output)}')"
   ],
   "id": "4d435474529f861b",
   "outputs": [
    {
     "name": "stdout",
     "output_type": "stream",
     "text": [
      "[0 0 1 1 0 1 0 1 1 0 0 1 1 1 0 0 1 1 1 1 0 1 1 1 0 0 1 1 0 0 0 1 1 0 0 0 0\n",
      " 1 1 0 1 0 0 0 1 0]\n",
      "Accuracy 0.41304347826086957\n"
     ]
    }
   ],
   "execution_count": 17
  },
  {
   "metadata": {},
   "cell_type": "markdown",
   "source": "# Caracteristici Text",
   "id": "91b45e6dde9d385f"
  },
  {
   "metadata": {},
   "cell_type": "markdown",
   "source": "#### Word2Vec",
   "id": "badccf5d5314361f"
  },
  {
   "metadata": {
    "ExecuteTime": {
     "end_time": "2024-05-20T05:33:31.162222Z",
     "start_time": "2024-05-20T05:33:20.443949Z"
    }
   },
   "cell_type": "code",
   "source": "print(train_feature_w2v(list_reviews))",
   "id": "a2a45d49eacc46a5",
   "outputs": [
    {
     "name": "stdout",
     "output_type": "stream",
     "text": [
      "[[ 5.51530302e-04]\n",
      " [-7.89918203e-03]\n",
      " [ 1.20708719e-04]\n",
      " [-2.91614156e-03]\n",
      " [-7.80057933e-04]\n",
      " [ 5.53961648e-03]\n",
      " [-2.62512314e-03]\n",
      " [ 2.77012633e-03]\n",
      " [ 1.75775335e-03]\n",
      " [ 2.14963463e-03]\n",
      " [-1.25564337e-03]\n",
      " [-3.25449929e-03]\n",
      " [ 1.70277354e-04]\n",
      " [ 2.73243503e-05]\n",
      " [-3.33943526e-03]\n",
      " [-3.25928880e-03]\n",
      " [-6.41692671e-03]\n",
      " [-5.50329452e-04]\n",
      " [ 2.50389640e-03]\n",
      " [ 5.01922425e-04]\n",
      " [ 1.73737276e-03]\n",
      " [ 4.86911105e-04]\n",
      " [-1.19704101e-02]\n",
      " [ 2.10887007e-03]\n",
      " [-8.66632021e-04]\n",
      " [-6.48121926e-04]\n",
      " [ 0.00000000e+00]\n",
      " [ 4.08136332e-04]\n",
      " [-2.84907816e-04]\n",
      " [-5.87699326e-03]\n",
      " [-4.96243418e-03]\n",
      " [-1.73921904e-03]\n",
      " [ 3.42458079e-04]\n",
      " [ 1.63113062e-03]\n",
      " [ 3.65401038e-03]\n",
      " [ 2.33177184e-03]\n",
      " [-3.39563545e-03]\n",
      " [-2.45665410e-03]\n",
      " [-7.14185483e-04]\n",
      " [-3.62016747e-04]\n",
      " [-1.05173533e-03]\n",
      " [ 1.53841526e-04]\n",
      " [-1.07705919e-04]\n",
      " [-6.01600924e-04]\n",
      " [-2.24175480e-03]\n",
      " [-1.68062594e-03]\n",
      " [-1.56398816e-03]\n",
      " [-1.67012852e-03]\n",
      " [ 4.63997247e-04]\n",
      " [-2.45256618e-03]\n",
      " [ 1.85435027e-03]\n",
      " [-3.21402098e-04]\n",
      " [ 3.90698206e-04]\n",
      " [ 0.00000000e+00]\n",
      " [-1.84034333e-03]\n",
      " [-7.02539286e-03]\n",
      " [-2.92214758e-03]\n",
      " [ 2.48689298e-03]\n",
      " [-8.20543526e-04]\n",
      " [ 2.93429063e-04]\n",
      " [-1.66883558e-03]\n",
      " [-1.81112207e-03]\n",
      " [ 3.97248663e-03]\n",
      " [-7.51447673e-06]\n",
      " [ 4.98651015e-03]\n",
      " [-4.19792429e-04]\n",
      " [-2.34590695e-03]\n",
      " [ 1.24797400e-03]\n",
      " [-2.16015343e-03]\n",
      " [-1.65027215e-02]\n",
      " [-7.05664868e-04]\n",
      " [-3.55347479e-03]\n",
      " [-9.53198364e-03]\n",
      " [-1.05074490e-04]\n",
      " [-1.49590196e-04]\n",
      " [-8.35485291e-03]\n",
      " [-5.30089041e-03]\n",
      " [-1.95556932e-03]\n",
      " [-3.59411655e-03]\n",
      " [ 3.95934656e-03]\n",
      " [-1.05367159e-04]\n",
      " [ 6.85768801e-04]\n",
      " [ 4.96122998e-03]\n",
      " [-3.23278954e-03]\n",
      " [-2.43318244e-03]\n",
      " [ 2.59906977e-03]\n",
      " [ 0.00000000e+00]\n",
      " [-2.25088065e-03]\n",
      " [-3.23692576e-03]\n",
      " [ 1.46116333e-03]\n",
      " [-1.06274855e-02]\n",
      " [ 5.72104010e-03]\n",
      " [-7.02456295e-04]\n",
      " [ 1.40223409e-03]\n",
      " [ 2.29186472e-04]\n",
      " [-3.36421488e-03]\n",
      " [-2.12889994e-03]\n",
      " [ 5.43936039e-04]\n",
      " [-1.64866552e-03]\n",
      " [-1.95923563e-03]\n",
      " [-2.11491928e-03]\n",
      " [-1.41950937e-03]\n",
      " [-1.30470809e-03]\n",
      " [ 3.30010103e-03]\n",
      " [-4.98841361e-03]\n",
      " [-3.07094239e-03]\n",
      " [-1.53513082e-04]\n",
      " [ 5.92220652e-04]\n",
      " [-3.10663610e-03]\n",
      " [-6.56398169e-04]\n",
      " [-1.88923460e-03]\n",
      " [-1.36556802e-03]\n",
      " [ 5.13529887e-03]\n",
      " [-6.36204628e-04]\n",
      " [-2.20811505e-03]\n",
      " [ 5.83832352e-03]\n",
      " [-1.12188533e-02]\n",
      " [-2.65807247e-03]\n",
      " [-1.18084589e-03]\n",
      " [ 1.08467035e-03]\n",
      " [-8.79570842e-04]\n",
      " [ 2.38597705e-03]\n",
      " [-4.84299567e-03]\n",
      " [-1.58912962e-03]\n",
      " [ 4.20749353e-03]\n",
      " [-3.02854532e-03]\n",
      " [ 9.72404455e-04]\n",
      " [-4.01424879e-04]\n",
      " [ 3.27737038e-03]\n",
      " [ 1.38244002e-03]\n",
      " [-9.49880388e-04]\n",
      " [-2.37995982e-03]\n",
      " [-5.46281014e-03]\n",
      " [ 3.30304463e-03]\n",
      " [-1.20174920e-03]\n",
      " [-2.98079427e-03]\n",
      " [-9.77399931e-04]\n",
      " [-1.63970064e-03]\n",
      " [ 2.12651666e-03]\n",
      " [ 3.25059544e-03]\n",
      " [ 2.90982508e-03]\n",
      " [-2.84297694e-03]\n",
      " [ 7.46075931e-04]\n",
      " [ 6.21558456e-03]\n",
      " [-2.79000303e-03]\n",
      " [ 2.61520687e-04]\n",
      " [-2.37229996e-03]\n",
      " [ 3.68495170e-05]\n",
      " [-7.11022705e-03]\n",
      " [ 5.94066404e-04]\n",
      " [-4.70831136e-03]\n",
      " [-2.57171103e-03]\n",
      " [-5.19696569e-03]\n",
      " [ 9.66257830e-04]\n",
      " [-2.93802544e-03]\n",
      " [ 2.19741177e-03]\n",
      " [-2.94952908e-03]\n",
      " [ 2.08569430e-03]\n",
      " [ 2.89851396e-03]\n",
      " [-1.95200457e-03]\n",
      " [-4.08082600e-03]\n",
      " [-1.45821045e-03]\n",
      " [-1.70385363e-03]\n",
      " [ 1.44481441e-03]\n",
      " [-1.07928943e-02]\n",
      " [ 1.83567914e-03]\n",
      " [ 4.14642441e-03]\n",
      " [ 1.75049196e-04]\n",
      " [-1.53733573e-03]\n",
      " [ 1.67129313e-03]\n",
      " [-1.68292716e-03]\n",
      " [ 1.15365879e-03]\n",
      " [ 3.14313789e-05]\n",
      " [ 1.57784660e-03]\n",
      " [ 7.60304953e-04]\n",
      " [-9.65479803e-04]\n",
      " [ 5.60707661e-03]\n",
      " [ 1.53122796e-03]\n",
      " [-6.95635508e-04]\n",
      " [ 4.34986714e-03]\n",
      " [ 4.41490595e-03]\n",
      " [-3.05014026e-03]\n",
      " [-1.73297807e-03]\n",
      " [-1.57881634e-03]\n",
      " [-1.24263599e-03]\n",
      " [ 6.37720463e-03]\n",
      " [ 4.15042137e-03]\n",
      " [-2.39435356e-03]\n",
      " [-4.01437143e-03]\n",
      " [ 1.49210453e-03]\n",
      " [-2.84396242e-03]\n",
      " [ 2.49995428e-03]\n",
      " [ 4.24027614e-03]\n",
      " [-8.75441047e-04]\n",
      " [-4.32130643e-03]\n",
      " [-5.64881416e-04]\n",
      " [ 3.10439469e-04]\n",
      " [-2.78325786e-03]\n",
      " [ 0.00000000e+00]\n",
      " [-2.92405170e-03]\n",
      " [ 1.73799771e-04]\n",
      " [-5.40492628e-03]\n",
      " [-2.59588074e-03]\n",
      " [ 1.66593471e-03]\n",
      " [ 1.20342212e-03]\n",
      " [-6.22720287e-03]\n",
      " [-1.18646782e-03]]\n"
     ]
    }
   ],
   "execution_count": 18
  },
  {
   "metadata": {},
   "cell_type": "markdown",
   "source": "#### Bag of words",
   "id": "65e95b2095e34f5f"
  },
  {
   "metadata": {
    "ExecuteTime": {
     "end_time": "2024-05-20T05:33:31.224278Z",
     "start_time": "2024-05-20T05:33:31.162222Z"
    }
   },
   "cell_type": "code",
   "source": [
    "from sklearn.feature_extraction.text import CountVectorizer\n",
    "\n",
    "vectorizer = CountVectorizer()"
   ],
   "id": "5838058f4cdc4d13",
   "outputs": [],
   "execution_count": 19
  },
  {
   "metadata": {
    "ExecuteTime": {
     "end_time": "2024-05-20T05:33:31.228898Z",
     "start_time": "2024-05-20T05:33:31.224278Z"
    }
   },
   "cell_type": "code",
   "source": [
    "indexes = [i for i in range(len(list_reviews))]\n",
    "shuffle(indexes)\n",
    "train_indexes = indexes[:int(0.78 * len(indexes))]\n",
    "train_input = [list_reviews[i] for i in train_indexes]\n",
    "test_input = [list_reviews[i] for i in indexes if i not in train_indexes]"
   ],
   "id": "1dcc49b0587ba086",
   "outputs": [],
   "execution_count": 20
  },
  {
   "metadata": {
    "ExecuteTime": {
     "end_time": "2024-05-20T05:33:31.251432Z",
     "start_time": "2024-05-20T05:33:31.228898Z"
    }
   },
   "cell_type": "code",
   "source": [
    "train_input = vectorizer.fit_transform(train_input)\n",
    "test_input = vectorizer.transform(test_input)"
   ],
   "id": "a353b40607bcdcd2",
   "outputs": [],
   "execution_count": 21
  },
  {
   "metadata": {
    "ExecuteTime": {
     "end_time": "2024-05-20T05:33:31.255759Z",
     "start_time": "2024-05-20T05:33:31.251432Z"
    }
   },
   "cell_type": "code",
   "source": "print(type(train_input))",
   "id": "a40acc19c7d31df2",
   "outputs": [
    {
     "name": "stdout",
     "output_type": "stream",
     "text": [
      "<class 'scipy.sparse._csr.csr_matrix'>\n"
     ]
    }
   ],
   "execution_count": 22
  },
  {
   "metadata": {
    "ExecuteTime": {
     "end_time": "2024-05-20T05:33:31.265276Z",
     "start_time": "2024-05-20T05:33:31.255759Z"
    }
   },
   "cell_type": "code",
   "source": [
    "print(\"vocab size: \", len(vectorizer.vocabulary_), \" words\")\n",
    "print(\"trainFeatures shape: \", train_input.shape)\n",
    "\n",
    "print('some words of the vocab: ', vectorizer.get_feature_names_out()[-20:])\n",
    "print('some features: ', train_input.toarray()[:3])"
   ],
   "id": "70876d3281d8c717",
   "outputs": [
    {
     "name": "stdout",
     "output_type": "stream",
     "text": [
      "vocab size:  552  words\n",
      "trainFeatures shape:  (161, 552)\n",
      "some words of the vocab:  ['were' 'what' 'when' 'which' 'whole' 'whomever' 'wifi' 'window' 'windows'\n",
      " 'with' 'work' 'worked' 'working' 'workout' 'works' 'would' 'years' 'you'\n",
      " 'your' 'yr']\n",
      "some features:  [[0 0 0 ... 0 0 0]\n",
      " [0 0 0 ... 0 0 0]\n",
      " [0 0 0 ... 0 0 0]]\n"
     ]
    }
   ],
   "execution_count": 23
  },
  {
   "metadata": {},
   "cell_type": "markdown",
   "source": "#### TF-IDF",
   "id": "8ee7ef469ae559c9"
  },
  {
   "metadata": {
    "ExecuteTime": {
     "end_time": "2024-05-20T05:33:31.273798Z",
     "start_time": "2024-05-20T05:33:31.265276Z"
    }
   },
   "cell_type": "code",
   "source": [
    "indexes = [i for i in range(len(list_reviews))]\n",
    "shuffle(indexes)\n",
    "train_indexes = indexes[:int(0.78 * len(indexes))]\n",
    "train_input = [list_reviews[i] for i in train_indexes]\n",
    "test_input = [list_reviews[i] for i in indexes if i not in train_indexes]"
   ],
   "id": "11a5cdae7ddf2ca5",
   "outputs": [],
   "execution_count": 24
  },
  {
   "metadata": {
    "ExecuteTime": {
     "end_time": "2024-05-20T05:33:31.293924Z",
     "start_time": "2024-05-20T05:33:31.273798Z"
    }
   },
   "cell_type": "code",
   "source": [
    "from sklearn.feature_extraction.text import TfidfVectorizer\n",
    "\n",
    "vectorizer = TfidfVectorizer(max_features=50)\n",
    "\n",
    "trainFeatures = vectorizer.fit_transform(train_input)\n",
    "testFeatures = vectorizer.transform(test_input)\n",
    "\n",
    "print('vocab: ', vectorizer.get_feature_names_out()[:10])\n",
    "print('features: ', trainFeatures.toarray()[:3])"
   ],
   "id": "c7826ccdf813629",
   "outputs": [
    {
     "name": "stdout",
     "output_type": "stream",
     "text": [
      "vocab:  ['and' 'are' 'as' 'at' 'bathroom' 'be' 'bed' 'clean' 'coffee'\n",
      " 'comfortable']\n",
      "features:  [[0.         0.         0.         0.         0.44287434 0.\n",
      "  0.         0.         0.         0.         0.         0.36177099\n",
      "  0.         0.         0.         0.         0.         0.\n",
      "  0.         0.         0.         0.         0.         0.\n",
      "  0.         0.         0.         0.         0.         0.\n",
      "  0.         0.41217578 0.         0.         0.         0.\n",
      "  0.         0.66621965 0.         0.         0.         0.\n",
      "  0.24340619 0.         0.         0.         0.         0.\n",
      "  0.         0.        ]\n",
      " [0.         0.         0.         0.         0.         0.\n",
      "  0.         0.46679612 0.         0.         0.53113217 0.\n",
      "  0.         0.         0.         0.         0.         0.\n",
      "  0.         0.         0.         0.         0.         0.\n",
      "  0.         0.         0.         0.         0.         0.\n",
      "  0.         0.         0.         0.         0.53113217 0.\n",
      "  0.         0.         0.         0.         0.         0.\n",
      "  0.         0.         0.         0.         0.         0.46679612\n",
      "  0.         0.        ]\n",
      " [0.         0.         0.27197748 0.         0.         0.26221791\n",
      "  0.         0.         0.27197748 0.         0.         0.19575171\n",
      "  0.44605076 0.         0.         0.         0.         0.20604108\n",
      "  0.         0.         0.         0.21833347 0.         0.\n",
      "  0.         0.         0.         0.         0.         0.\n",
      "  0.         0.         0.         0.         0.         0.\n",
      "  0.         0.         0.55262576 0.         0.         0.\n",
      "  0.13170536 0.26221791 0.         0.         0.25376379 0.\n",
      "  0.         0.        ]]\n"
     ]
    }
   ],
   "execution_count": 25
  },
  {
   "metadata": {},
   "cell_type": "markdown",
   "source": "## Extra ",
   "id": "c5e31bfbde6bf6fb"
  },
  {
   "metadata": {},
   "cell_type": "markdown",
   "source": "#### CBOW",
   "id": "3336ebdcb1656f3c"
  },
  {
   "metadata": {
    "ExecuteTime": {
     "end_time": "2024-05-20T05:33:31.298720Z",
     "start_time": "2024-05-20T05:33:31.293924Z"
    }
   },
   "cell_type": "code",
   "source": [
    "indexes = [i for i in range(len(list_reviews))]\n",
    "shuffle(indexes)\n",
    "train_indexes = indexes[:int(0.78 * len(indexes))]\n",
    "train_input = [list_reviews[i] for i in train_indexes]"
   ],
   "id": "a6f81f3a37381a3",
   "outputs": [],
   "execution_count": 26
  },
  {
   "metadata": {
    "ExecuteTime": {
     "end_time": "2024-05-20T05:33:33.316192Z",
     "start_time": "2024-05-20T05:33:31.298720Z"
    }
   },
   "cell_type": "code",
   "source": [
    "from nltk import word_tokenize\n",
    "\n",
    "train_input = [word_tokenize(review) for review in train_input]"
   ],
   "id": "9be0d356e55e3b2d",
   "outputs": [],
   "execution_count": 27
  },
  {
   "metadata": {
    "ExecuteTime": {
     "end_time": "2024-05-20T05:33:33.581919Z",
     "start_time": "2024-05-20T05:33:33.316192Z"
    }
   },
   "cell_type": "code",
   "source": [
    "from gensim.models import Word2Vec\n",
    "\n",
    "cbow_model = Word2Vec(train_input, min_count=1, window=5, sg=0)\n",
    "\n",
    "cbow_model.train(train_input, total_examples=len(train_input), epochs=100)\n",
    "print(cbow_model.wv)"
   ],
   "id": "b17db48892da9572",
   "outputs": [
    {
     "name": "stdout",
     "output_type": "stream",
     "text": [
      "KeyedVectors<vector_size=100, 644 keys>\n"
     ]
    }
   ],
   "execution_count": 28
  },
  {
   "metadata": {},
   "cell_type": "markdown",
   "source": "#### Cosine Similarity",
   "id": "f6c07a92298186dd"
  },
  {
   "metadata": {
    "ExecuteTime": {
     "end_time": "2024-05-20T05:34:15.623215Z",
     "start_time": "2024-05-20T05:33:33.581919Z"
    }
   },
   "cell_type": "code",
   "source": [
    "propozitia1 = \"Eu sunt Calin.\"\n",
    "propozitia2 = \"Eu nu sunt Calin, sunt Marius.\"\n",
    "\n",
    "distance = word2vec_model.wmdistance(propozitia1, propozitia2)\n",
    "print(distance)"
   ],
   "id": "56e0fc8442888570",
   "outputs": [
    {
     "name": "stdout",
     "output_type": "stream",
     "text": [
      "0.18761169147478268\n"
     ]
    }
   ],
   "execution_count": 29
  },
  {
   "metadata": {},
   "cell_type": "markdown",
   "source": "# K-means manual",
   "id": "cf4455c5ca09d702"
  },
  {
   "metadata": {
    "ExecuteTime": {
     "end_time": "2024-05-20T06:00:59.384410Z",
     "start_time": "2024-05-20T06:00:59.376934Z"
    }
   },
   "cell_type": "code",
   "source": [
    "import math\n",
    "\n",
    "\n",
    "def euclidian_distance(a, b):\n",
    "    sum_value = 0\n",
    "    for elem_a, elem_b in zip(a, b):\n",
    "        sum_value += (elem_a - elem_b) ** 2\n",
    "    return math.sqrt(np.sum(sum_value))"
   ],
   "id": "9753749d374abf1",
   "outputs": [],
   "execution_count": 69
  },
  {
   "metadata": {
    "ExecuteTime": {
     "end_time": "2024-05-20T06:00:59.447452Z",
     "start_time": "2024-05-20T06:00:59.424574Z"
    }
   },
   "cell_type": "code",
   "source": [
    "def stop(old_c, c, no_iteration):\n",
    "    if no_iteration > 10000:\n",
    "        return True\n",
    "    return old_c == c\n",
    "\n",
    "\n",
    "class KMeans:\n",
    "\n",
    "    def __init__(self, input_size, number_of_classes):\n",
    "        self.input_size = input_size\n",
    "        self.centroids = None\n",
    "        self.number_of_classes = number_of_classes\n",
    "\n",
    "    def fit(self, train_data_arg):\n",
    "        values_random = random.sample(list(train_data_arg), self.number_of_classes)\n",
    "        self.centroids = np.array([[x] for x in values_random])\n",
    "        no_iteration = 0\n",
    "        old_c = None\n",
    "        c = []\n",
    "        while not stop(old_c, c, no_iteration):\n",
    "            old_c = c.copy()\n",
    "            c = []\n",
    "            no_iteration += 1\n",
    "            for i in range(len(train_data_arg)):\n",
    "                # c_min = np.linalg.norm(self.centroids[0] - train_data_arg[i])\n",
    "                c_min = euclidian_distance(self.centroids[0], train_data_arg[i])\n",
    "                c_index = 0\n",
    "                for j in range(1, len(self.centroids)):\n",
    "                    # d = np.linalg.norm(self.centroids[j] - train_data_arg[i])\n",
    "                    d = euclidian_distance(self.centroids[j], train_data_arg[i])\n",
    "                    if c_min > d:\n",
    "                        c_index = j\n",
    "                        c_min = d\n",
    "                c.append(c_index)\n",
    "\n",
    "            for j in range(len(self.centroids)):\n",
    "                denominator = 0\n",
    "                numerator = 0\n",
    "                for i in range(len(c)):\n",
    "                    if c[i] == j:\n",
    "                        numerator += train_data_arg[i]\n",
    "                        denominator += 1\n",
    "\n",
    "                self.centroids[j] = numerator / denominator if denominator != 0 \\\n",
    "                    else train_data_arg[random.randint(0, len(train_data_arg) - 1)]\n",
    "\n",
    "    def predict(self, test_data_arg):\n",
    "        result_predict = []\n",
    "        for i in range(len(test_data_arg)):\n",
    "            c_min = np.linalg.norm(self.centroids[0] - test_data_arg[i])\n",
    "            c_index = 0\n",
    "            for j in range(1, len(self.centroids)):\n",
    "                d = euclidian_distance(self.centroids[j], test_data_arg[i])\n",
    "                if c_min > d:\n",
    "                    c_index = j\n",
    "                    c_min = d\n",
    "\n",
    "            result_predict.append(c_index)\n",
    "\n",
    "        return result_predict"
   ],
   "id": "aba60adb5744ab49",
   "outputs": [],
   "execution_count": 70
  },
  {
   "metadata": {
    "ExecuteTime": {
     "end_time": "2024-05-20T06:01:10.520276Z",
     "start_time": "2024-05-20T06:00:59.455959Z"
    }
   },
   "cell_type": "code",
   "source": [
    "from random import shuffle\n",
    "\n",
    "indexes = [i for i in range(len(list_reviews))]\n",
    "shuffle(indexes)\n",
    "train_indexes = indexes[:int(0.75 * len(indexes))]\n",
    "train_input = [list_reviews[i] for i in train_indexes]\n",
    "test_input = [list_reviews[i] for i in indexes if i not in train_indexes]\n",
    "test_output = [ground_truth[i] for i in indexes if i not in train_indexes]\n",
    "\n",
    "train_input = train_feature_w2v(train_input)\n",
    "test_input = train_feature_w2v(test_input)"
   ],
   "id": "e3401905e581054e",
   "outputs": [],
   "execution_count": 71
  },
  {
   "metadata": {
    "ExecuteTime": {
     "end_time": "2024-05-20T06:01:10.544498Z",
     "start_time": "2024-05-20T06:01:10.520276Z"
    }
   },
   "cell_type": "code",
   "source": [
    "unsupervisedClassifier = KMeans(1, 2)\n",
    "unsupervisedClassifier.fit(train_input)\n",
    "predicted = unsupervisedClassifier.predict(test_input)\n",
    "\n",
    "from sklearn.metrics import accuracy_score\n",
    "\n",
    "print(f'Accuracy {accuracy_score(predicted, test_output)}')"
   ],
   "id": "67390bb76f4782e5",
   "outputs": [
    {
     "name": "stdout",
     "output_type": "stream",
     "text": [
      "Accuracy 0.5\n"
     ]
    }
   ],
   "execution_count": 72
  },
  {
   "metadata": {},
   "cell_type": "markdown",
   "source": "# Alternative la K-means",
   "id": "a11bb97f90712f2c"
  },
  {
   "metadata": {
    "ExecuteTime": {
     "end_time": "2024-05-20T06:01:22.101609Z",
     "start_time": "2024-05-20T06:01:10.544498Z"
    }
   },
   "cell_type": "code",
   "source": [
    "from random import shuffle\n",
    "\n",
    "indexes = [i for i in range(len(list_reviews))]\n",
    "shuffle(indexes)\n",
    "train_indexes = indexes[:int(0.75 * len(indexes))]\n",
    "train_input = [list_reviews[i] for i in train_indexes]\n",
    "test_input = [list_reviews[i] for i in indexes if i not in train_indexes]\n",
    "test_output = [ground_truth[i] for i in indexes if i not in train_indexes]\n",
    "\n",
    "train_input = train_feature_w2v(train_input)\n",
    "test_input = train_feature_w2v(test_input)"
   ],
   "id": "234522b4361c9da",
   "outputs": [],
   "execution_count": 73
  },
  {
   "metadata": {
    "ExecuteTime": {
     "end_time": "2024-05-20T06:01:22.523198Z",
     "start_time": "2024-05-20T06:01:22.101609Z"
    }
   },
   "cell_type": "code",
   "source": [
    "from matplotlib import pyplot as plt\n",
    "from sklearn.cluster import MeanShift\n",
    "\n",
    "# Apply Mean Shift clustering\n",
    "ms = MeanShift()\n",
    "ms.fit(train_input)\n",
    "labels = ms.labels_\n",
    "cluster_centers = ms.cluster_centers_\n",
    "\n",
    "# Number of clusters\n",
    "n_clusters = len(np.unique(labels))\n",
    "\n",
    "print(\"Number of estimated clusters:\", n_clusters)\n",
    "print(cluster_centers)\n",
    "# Plot the clusters\n",
    "plt.figure(figsize=(8, 6))\n",
    "plt.scatter(train_input[:, 0], np.zeros_like(train_input[:, 0]), c=labels, cmap='viridis')\n",
    "plt.scatter(cluster_centers[:, 0], np.zeros_like(cluster_centers), marker='x', color='red', s=100, linewidths=4)\n",
    "plt.title('Estimated number of clusters: {}'.format(n_clusters))\n",
    "plt.xlabel('Feature 1')\n",
    "plt.ylabel('Feature 2')\n",
    "plt.show()"
   ],
   "id": "33441ba18bad8a6d",
   "outputs": [
    {
     "name": "stdout",
     "output_type": "stream",
     "text": [
      "Number of estimated clusters: 3\n",
      "[[-0.00127455]\n",
      " [-0.00955955]\n",
      " [-0.01650272]]\n"
     ]
    },
    {
     "data": {
      "text/plain": [
       "<Figure size 800x600 with 1 Axes>"
      ],
      "image/png": "[encoded data removed]"
     },
     "metadata": {},
     "output_type": "display_data"
    }
   ],
   "execution_count": 74
  },
  {
   "metadata": {
    "ExecuteTime": {
     "end_time": "2024-05-20T06:01:22.529672Z",
     "start_time": "2024-05-20T06:01:22.523198Z"
    }
   },
   "cell_type": "code",
   "source": [
    "predicted = ms.predict(test_input)\n",
    "from sklearn.metrics import accuracy_score\n",
    "\n",
    "print(f'Accuracy {accuracy_score(predicted, test_output)}')"
   ],
   "id": "1e3473cdbdf28709",
   "outputs": [
    {
     "name": "stdout",
     "output_type": "stream",
     "text": [
      "Accuracy 0.6923076923076923\n"
     ]
    }
   ],
   "execution_count": 75
  },
  {
   "metadata": {
    "ExecuteTime": {
     "end_time": "2024-05-20T06:01:34.484615Z",
     "start_time": "2024-05-20T06:01:22.529672Z"
    }
   },
   "cell_type": "code",
   "source": [
    "from random import shuffle\n",
    "\n",
    "indexes = [i for i in range(len(list_reviews))]\n",
    "shuffle(indexes)\n",
    "train_indexes = indexes[:int(0.75 * len(indexes))]\n",
    "train_input = [list_reviews[i] for i in train_indexes]\n",
    "test_input = [list_reviews[i] for i in indexes if i not in train_indexes]\n",
    "test_output = [ground_truth[i] for i in indexes if i not in train_indexes]\n",
    "\n",
    "train_input = train_feature_w2v(train_input)\n",
    "test_input = train_feature_w2v(test_input)"
   ],
   "id": "51213bddd463669a",
   "outputs": [],
   "execution_count": 76
  },
  {
   "metadata": {
    "ExecuteTime": {
     "end_time": "2024-05-20T06:01:34.550662Z",
     "start_time": "2024-05-20T06:01:34.486133Z"
    }
   },
   "cell_type": "code",
   "source": [
    "from sklearn.cluster import SpectralClustering\n",
    "\n",
    "spectral_clustering = SpectralClustering(n_clusters=1, affinity='nearest_neighbors', random_state=0)\n",
    "spectral_clustering.fit(train_input)\n",
    "\n",
    "predicted = spectral_clustering.fit_predict(test_input)"
   ],
   "id": "1da0008ca126a962",
   "outputs": [],
   "execution_count": 77
  },
  {
   "metadata": {
    "ExecuteTime": {
     "end_time": "2024-05-20T06:01:34.557488Z",
     "start_time": "2024-05-20T06:01:34.550662Z"
    }
   },
   "cell_type": "code",
   "source": [
    "from sklearn.metrics import accuracy_score\n",
    "\n",
    "print(f'Accuracy {accuracy_score(predicted, test_output)}')"
   ],
   "id": "e1bd46c8125023e9",
   "outputs": [
    {
     "name": "stdout",
     "output_type": "stream",
     "text": [
      "Accuracy 0.6923076923076923\n"
     ]
    }
   ],
   "execution_count": 78
  }
 ],
 "metadata": {
  "kernelspec": {
   "display_name": "Python 3",
   "language": "python",
   "name": "python3"
  },
  "language_info": {
   "codemirror_mode": {
    "name": "ipython",
    "version": 2
   },
   "file_extension": ".py",
   "mimetype": "text/x-python",
   "name": "python",
   "nbconvert_exporter": "python",
   "pygments_lexer": "ipython2",
   "version": "2.7.6"
  }
 },
 "nbformat": 4,
 "nbformat_minor": 5
}
