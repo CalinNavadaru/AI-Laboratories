{
 "cells": [
  {
   "cell_type": "markdown",
   "source": [
    "# Problema 1"
   ],
   "metadata": {
    "collapsed": false
   },
   "id": "6b1d9d18fd4c58ad"
  },
  {
   "cell_type": "code",
   "source": [
    "import os\n",
    "\n",
    "import numpy as np\n",
    "import pandas as pd\n",
    "from matplotlib import pyplot as plt\n",
    "from pandas.api.types import is_numeric_dtype\n",
    "\n",
    "table = pd.read_csv('data/employees.csv', delimiter=',', header='infer')\n",
    "print(\"Numarul de angajati este: {}\".format(table.shape[0]))\n",
    "print(\"Numarul informatiilor despre fiecare angajat este: {}\".format(table.shape[1]))\n",
    "print(\"Informatiile despre angajati sunt: {}\".format(table.columns))\n",
    "complete_employees = table[table.notnull().all(axis=1)].dropna(axis=1, how='any').dropna(axis=0, how='any')\n",
    "print(\"Numarul de angajati cu date complete: {}\".format(complete_employees.shape[0]))\n",
    "for prop in table.columns:\n",
    "    if not is_numeric_dtype(table[prop][0]):\n",
    "        print(\"Propietatea {}\".format(prop))\n",
    "        a = table.groupby(prop).count()\n",
    "        b = table[prop].unique()\n",
    "        print(\"Numarul de posibilitati {}\".format(a.shape[0]))\n",
    "        print(\"Numarul de posibilitati {}\".format(b.shape[0]),\n",
    "              end='\\n--------------------------------------------------------------\\n')\n",
    "    else:\n",
    "        print(\"Minimul pentru propietatea {} este {}\\nMaximul este {}\\nMedia este {}\".format(\n",
    "            prop,\n",
    "            table[prop].min(),\n",
    "            table[prop].max(),\n",
    "            table[prop].mean()\n",
    "        ), end='\\n--------------------------------------------------------------\\n')\n",
    "\n",
    "print(\"Sunt valori lipsa: {}\".format(table[table.isnull().any(axis=1)].shape[0] != 0))\n",
    "print(table)"
   ],
   "metadata": {
    "collapsed": true
   },
   "id": "initial_id",
   "outputs": [],
   "execution_count": null
  },
  {
   "cell_type": "code",
   "source": [
    "complete_employees['Salary'].plot(kind='hist', bins=complete_employees['Salary'].nunique())\n",
    "\n",
    "plt.show()\n",
    "# complete_employees['Team'].value_counts().plot(kind='hist', bins=complete_employees['Team'].nunique())"
   ],
   "metadata": {
    "collapsed": false
   },
   "id": "4b247e7f8fe767b3",
   "outputs": [],
   "execution_count": null
  },
  {
   "cell_type": "code",
   "source": [
    "complete_employees['Team'].value_counts().plot(kind='hist', bins=complete_employees['Team'].nunique())"
   ],
   "metadata": {
    "collapsed": false
   },
   "id": "fc97308ed7fb558a",
   "outputs": [],
   "execution_count": null
  },
  {
   "cell_type": "code",
   "source": [
    "complete_employees['Bonus %'].plot(kind='hist', bins=complete_employees['Bonus %'].nunique())"
   ],
   "metadata": {
    "collapsed": false
   },
   "id": "cbe0162e8e4e0c36",
   "outputs": [],
   "execution_count": null
  },
  {
   "cell_type": "code",
   "source": [
    "fig = plt.figure(figsize=(15, 5))\n",
    "salary = complete_employees.copy(deep=True)\n",
    "cat_salary = pd.cut(salary.Salary, bins=[0, 40000, 60000, 80000, 100000, np.inf], right=False, include_lowest=True,\n",
    "                    labels=['<40000', '40000-60000', '60000-80000', '80000-100000', '>100000'])\n",
    "\n",
    "# Count the occurrences of each category\n",
    "counts = cat_salary.value_counts()\n",
    "\n",
    "# Define the bins manually\n",
    "bins = np.arange(len(counts) + 1)\n",
    "\n",
    "plt.hist(cat_salary, bins=bins - 0.5, align='mid')  # Centering bins\n",
    "\n",
    "plt.xticks(\n",
    "    np.arange(len(counts)),\n",
    "    ['<40000', '40000-60000', '60000-80000', '80000-100000', '>100000'],\n",
    "    rotation=0,\n",
    "    ha='center'\n",
    ")\n",
    "plt.show()\n"
   ],
   "metadata": {
    "collapsed": false
   },
   "id": "7f85a7c2e83daa4c",
   "outputs": [],
   "execution_count": null
  },
  {
   "cell_type": "code",
   "source": [
    "_, ax = plt.subplots(figsize=(15, 5))\n",
    "s = table.copy(deep=True)\n",
    "s.groupby('Team')['Salary'].mean().plot(kind='bar', ax=ax)\n",
    "\n",
    "plt.xlabel('Team')\n",
    "plt.tight_layout()\n",
    "plt.show()"
   ],
   "metadata": {
    "collapsed": false
   },
   "id": "e8fdff4e04d05cd",
   "outputs": [],
   "execution_count": null
  },
  {
   "cell_type": "code",
   "source": [
    "print(salary)\n",
    "\n",
    "_, ax = plt.subplots(figsize=(15, 5))\n",
    "salary = complete_employees.copy(deep=True)\n",
    "salary.groupby('Team')['Salary'].mean().plot(kind='bar', ax=ax)\n",
    "\n",
    "plt.xlabel('Team')\n",
    "plt.tight_layout()\n",
    "plt.show()"
   ],
   "metadata": {
    "collapsed": false
   },
   "id": "2c0bf2181f40d8a",
   "outputs": [],
   "execution_count": null
  },
  {
   "cell_type": "code",
   "source": [
    "salary = complete_employees.copy(deep=True)\n",
    "print(salary)\n",
    "a = salary.Salary.describe().loc['75%']\n",
    "b = salary.Salary.describe().loc['25%']\n",
    "diff = a - b\n",
    "lower_limit = b - 1.5 * diff\n",
    "upper_limit = a + 1.5 * diff\n",
    "outliers = salary[(salary.Salary < lower_limit) | (salary.Salary > upper_limit)]\n",
    "print(outliers)"
   ],
   "metadata": {
    "collapsed": false
   },
   "id": "cc7d99a8ba9d3b2f",
   "outputs": [],
   "execution_count": null
  },
  {
   "cell_type": "markdown",
   "source": [
    "# Normalizarea datelor"
   ],
   "metadata": {
    "collapsed": false
   },
   "id": "baa773685c14e7f7"
  },
  {
   "cell_type": "code",
   "source": [
    "complete_employees['Salary'] = (complete_employees['Salary'] - complete_employees['Salary'].min()) / (complete_employees['Salary'].max() - complete_employees['Salary'].min())\n",
    "complete_employees['Salary'].plot(kind='hist', bins=complete_employees['Salary'].nunique())"
   ],
   "metadata": {
    "collapsed": false
   },
   "id": "e5d4c727f111469a",
   "outputs": [],
   "execution_count": null
  },
  {
   "cell_type": "code",
   "source": [
    "complete_employees['Bonus %'] = (complete_employees['Bonus %'] - complete_employees['Bonus %'].min()) / (complete_employees['Bonus %'].max() - complete_employees['Bonus %'].min())\n",
    "complete_employees['Bonus %'].plot(kind='hist', bins=complete_employees['Bonus %'].nunique())"
   ],
   "metadata": {
    "collapsed": false
   },
   "id": "2261ad22b76200a9",
   "outputs": [],
   "execution_count": null
  },
  {
   "cell_type": "code",
   "source": [
    "complete_employees['Normalized Team'] = pd.Categorical(complete_employees['Team']).codes\n",
    "complete_employees['Normalized Team'] = (complete_employees['Normalized Team'] - complete_employees['Normalized Team'].min()) / (complete_employees['Normalized Team'].max() - complete_employees['Normalized Team'].min())\n",
    "complete_employees['Normalized Team'].plot(kind='hist', bins=complete_employees['Normalized Team'].nunique())"
   ],
   "metadata": {
    "collapsed": false
   },
   "id": "6f11296fe3eac4a8",
   "outputs": [],
   "execution_count": null
  },
  {
   "cell_type": "markdown",
   "source": [
    "# Problema 2"
   ],
   "metadata": {
    "collapsed": false
   },
   "id": "9401ffdd2d0e7dd9"
  },
  {
   "cell_type": "code",
   "source": [
    "\n",
    "from PIL import Image\n",
    "\n",
    "\n",
    "def open_images():\n",
    "    image_list = []\n",
    "    for filename in os.listdir('data/images'):\n",
    "        image = Image.open('data/images/{}'.format(filename)).convert(\"RGB\")\n",
    "        image_list.append(image)\n",
    "\n",
    "    return image_list\n",
    "\n",
    "\n",
    "img_list = open_images()\n",
    "_, ax = plt.subplots(1, len(img_list), figsize=(15, 5))\n",
    "for index, img in enumerate(img_list):\n",
    "    if img.mode == 'L':\n",
    "        ax[index].imshow(img, cmap='gray', vmin=0, vmax=255)\n",
    "    else:\n",
    "        ax[index].imshow(img, vmin=0, vmax=255)\n",
    "    ax[index].axis('off')\n",
    "\n",
    "plt.tight_layout()\n",
    "plt.show()"
   ],
   "metadata": {
    "collapsed": false
   },
   "id": "c39ac1132c178cbe",
   "outputs": [],
   "execution_count": null
  },
  {
   "cell_type": "code",
   "source": [
    "img_list = open_images()\n",
    "new_list = []\n",
    "for img in img_list:\n",
    "    img_new = img.resize((128, 128))\n",
    "    new_list.append(img_new)\n",
    "\n",
    "img_list = new_list\n",
    "_, ax = plt.subplots(1, len(img_list), figsize=(15, 5))\n",
    "for index, img in enumerate(img_list):\n",
    "    if img.mode == 'L':\n",
    "        ax[index].imshow(img, cmap='gray', vmin=0, vmax=255)\n",
    "    else:\n",
    "        ax[index].imshow(img, vmin=0, vmax=255)\n",
    "    ax[index].axis('off')\n",
    "\n",
    "plt.tight_layout()\n",
    "plt.show()"
   ],
   "metadata": {
    "collapsed": false
   },
   "id": "5b6534ab2dbbf3a5",
   "outputs": [],
   "execution_count": null
  },
  {
   "cell_type": "code",
   "source": [
    "from PIL import ImageFilter\n",
    "\n",
    "img_list = open_images()\n",
    "new_list = []\n",
    "for img in img_list:\n",
    "    img_new = img.resize((128, 128))\n",
    "    img_new = img_new.filter(ImageFilter.BLUR)\n",
    "    new_list.append(img_new)\n",
    "\n",
    "img_list = new_list\n",
    "_, ax = plt.subplots(1, len(img_list), figsize=(15, 5))\n",
    "for index, img in enumerate(img_list):\n",
    "    if img.mode == 'L':\n",
    "        ax[index].imshow(img, cmap='gray', vmin=0, vmax=255)\n",
    "    else:\n",
    "        ax[index].imshow(img, vmin=0, vmax=255)\n",
    "    ax[index].axis('off')\n",
    "\n",
    "plt.tight_layout()\n",
    "plt.show()"
   ],
   "metadata": {
    "collapsed": false
   },
   "id": "df641694b356b918",
   "outputs": [],
   "execution_count": null
  },
  {
   "cell_type": "code",
   "source": [
    "img_list = open_images()\n",
    "new_list = []\n",
    "for img in img_list:\n",
    "    img_new = img.resize((128, 128))\n",
    "    img_new = img_new.convert('L')\n",
    "    new_list.append(img_new)\n",
    "\n",
    "img_list = new_list\n",
    "_, ax = plt.subplots(1, len(img_list), figsize=(15, 5))\n",
    "for index, img in enumerate(img_list):\n",
    "    if img.mode == 'L':\n",
    "        ax[index].imshow(img, cmap='gray', vmin=0, vmax=255)\n",
    "    else:\n",
    "        ax[index].imshow(img, vmin=0, vmax=255)\n",
    "    ax[index].axis('off')\n",
    "\n",
    "plt.tight_layout()\n",
    "plt.show()"
   ],
   "metadata": {
    "collapsed": false
   },
   "id": "2e7b859bc03fd178",
   "outputs": [],
   "execution_count": null
  },
  {
   "cell_type": "code",
   "source": [
    "from PIL import ImageFilter\n",
    "\n",
    "img_list = open_images()\n",
    "new_list = []\n",
    "for img in img_list:\n",
    "    img_new = img.resize((128, 128))\n",
    "    img_new = img_new.filter(ImageFilter.BLUR)\n",
    "    new_list.append(img_new)\n",
    "\n",
    "_, ax = plt.subplots(2, len(img_list), figsize=(15, 5))\n",
    "for index, img in enumerate(img_list):\n",
    "    if img.mode == 'L':\n",
    "        ax[0][index].imshow(img, cmap='gray', vmin=0, vmax=255)\n",
    "    else:\n",
    "        ax[0][index].imshow(img, vmin=0, vmax=255)\n",
    "    ax[0][index].axis('off')\n",
    "\n",
    "for index, img in enumerate(new_list):\n",
    "    if img.mode == 'L':\n",
    "        ax[1][index].imshow(img, cmap='gray', vmin=0, vmax=255)\n",
    "    else:\n",
    "        ax[1][index].imshow(img, vmin=0, vmax=255)\n",
    "    ax[1][index].axis('off')\n",
    "\n",
    "plt.tight_layout()\n",
    "plt.show()"
   ],
   "metadata": {
    "collapsed": false
   },
   "id": "33bea16182b68c1",
   "outputs": [],
   "execution_count": null
  },
  {
   "cell_type": "code",
   "source": [
    "from PIL import ImageFilter\n",
    "\n",
    "img_list = open_images()\n",
    "new_list = []\n",
    "for img in img_list:\n",
    "    img_new = img.resize((128, 128))\n",
    "    img_new = img_new.filter(ImageFilter.FIND_EDGES)\n",
    "    new_list.append(img_new)\n",
    "\n",
    "_, ax = plt.subplots(2, len(img_list), figsize=(15, 5))\n",
    "for index, img in enumerate(img_list):\n",
    "    if img.mode == 'L':\n",
    "        ax[0][index].imshow(img, cmap='gray', vmin=0, vmax=255)\n",
    "    else:\n",
    "        ax[0][index].imshow(img, vmin=0, vmax=255)\n",
    "    ax[0][index].axis('off')\n",
    "\n",
    "for index, img in enumerate(new_list):\n",
    "    if img.mode == 'L':\n",
    "        ax[1][index].imshow(img, cmap='gray', vmin=0, vmax=255)\n",
    "    else:\n",
    "        ax[1][index].imshow(img, vmin=0, vmax=255)\n",
    "    ax[1][index].axis('off')\n",
    "\n",
    "plt.tight_layout()\n",
    "plt.show()"
   ],
   "metadata": {
    "collapsed": false
   },
   "id": "7f16272c827c8806",
   "outputs": [],
   "execution_count": null
  },
  {
   "cell_type": "markdown",
   "source": [
    "# Normalizarea datelor"
   ],
   "metadata": {
    "collapsed": false
   },
   "id": "89d956049fbe8e15"
  },
  {
   "cell_type": "code",
   "source": [
    "from PIL import ImageOps\n",
    "from sklearn.preprocessing import MinMaxScaler\n",
    "\n",
    "img_list = open_images()\n",
    "\n",
    "\n",
    "def normalise_img(image):\n",
    "    normalized_image = ImageOps.autocontrast(image.convert('RGB'))\n",
    "\n",
    "    pixel_values = np.array(normalized_image)\n",
    "    scaler = MinMaxScaler()\n",
    "    pixel_values_normalized = scaler.fit_transform(pixel_values.reshape(-1, 1))\n",
    "    \n",
    "    normalized_image = Image.fromarray((pixel_values_normalized * 255).astype(np.uint8).reshape(pixel_values.shape))\n",
    "    return normalized_image\n",
    "\n",
    "normalised_list = [normalise_img(img) for img in img_list]\n",
    "_, ax = plt.subplots(1, len(normalised_list), figsize=(15, 5))\n",
    "for index, img in enumerate(normalised_list):\n",
    "    norm_img = normalise_img(img)\n",
    "    if img.mode == 'L':\n",
    "        ax[index].imshow(norm_img, cmap='gray', vmin=0, vmax=255)\n",
    "    else:\n",
    "        ax[index].imshow(norm_img, vmin=0, vmax=255)\n",
    "    ax[index].axis('off')\n",
    "\n",
    "plt.tight_layout()\n",
    "plt.show()"
   ],
   "metadata": {
    "collapsed": false
   },
   "id": "33dec6f5e6eac2ff",
   "outputs": [],
   "execution_count": null
  },
  {
   "cell_type": "markdown",
   "source": [
    "# Problema 3"
   ],
   "metadata": {
    "collapsed": false
   },
   "id": "5f60ba08c9e22ac4"
  },
  {
   "cell_type": "code",
   "source": [
    "from nltk.corpus import wordnet\n",
    "import spacy\n",
    "import rowordnet\n",
    "from googletrans import Translator\n",
    "import re\n",
    "\n",
    "translator = Translator()\n",
    "nlp = spacy.load('ro_core_news_sm')\n",
    "wn = rowordnet.RoWordNet()\n",
    "\n",
    "text = open('data/texts.txt', 'r', encoding='utf-8').read()\n",
    "a = nlp(text)\n",
    "print(\"Numarul de propozitii este: {}\".format(len(list(a.sents))))\n",
    "num_words = sum(1 for token in a if token.is_alpha)\n",
    "print(\"Numarul de cuvinte este: {}\".format(num_words))\n",
    "unique_words = set([token.text for token in a if token.is_alpha])\n",
    "print(\"Numarul de cuvinte unice este: {}\".format(len(unique_words)))\n",
    "longest_word = \"\"\n",
    "index_longest_word = 0\n",
    "for index, token in enumerate(a):\n",
    "    if token.is_alpha:\n",
    "        if len(token.text) > len(longest_word):\n",
    "            longest_word = token.text\n",
    "            index_longest_word = index\n",
    "shortest_word = min([token.text for token in a if token.is_alpha], key=len)\n",
    "print(\"Cuvantul cel mai lung este: {}\".format(longest_word))\n",
    "print(\"Cuvantul cel mai scurt este: {}\".format(shortest_word))\n",
    "lemma = a[index_longest_word].lemma_\n",
    "print(\"Lema cuvantului cel mai lung este: {}\".format(lemma))\n",
    "translation = translator.translate(lemma, src='ro', dest='en')\n",
    "print(\"Traducerea cuvantului cel mai lung este: {}\".format(translation.text))\n",
    "synonyns = []\n",
    "for syn in wordnet.synsets(translation.text):\n",
    "    for l in syn.lemmas():\n",
    "        synonyns.append(re.sub(r'[-_]', ' ', l.name()))\n",
    "for index in range(len(synonyns)):\n",
    "    synonyns[index] = translator.translate(synonyns[index], src='en', dest='ro').text\n",
    "print(\"Sinonimele cuvantului cel mai lung sunt: {}\".format(set(synonyns)))"
   ],
   "metadata": {
    "collapsed": false
   },
   "id": "b4bd02687a48c017",
   "outputs": [],
   "execution_count": null
  },
  {
   "cell_type": "markdown",
   "source": [
    "# Normalizarea datelor"
   ],
   "metadata": {
    "collapsed": false
   },
   "id": "374d9e40437d15cf"
  },
  {
   "cell_type": "code",
   "source": [
    "from collections import Counter\n",
    "\n",
    "nr = len([token.text for token in a if token.is_alpha])\n",
    "d = Counter([token.text for token in a if token.is_alpha])\n",
    "t = [x for x in a.sents]\n",
    "for key in d.keys():\n",
    "    d[key] = d[key] / nr\n",
    "print(d)"
   ],
   "metadata": {
    "collapsed": false
   },
   "id": "aa5deb4b01d270b3",
   "outputs": [],
   "execution_count": null
  }
 ],
 "metadata": {
  "kernelspec": {
   "display_name": "Python 3",
   "language": "python",
   "name": "python3"
  },
  "language_info": {
   "codemirror_mode": {
    "name": "ipython",
    "version": 2
   },
   "file_extension": ".py",
   "mimetype": "text/x-python",
   "name": "python",
   "nbconvert_exporter": "python",
   "pygments_lexer": "ipython2",
   "version": "2.7.6"
  }
 },
 "nbformat": 4,
 "nbformat_minor": 5
}
