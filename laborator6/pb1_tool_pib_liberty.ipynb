{
 "cells": [
  {
   "cell_type": "code",
   "id": "initial_id",
   "metadata": {
    "collapsed": true
   },
   "source": [
    "import pandas\n",
    "\n",
    "data = pandas.read_csv('data/world-happiness-report-2017.csv')\n",
    "\n",
    "input_data = data[['Economy..GDP.per.Capita.', 'Freedom']]\n",
    "input_data_array = input_data.values\n",
    "output_data = data['Happiness.Score']"
   ],
   "outputs": [],
   "execution_count": null
  },
  {
   "metadata": {},
   "cell_type": "code",
   "source": "input_data.hist()",
   "id": "176d5304cf245bf3",
   "outputs": [],
   "execution_count": null
  },
  {
   "metadata": {},
   "cell_type": "code",
   "source": "output_data.hist()",
   "id": "5b7c5de77fc5f35d",
   "outputs": [],
   "execution_count": null
  },
  {
   "metadata": {},
   "cell_type": "code",
   "source": [
    "from sklearn.preprocessing import StandardScaler\n",
    "\n",
    "scaler = StandardScaler()\n",
    "\n",
    "input_data = scaler.fit_transform(input_data_array)"
   ],
   "id": "e00d3b8b61cac3ef",
   "outputs": [],
   "execution_count": null
  },
  {
   "metadata": {},
   "cell_type": "code",
   "source": [
    "from sklearn.model_selection import train_test_split\n",
    "from sklearn.linear_model import SGDRegressor\n",
    "\n",
    "batch_size = 32\n",
    "\n",
    "model = SGDRegressor()\n",
    "\n",
    "input_train, input_test, output_train, output_test = train_test_split(input_data.reshape(-1, 2), output_data,\n",
    "                                                                      test_size=0.2, random_state=42)\n",
    "for i in range(0, len(input_train), batch_size):\n",
    "    model.partial_fit(input_train[i:i + batch_size], output_train[i:i + batch_size])\n",
    "\n",
    "predicted = model.predict(input_test)"
   ],
   "id": "282ea7549fe687bb",
   "outputs": [],
   "execution_count": null
  },
  {
   "metadata": {},
   "cell_type": "code",
   "source": [
    "import numpy\n",
    "\n",
    "no_of_points = 50\n",
    "x_ref_1 = []\n",
    "val = min([x[0] for x in input_data])\n",
    "step_1 = (max([x[0] for x in input_data]) - min([x[0] for x in input_data])) / no_of_points\n",
    "for _ in range(1, no_of_points):\n",
    "    for _ in range(1, no_of_points):\n",
    "        x_ref_1.append(val)\n",
    "    val += step_1\n",
    "\n",
    "x_ref_2 = []\n",
    "val = min([x[1] for x in input_data])\n",
    "step_2 = (max([x[1] for x in input_data]) - min([x[1] for x in input_data])) / no_of_points\n",
    "for _ in range(1, no_of_points):\n",
    "    aux = val\n",
    "    for _ in range(1, no_of_points):\n",
    "        x_ref_2.append(aux)\n",
    "        aux += step_2\n",
    "y_ref = [model.predict(scaler.transform(numpy.array([el1, el2]).reshape(1, -1))) for el1, el2 in zip(x_ref_1, x_ref_2)]"
   ],
   "id": "7830f5c3c073dba3",
   "outputs": [],
   "execution_count": null
  },
  {
   "metadata": {},
   "cell_type": "code",
   "source": [
    "from matplotlib import pyplot as plt\n",
    "\n",
    "\n",
    "def plot_3d_data(x1_train, x2_train, y_train, x1_model = None, x2_model = None, y_model = None, x1_test = None, x2_test = None, y_test = None, title = None):\n",
    "    ax = plt.axes(projection = '3d')\n",
    "    if x1_train:\n",
    "        ax.scatter(x1_train, x2_train, y_train, c ='r', marker ='o', label ='train data') \n",
    "    if x1_model:\n",
    "        ax.scatter(x1_model, x2_model, y_model, c ='b', marker ='_', label ='learnt model') \n",
    "    if x1_test:\n",
    "        ax.scatter(x1_test, x2_test, y_test, c ='g', marker ='^', label ='test data')  \n",
    "    plt.title(title)\n",
    "    ax.set_xlabel(\"capita\")\n",
    "    ax.set_ylabel(\"freedom\")\n",
    "    ax.set_zlabel(\"happiness\")\n",
    "    plt.legend()\n",
    "    plt.show()\n",
    "    \n",
    "plot_3d_data([x[0] for x in input_train], [x[1] for x in input_train], output_train, x_ref_1, x_ref_2, y_ref, [x[0] for x in input_test], [x[1] for x in input_test], output_test)"
   ],
   "id": "c28b06029dc78cf",
   "outputs": [],
   "execution_count": null
  },
  {
   "metadata": {},
   "cell_type": "code",
   "source": [
    "from sklearn.metrics import mean_squared_error\n",
    "\n",
    "mse = mean_squared_error(output_test, predicted)\n",
    "\n",
    "print(\"Mean Squared Error:\", mse)"
   ],
   "id": "5f569ab495fd1dea",
   "outputs": [],
   "execution_count": null
  }
 ],
 "metadata": {
  "kernelspec": {
   "display_name": "Python 3",
   "language": "python",
   "name": "python3"
  },
  "language_info": {
   "codemirror_mode": {
    "name": "ipython",
    "version": 2
   },
   "file_extension": ".py",
   "mimetype": "text/x-python",
   "name": "python",
   "nbconvert_exporter": "python",
   "pygments_lexer": "ipython2",
   "version": "2.7.6"
  }
 },
 "nbformat": 4,
 "nbformat_minor": 5
}
