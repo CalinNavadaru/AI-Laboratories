{
 "cells": [
  {
   "cell_type": "code",
   "id": "initial_id",
   "metadata": {
    "collapsed": true,
    "ExecuteTime": {
     "end_time": "2024-04-22T06:16:27.732112Z",
     "start_time": "2024-04-22T06:16:27.713147Z"
    }
   },
   "source": [
    "def sigmoid(value):\n",
    "    from math import exp\n",
    "    return 1 / (1 + exp(-value))\n",
    "\n",
    "\n",
    "class MyLogisticRegressor:\n",
    "    def __init__(self, threshold):\n",
    "        self.intercept_ = 0.0\n",
    "        self.coefficients = []\n",
    "        self.threshold = threshold\n",
    "\n",
    "    def fit(self, x, y, learning_rate=0.0001, no_epochs=100000):\n",
    "        self.coefficients = [0.0 for _ in range(len(x[0]) + 1)]\n",
    "        for epoch in range(no_epochs):\n",
    "            for i in range(len(x)):\n",
    "                y_computed = sigmoid(self.eval(x[i]))\n",
    "                crt_error = y_computed - y[i]\n",
    "                for j in range(0, len(x[0])):\n",
    "                    self.coefficients[j] = self.coefficients[j] - learning_rate * crt_error * y_computed * (\n",
    "                                1 - y_computed) * x[i][j]\n",
    "                self.coefficients[len(x[0])] = self.coefficients[len(x[0])] - learning_rate * crt_error * y_computed * (\n",
    "                            1 - y_computed) * 1\n",
    "\n",
    "        self.intercept_ = self.coefficients[-1]\n",
    "        self.coefficients = self.coefficients[:-1]\n",
    "        print(f\"Coef {self.coefficients}\")\n",
    "        print(f\"Intercept {self.intercept_}\")\n",
    "\n",
    "    def eval(self, xi):\n",
    "        yi = self.coefficients[-1]\n",
    "        for j in range(len(xi)):\n",
    "            yi += self.coefficients[j] * xi[j]\n",
    "        return yi\n",
    "\n",
    "    def compute_label(self, xi):\n",
    "        computed = sigmoid(self.eval(xi))\n",
    "        print(computed)\n",
    "        return 0 if computed < self.threshold else 1\n",
    "\n",
    "    def predict(self, x):\n",
    "        y_computed = [self.compute_label(xi) for xi in x]\n",
    "        return y_computed"
   ],
   "outputs": [],
   "execution_count": 77
  },
  {
   "metadata": {
    "ExecuteTime": {
     "end_time": "2024-04-22T06:16:30.973844Z",
     "start_time": "2024-04-22T06:16:27.732112Z"
    }
   },
   "cell_type": "code",
   "source": [
    "from ucimlrepo import fetch_ucirepo\n",
    "\n",
    "breast_cancer_wisconsin_diagnostic = fetch_ucirepo(id=17)\n",
    "\n",
    "input_data = breast_cancer_wisconsin_diagnostic.data.features\n",
    "output_data = breast_cancer_wisconsin_diagnostic.data.targets"
   ],
   "id": "39abaddfc342fd1b",
   "outputs": [],
   "execution_count": 78
  },
  {
   "metadata": {
    "ExecuteTime": {
     "end_time": "2024-04-22T06:16:30.979573Z",
     "start_time": "2024-04-22T06:16:30.973844Z"
    }
   },
   "cell_type": "code",
   "source": [
    "input_data_list = [[r1, t1] for r1, r2, r3, t1, t2, t3 in\n",
    "                   zip(input_data.radius1, input_data.radius2, input_data.radius3, input_data.texture1,\n",
    "                       input_data.texture2, input_data.texture3)]"
   ],
   "id": "93ab0708882f6ac",
   "outputs": [],
   "execution_count": 79
  },
  {
   "metadata": {
    "ExecuteTime": {
     "end_time": "2024-04-22T06:16:30.990422Z",
     "start_time": "2024-04-22T06:16:30.979573Z"
    }
   },
   "cell_type": "code",
   "source": "output_data",
   "id": "4228fb02742a4bb1",
   "outputs": [
    {
     "data": {
      "text/plain": [
       "    Diagnosis\n",
       "0           M\n",
       "1           M\n",
       "2           M\n",
       "3           M\n",
       "4           M\n",
       "..        ...\n",
       "564         M\n",
       "565         M\n",
       "566         M\n",
       "567         M\n",
       "568         B\n",
       "\n",
       "[569 rows x 1 columns]"
      ],
      "text/html": [
       "<div>\n",
       "<style scoped>\n",
       "    .dataframe tbody tr th:only-of-type {\n",
       "        vertical-align: middle;\n",
       "    }\n",
       "\n",
       "    .dataframe tbody tr th {\n",
       "        vertical-align: top;\n",
       "    }\n",
       "\n",
       "    .dataframe thead th {\n",
       "        text-align: right;\n",
       "    }\n",
       "</style>\n",
       "<table border=\"1\" class=\"dataframe\">\n",
       "  <thead>\n",
       "    <tr style=\"text-align: right;\">\n",
       "      <th></th>\n",
       "      <th>Diagnosis</th>\n",
       "    </tr>\n",
       "  </thead>\n",
       "  <tbody>\n",
       "    <tr>\n",
       "      <th>0</th>\n",
       "      <td>M</td>\n",
       "    </tr>\n",
       "    <tr>\n",
       "      <th>1</th>\n",
       "      <td>M</td>\n",
       "    </tr>\n",
       "    <tr>\n",
       "      <th>2</th>\n",
       "      <td>M</td>\n",
       "    </tr>\n",
       "    <tr>\n",
       "      <th>3</th>\n",
       "      <td>M</td>\n",
       "    </tr>\n",
       "    <tr>\n",
       "      <th>4</th>\n",
       "      <td>M</td>\n",
       "    </tr>\n",
       "    <tr>\n",
       "      <th>...</th>\n",
       "      <td>...</td>\n",
       "    </tr>\n",
       "    <tr>\n",
       "      <th>564</th>\n",
       "      <td>M</td>\n",
       "    </tr>\n",
       "    <tr>\n",
       "      <th>565</th>\n",
       "      <td>M</td>\n",
       "    </tr>\n",
       "    <tr>\n",
       "      <th>566</th>\n",
       "      <td>M</td>\n",
       "    </tr>\n",
       "    <tr>\n",
       "      <th>567</th>\n",
       "      <td>M</td>\n",
       "    </tr>\n",
       "    <tr>\n",
       "      <th>568</th>\n",
       "      <td>B</td>\n",
       "    </tr>\n",
       "  </tbody>\n",
       "</table>\n",
       "<p>569 rows × 1 columns</p>\n",
       "</div>"
      ]
     },
     "execution_count": 80,
     "metadata": {},
     "output_type": "execute_result"
    }
   ],
   "execution_count": 80
  },
  {
   "metadata": {
    "ExecuteTime": {
     "end_time": "2024-04-22T06:16:30.996965Z",
     "start_time": "2024-04-22T06:16:30.990422Z"
    }
   },
   "cell_type": "code",
   "source": "output_data_list = [0 if x == \"M\" else 1 for x in output_data.Diagnosis]",
   "id": "a87e93efd0cc1036",
   "outputs": [],
   "execution_count": 81
  },
  {
   "metadata": {
    "ExecuteTime": {
     "end_time": "2024-04-22T06:16:31.004017Z",
     "start_time": "2024-04-22T06:16:30.996965Z"
    }
   },
   "cell_type": "code",
   "source": [
    "def normalize_feature(data_arg):\n",
    "    minimum = min(data_arg)\n",
    "    maximum = max(data_arg)\n",
    "    for i in range(len(data_arg)):\n",
    "        data_arg[i] = (data_arg[i] - minimum) / (maximum - minimum)\n",
    "\n",
    "\n",
    "def normalize(train_data_arg):\n",
    "    new_train_data = [[] for _ in range(len(train_data_arg))]\n",
    "    for i in range(len(train_data_arg[0])):\n",
    "        aux_list = [train_data_arg[r][i] for r in range(len(train_data_arg))]\n",
    "        normalize_feature(aux_list)\n",
    "        for t in range(len(train_data_arg)):\n",
    "            new_train_data[t].append(aux_list[t])\n",
    "\n",
    "    return new_train_data\n",
    "\n",
    "\n",
    "def normalisation(train_data, test_data):\n",
    "    if not isinstance(train_data[0], list):\n",
    "        train_data = [[d] for d in train_data]\n",
    "        test_data = [[d] for d in test_data]\n",
    "\n",
    "        normalised_train_data = normalize(train_data)\n",
    "        normalised_test_data = normalize(test_data)\n",
    "\n",
    "        normalised_train_data = [d[0] for d in normalised_train_data]\n",
    "        normalised_test_data = [d[0] for d in normalised_test_data]\n",
    "    else:\n",
    "        normalised_train_data = normalize(train_data)\n",
    "        normalised_test_data = normalize(test_data)\n",
    "\n",
    "    return normalised_train_data, normalised_test_data"
   ],
   "id": "b90ea82ad5aefe9c",
   "outputs": [],
   "execution_count": 82
  },
  {
   "metadata": {
    "ExecuteTime": {
     "end_time": "2024-04-22T06:17:34.761635Z",
     "start_time": "2024-04-22T06:16:31.004017Z"
    }
   },
   "cell_type": "code",
   "source": [
    "from random import shuffle\n",
    "\n",
    "indexes = [i for i in range(len(input_data_list))]\n",
    "shuffle(indexes)\n",
    "train_indexes = indexes[:int(0.75 * len(input_data_list))]\n",
    "train_input_data = [input_data_list[i] for i in range(len(input_data_list)) if i in train_indexes]\n",
    "test_input_data = [input_data_list[i] for i in range(len(input_data_list)) if i not in train_indexes]\n",
    "train_output_data = [output_data_list[i] for i in range(len(input_data_list)) if i in train_indexes]\n",
    "test_output_data = [output_data_list[i] for i in range(len(input_data_list)) if i not in train_indexes]\n",
    "\n",
    "train_input_data, test_input_data = normalisation(train_input_data, test_input_data)\n",
    "\n",
    "model = MyLogisticRegressor(0.45)\n",
    "model.fit(train_input_data, train_output_data)\n",
    "\n",
    "predicted = model.predict(test_input_data)\n",
    "# print(predicted)"
   ],
   "id": "65172779c92a83aa",
   "outputs": [
    {
     "name": "stdout",
     "output_type": "stream",
     "text": [
      "Coef [-11.454670877621245, -3.9543145220695686]\n",
      "Intercept 5.78144139177803\n",
      "2.2941050328922673e-06\n",
      "0.00043190778558858267\n",
      "1.3109531962401224e-05\n",
      "8.369813213364455e-07\n",
      "0.000254185841287591\n",
      "0.0002778035477997678\n",
      "8.67217751044424e-06\n",
      "0.0003946570534594901\n",
      "5.803716698338409e-07\n",
      "1.4321008399841038e-05\n",
      "7.87429717766829e-05\n",
      "8.878371791693508e-07\n",
      "0.00011010534549832596\n",
      "0.0006862172117673231\n",
      "0.00016864391951894146\n",
      "0.012132593896455412\n",
      "0.0024373246530009908\n",
      "0.0035423578245115527\n",
      "0.0002995039293313967\n",
      "0.0061918281795483796\n",
      "1.7505346669193114e-05\n",
      "0.0002184697005283007\n",
      "6.740381687017832e-07\n",
      "0.00016111085810564574\n",
      "0.00013745757952830822\n",
      "0.0003609200627331176\n",
      "0.0012773967038843628\n",
      "5.424488013694401e-05\n",
      "0.00028222269116105883\n",
      "0.0022310973851850133\n",
      "6.19185058946129e-05\n",
      "6.753227682878596e-05\n",
      "1.2233805648403038e-05\n",
      "0.002062869614285541\n",
      "0.0002362429989942264\n",
      "0.00020186775288000148\n",
      "0.00010784878697542371\n",
      "0.001452670815012342\n",
      "2.2416209928667403e-05\n",
      "0.0005842857293310135\n",
      "4.450433251650752e-05\n",
      "0.003492324234577541\n",
      "0.003057430747434437\n",
      "0.0016773875600273832\n",
      "0.0002819392165433494\n",
      "0.0003378561814243613\n",
      "4.7174944848823915e-06\n",
      "0.002038090235376261\n",
      "3.754387130570046e-06\n",
      "1.941786838783462e-06\n",
      "1.2343649955996127e-05\n",
      "0.0008353674770218138\n",
      "0.00743443660485175\n",
      "0.00169951037581938\n",
      "2.0231442856632882e-05\n",
      "2.2081522324027174e-05\n",
      "5.5354364864500916e-05\n",
      "0.00025930790886013636\n",
      "6.640825454500007e-06\n",
      "0.00025868763306704005\n",
      "5.6622119337720655e-05\n",
      "8.178319039268557e-06\n",
      "0.00037870319375232303\n",
      "0.0015275559416847218\n",
      "9.328667930125419e-07\n",
      "1.9740239834747803e-05\n",
      "0.0001942329520551798\n",
      "4.524879950270461e-05\n",
      "1.9396597024883517e-07\n",
      "1.553930564757698e-05\n",
      "4.351757493332812e-05\n",
      "0.00019007160802604164\n",
      "0.0004176293561746042\n",
      "2.984356814182012e-07\n",
      "1.321342783507244e-06\n",
      "0.00011938597653540724\n",
      "4.4493071382742554e-05\n",
      "1.2655358255112645e-05\n",
      "2.5279990240180466e-05\n",
      "2.6380984346746657e-07\n",
      "0.00013492517255665087\n",
      "0.0001778116297277222\n",
      "2.2057462634160525e-06\n",
      "0.00048503872613710376\n",
      "0.00026112605384963876\n",
      "0.00045948768546892003\n",
      "0.0002086731697256532\n",
      "0.0005645129061185307\n",
      "9.583380996636538e-05\n",
      "0.0006888709987712133\n",
      "0.0004885023264956671\n",
      "0.0002813510254648548\n",
      "0.00039458745150651816\n",
      "1.0447183973402998e-05\n",
      "0.0004982709182666551\n",
      "0.0011682957767360337\n",
      "0.0003815307789961753\n",
      "0.0016813768277805323\n",
      "9.454095848709343e-05\n",
      "0.0003270546465566562\n",
      "0.00010162738849752097\n",
      "0.0005921853746445775\n",
      "0.0014250240661195684\n",
      "0.0002698622883175039\n",
      "8.697485396247114e-05\n",
      "1.881483117975031e-07\n",
      "9.472394561479962e-07\n",
      "0.00010887640309141647\n",
      "0.0004494112860968157\n",
      "0.0001216165834117658\n",
      "0.0007344913831000272\n",
      "0.0009259494908827793\n",
      "7.56715191584809e-05\n",
      "0.00016647366926070902\n",
      "0.0010216704399413099\n",
      "4.5023103829218103e-07\n",
      "5.977394382902428e-07\n",
      "7.395223384448643e-05\n",
      "0.0003300919253147831\n",
      "1.5889458077119456e-05\n",
      "6.769772346849954e-05\n",
      "5.5497803410780836e-05\n",
      "1.5814868324315853e-05\n",
      "1.9214223541509166e-06\n",
      "0.0006816877872894163\n",
      "0.00015583466654453052\n",
      "1.5246359037133926e-05\n",
      "0.0007024721975951306\n",
      "0.00011448814787458918\n",
      "4.663437986194104e-06\n",
      "3.66154976049673e-05\n",
      "0.0003646068460006703\n",
      "1.2639947712920585e-07\n",
      "3.182029259081969e-08\n",
      "0.00012633611446432444\n",
      "6.810886419983179e-07\n",
      "0.0008778924930656298\n",
      "0.0010118363887539955\n",
      "0.0017098549605902174\n",
      "0.00031178658184142236\n",
      "0.0012994301777265928\n",
      "0.00043967413189287957\n",
      "2.8366252620847046e-06\n"
     ]
    }
   ],
   "execution_count": 83
  },
  {
   "metadata": {
    "ExecuteTime": {
     "end_time": "2024-04-22T06:17:34.766699Z",
     "start_time": "2024-04-22T06:17:34.763140Z"
    }
   },
   "cell_type": "code",
   "source": [
    "err = 0\n",
    "for y, r in zip(predicted, test_output_data):\n",
    "    err += (y - r) ** 2\n",
    "\n",
    "print(f\"Error {err / len(test_output_data)}\")"
   ],
   "id": "a808337b42209bcf",
   "outputs": [
    {
     "name": "stdout",
     "output_type": "stream",
     "text": [
      "Error 0.6153846153846154\n"
     ]
    }
   ],
   "execution_count": 84
  },
  {
   "metadata": {
    "ExecuteTime": {
     "end_time": "2024-04-22T06:17:34.773933Z",
     "start_time": "2024-04-22T06:17:34.766699Z"
    }
   },
   "cell_type": "code",
   "source": [
    "a = [[18, 10]]\n",
    "result = model.predict(a)\n",
    "if result[0] == 1:\n",
    "    print(\"Malign\")\n",
    "else:\n",
    "    print(\"Benign\")"
   ],
   "id": "73793e4c7228da39",
   "outputs": [
    {
     "name": "stdout",
     "output_type": "stream",
     "text": [
      "3.6701759232325004e-109\n",
      "Benign\n"
     ]
    }
   ],
   "execution_count": 85
  },
  {
   "metadata": {
    "ExecuteTime": {
     "end_time": "2024-04-22T06:17:34.880158Z",
     "start_time": "2024-04-22T06:17:34.773933Z"
    }
   },
   "cell_type": "code",
   "source": [
    "from sklearn.metrics import confusion_matrix\n",
    "import matplotlib.pyplot as plt\n",
    "import seaborn as sns\n",
    "\n",
    "cm = confusion_matrix(test_output_data, predicted)\n",
    "plt.figure(figsize=(5, 5))\n",
    "sns.heatmap(cm, annot=True, fmt=\".0f\", linewidths=.5, square=True, cmap='Blues', xticklabels=[\"B\", \"M\"],\n",
    "            yticklabels=[\"B\", \"M\"])\n",
    "plt.ylabel('Actual label')\n",
    "plt.xlabel('Predicted label')\n",
    "plt.title('Confusion Matrix', size=15)\n",
    "plt.show()"
   ],
   "id": "754225ffdb47e518",
   "outputs": [
    {
     "data": {
      "text/plain": [
       "<Figure size 500x500 with 2 Axes>"
      ],
      "image/png": "[encoded data removed]"
     },
     "metadata": {},
     "output_type": "display_data"
    }
   ],
   "execution_count": 86
  }
 ],
 "metadata": {
  "kernelspec": {
   "display_name": "Python 3",
   "language": "python",
   "name": "python3"
  },
  "language_info": {
   "codemirror_mode": {
    "name": "ipython",
    "version": 2
   },
   "file_extension": ".py",
   "mimetype": "text/x-python",
   "name": "python",
   "nbconvert_exporter": "python",
   "pygments_lexer": "ipython2",
   "version": "2.7.6"
  }
 },
 "nbformat": 4,
 "nbformat_minor": 5
}
