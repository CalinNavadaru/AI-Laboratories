{
 "cells": [
  {
   "cell_type": "code",
   "id": "initial_id",
   "metadata": {
    "collapsed": true
   },
   "source": [
    "import pandas\n",
    "\n",
    "data = pandas.read_csv('data/world-happiness-report-2017.csv')\n",
    "\n",
    "input_data = data['Economy..GDP.per.Capita.']\n",
    "output_data = data['Happiness.Score']"
   ],
   "outputs": [],
   "execution_count": null
  },
  {
   "metadata": {},
   "cell_type": "code",
   "source": "input_data.hist()",
   "id": "365b887fd39605cd",
   "outputs": [],
   "execution_count": null
  },
  {
   "metadata": {},
   "cell_type": "code",
   "source": "output_data.hist()",
   "id": "3c4e6d57fe340b4",
   "outputs": [],
   "execution_count": null
  },
  {
   "metadata": {},
   "cell_type": "code",
   "source": [
    "from sklearn.model_selection import train_test_split\n",
    "from sklearn.linear_model import SGDRegressor\n",
    "\n",
    "batch_size = 32\n",
    "\n",
    "model = SGDRegressor()\n",
    "\n",
    "input_train, input_test, output_train, output_test = train_test_split(input_data.values.reshape(-1, 1), output_data,\n",
    "                                                                      test_size=0.2, random_state=42)\n",
    "for i in range(0, len(input_train), batch_size):\n",
    "    model.partial_fit(input_train[i:i + batch_size], output_train[i:i + batch_size])\n",
    "\n",
    "predicted = model.predict(input_test)"
   ],
   "id": "d2febbb5cc243e22",
   "outputs": [],
   "execution_count": null
  },
  {
   "metadata": {},
   "cell_type": "code",
   "source": [
    "from matplotlib import pyplot as plt\n",
    "\n",
    "\n",
    "def plot_test_data():\n",
    "    plt.plot(input_test, predicted, 'yo', label='computed test data')\n",
    "    plt.plot(input_test, output_test, 'g^', label='real test data')\n",
    "    plt.title('computed test and real test data')\n",
    "    plt.xlabel('GDP capita')\n",
    "    plt.ylabel('happiness')\n",
    "    plt.legend()\n",
    "    plt.show()\n",
    "\n",
    "\n",
    "plot_test_data()"
   ],
   "id": "5af2928862e77fbc",
   "outputs": [],
   "execution_count": null
  },
  {
   "metadata": {},
   "cell_type": "code",
   "source": [
    "from sklearn.metrics import mean_squared_error\n",
    "\n",
    "mse = mean_squared_error(output_test, predicted)\n",
    "\n",
    "print(\"Mean Squared Error:\", mse)"
   ],
   "id": "b8be470b2ce6c4e",
   "outputs": [],
   "execution_count": null
  }
 ],
 "metadata": {
  "kernelspec": {
   "display_name": "Python 3",
   "language": "python",
   "name": "python3"
  },
  "language_info": {
   "codemirror_mode": {
    "name": "ipython",
    "version": 2
   },
   "file_extension": ".py",
   "mimetype": "text/x-python",
   "name": "python",
   "nbconvert_exporter": "python",
   "pygments_lexer": "ipython2",
   "version": "2.7.6"
  }
 },
 "nbformat": 4,
 "nbformat_minor": 5
}
