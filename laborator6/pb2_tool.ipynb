{
 "cells": [
  {
   "cell_type": "code",
   "id": "initial_id",
   "metadata": {
    "collapsed": true
   },
   "source": [
    "from ucimlrepo import fetch_ucirepo\n",
    "\n",
    "# fetch dataset \n",
    "breast_cancer_wisconsin_diagnostic = fetch_ucirepo(id=17)\n",
    "\n",
    "# data (as pandas dataframes) \n",
    "input_data = breast_cancer_wisconsin_diagnostic.data.features\n",
    "output_data = breast_cancer_wisconsin_diagnostic.data.targets"
   ],
   "outputs": [],
   "execution_count": null
  },
  {
   "metadata": {},
   "cell_type": "code",
   "source": "input_data",
   "id": "ae99211959a32bf0",
   "outputs": [],
   "execution_count": null
  },
  {
   "metadata": {},
   "cell_type": "code",
   "source": "output_data",
   "id": "278be788850540b8",
   "outputs": [],
   "execution_count": null
  },
  {
   "metadata": {},
   "cell_type": "code",
   "source": [
    "input_data_list = [[r1, r2, r3, t1, t2, t3] for r1, r2, r3, t1, t2, t3 in\n",
    "                   zip(input_data.radius1, input_data.radius2, input_data.radius3, input_data.texture1,\n",
    "                       input_data.texture2, input_data.texture3)]\n",
    "print(*input_data_list, sep=\"\\n\")"
   ],
   "id": "87bb5d8b9103c0ed",
   "outputs": [],
   "execution_count": null
  },
  {
   "metadata": {},
   "cell_type": "code",
   "source": [
    "import numpy as np\n",
    "from sklearn.preprocessing import StandardScaler\n",
    "\n",
    "scaler = StandardScaler()\n",
    "scaler.fit(np.array(input_data_list))\n",
    "\n",
    "normalized_input_data = scaler.transform(input_data_list)\n",
    "print(*normalized_input_data, sep=\"\\n\")"
   ],
   "id": "7d544150fbdc429a",
   "outputs": [],
   "execution_count": null
  },
  {
   "metadata": {},
   "cell_type": "code",
   "source": [
    "output_data_array = [0 if diag == \"B\" else 1 for diag in output_data.Diagnosis]\n",
    "print(output_data_array)"
   ],
   "id": "ef5dc91e1072be1d",
   "outputs": [],
   "execution_count": null
  },
  {
   "metadata": {},
   "cell_type": "code",
   "source": [
    "from random import shuffle\n",
    "from sklearn.linear_model import SGDClassifier\n",
    "\n",
    "model = SGDClassifier()\n",
    "\n",
    "indexes = [i for i in range(len(input_data))]\n",
    "shuffle(indexes)\n",
    "train_indexes = indexes[:int(0.75 * len(input_data))]\n",
    "test_indexes = indexes[int(0.75 * len(input_data)):]\n",
    "\n",
    "input_train_data = [normalized_input_data[i] for i in range(len(normalized_input_data)) if i in train_indexes]\n",
    "output_train_data = [output_data_array[i] for i in range(len(output_data_array)) if i in train_indexes]\n",
    "input_test_data = [normalized_input_data[i] for i in range(len(normalized_input_data)) if i in test_indexes]\n",
    "output_test_data = [output_data_array[i] for i in range(len(output_data_array)) if i in test_indexes]\n",
    "\n",
    "model.fit(input_train_data, output_train_data)\n",
    "\n",
    "predicted = model.predict(input_test_data)\n",
    "print(predicted)"
   ],
   "id": "687f2cc88f148093",
   "outputs": [],
   "execution_count": null
  },
  {
   "metadata": {},
   "cell_type": "code",
   "source": [
    "from sklearn.metrics import confusion_matrix, roc_curve, auc\n",
    "import matplotlib.pyplot as plt\n",
    "import seaborn as sns\n",
    "\n",
    "cm = confusion_matrix(output_test_data, predicted)\n",
    "\n",
    "fpr, tpr, thresholds = roc_curve(output_test_data, predicted)\n",
    "roc_auc = auc(fpr, tpr)"
   ],
   "id": "58a5d58cee4d55cd",
   "outputs": [],
   "execution_count": null
  },
  {
   "metadata": {},
   "cell_type": "code",
   "source": [
    "plt.figure(figsize=(5, 5))\n",
    "sns.heatmap(cm, annot=True, fmt=\".0f\", linewidths=.5, square=True, cmap='Blues', xticklabels=[\"B\", \"M\"], yticklabels=[\"B\", \"M\"])\n",
    "plt.ylabel('Actual label')\n",
    "plt.xlabel('Predicted label')\n",
    "plt.title('Confusion Matrix', size=15)\n",
    "plt.show()"
   ],
   "id": "c3459924b6a436d2",
   "outputs": [],
   "execution_count": null
  },
  {
   "metadata": {},
   "cell_type": "code",
   "source": [
    "plt.figure()\n",
    "plt.plot(fpr, tpr, color='darkorange', lw=2, label='ROC curve (area = %0.2f)' % roc_auc)\n",
    "plt.plot([0, 1], [0, 1], color='navy', lw=2, linestyle='--')\n",
    "plt.xlim([0.0, 1.0])\n",
    "plt.ylim([0.0, 1.05])\n",
    "plt.xlabel('False Positive Rate')\n",
    "plt.ylabel('True Positive Rate')\n",
    "plt.title('Receiver Operating Characteristic')\n",
    "plt.legend(loc=\"lower right\")\n",
    "plt.show()"
   ],
   "id": "aeb5cb079eb4f21",
   "outputs": [],
   "execution_count": null
  },
  {
   "metadata": {},
   "cell_type": "code",
   "source": [
    "from sklearn.metrics import mean_squared_error\n",
    "\n",
    "error = mean_squared_error(predicted, output_test_data)\n",
    "print(f\"The error is {error}\")"
   ],
   "id": "23a390a7c7704b47",
   "outputs": [],
   "execution_count": null
  },
  {
   "metadata": {},
   "cell_type": "code",
   "source": [
    "result = model.predict([[18, 18, 18, 10, 10, 10]])\n",
    "if result[0] == 1:\n",
    "    print(\"Malign\")\n",
    "else:\n",
    "    print(\"Benign\")"
   ],
   "id": "acc83453dee292cb",
   "outputs": [],
   "execution_count": null
  }
 ],
 "metadata": {
  "kernelspec": {
   "display_name": "Python 3",
   "language": "python",
   "name": "python3"
  },
  "language_info": {
   "codemirror_mode": {
    "name": "ipython",
    "version": 2
   },
   "file_extension": ".py",
   "mimetype": "text/x-python",
   "name": "python",
   "nbconvert_exporter": "python",
   "pygments_lexer": "ipython2",
   "version": "2.7.6"
  }
 },
 "nbformat": 4,
 "nbformat_minor": 5
}
