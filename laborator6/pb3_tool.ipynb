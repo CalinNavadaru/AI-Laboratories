{
 "cells": [
  {
   "cell_type": "code",
   "id": "initial_id",
   "metadata": {
    "collapsed": true
   },
   "source": [
    "import pandas as pd\n",
    "from ucimlrepo import fetch_ucirepo \n",
    "  \n",
    "# fetch dataset \n",
    "iris = fetch_ucirepo(id=53) \n",
    "  \n",
    "# data (as pandas dataframes) \n",
    "input_data = iris.data.features \n",
    "output_data = iris.data.targets "
   ],
   "outputs": [],
   "execution_count": null
  },
  {
   "metadata": {},
   "cell_type": "code",
   "source": "input_data",
   "id": "7db1f4d90a93f721",
   "outputs": [],
   "execution_count": null
  },
  {
   "metadata": {},
   "cell_type": "code",
   "source": "output_data",
   "id": "a3e86a72f120d540",
   "outputs": [],
   "execution_count": null
  },
  {
   "metadata": {},
   "cell_type": "code",
   "source": [
    "output_data = pd.factorize(output_data['class'])\n",
    "output_data_array = [int(i) for i in output_data[0]]"
   ],
   "id": "68634f85b4ed3e7c",
   "outputs": [],
   "execution_count": null
  },
  {
   "metadata": {},
   "cell_type": "code",
   "source": [
    "input_data_array = [[float(sl), float(sw), float(pl), float(pw)] for sl, sw, pl, pw in zip(input_data['sepal length'], input_data['sepal width'], input_data['petal length'], input_data['petal width'])]\n",
    "print(input_data_array)"
   ],
   "id": "d57cb5411fa84376",
   "outputs": [],
   "execution_count": null
  },
  {
   "metadata": {},
   "cell_type": "code",
   "source": [
    "import numpy as np\n",
    "from sklearn.preprocessing import StandardScaler\n",
    "\n",
    "scaler = StandardScaler()\n",
    "scaler.fit(np.array(input_data_array))\n",
    "\n",
    "normalized_input_data = scaler.transform(input_data_array)\n",
    "\n",
    "print(normalized_input_data)"
   ],
   "id": "385217fa1a4dc6f5",
   "outputs": [],
   "execution_count": null
  },
  {
   "metadata": {},
   "cell_type": "code",
   "source": [
    "from random import shuffle\n",
    "from sklearn.linear_model import SGDClassifier\n",
    "\n",
    "model = SGDClassifier()\n",
    "\n",
    "indexes = [i for i in range(len(input_data))]\n",
    "shuffle(indexes)\n",
    "train_indexes = indexes[:int(0.7 * len(input_data))]\n",
    "test_indexes = indexes[int(0.7 * len(input_data)):]\n",
    "\n",
    "input_train_data = [normalized_input_data[i] for i in range(len(normalized_input_data)) if i in train_indexes]\n",
    "output_train_data = [output_data_array[i] for i in range(len(output_data_array)) if i in train_indexes]\n",
    "input_test_data = [normalized_input_data[i] for i in range(len(normalized_input_data)) if i in test_indexes]\n",
    "output_test_data = [output_data_array[i] for i in range(len(output_data_array)) if i in test_indexes]\n",
    "\n",
    "print(input_train_data)\n",
    "\n",
    "model.fit(input_train_data, output_train_data)\n",
    "\n",
    "predicted = model.predict(input_test_data)\n",
    "print(predicted)"
   ],
   "id": "ba196961aa5719ad",
   "outputs": [],
   "execution_count": null
  },
  {
   "metadata": {},
   "cell_type": "code",
   "source": [
    "from sklearn.metrics import confusion_matrix\n",
    "import seaborn as sns\n",
    "import matplotlib.pyplot as plt\n",
    "\n",
    "cm = confusion_matrix(output_test_data, predicted)\n",
    "\n",
    "plt.figure(figsize=(10,7))\n",
    "sns.heatmap(cm, annot=True, fmt='d', xticklabels=[\"setosa\", \"versicolor\", \"virginica\"], yticklabels=[\"setosa\", \"versicolor\", \"virginica\"])\n",
    "plt.xlabel('Predicted')\n",
    "plt.ylabel('Truth')\n",
    "plt.show()"
   ],
   "id": "4f13dc2726005a77",
   "outputs": [],
   "execution_count": null
  },
  {
   "metadata": {},
   "cell_type": "code",
   "source": [
    "from sklearn.metrics import mean_squared_error\n",
    "\n",
    "error = mean_squared_error(predicted, output_test_data)\n",
    "print(f\"The error is {error}\")"
   ],
   "id": "36e9a62ba560c38b",
   "outputs": [],
   "execution_count": null
  },
  {
   "metadata": {},
   "cell_type": "code",
   "source": [
    "result = model.predict(scaler.transform([[5.35, 3.85, 1.25, 0.4]]))\n",
    "if result == 0:\n",
    "    print(\"setosa\")\n",
    "elif result == 1:\n",
    "    print(\"versicolor\")\n",
    "else:\n",
    "    print(\"virginica\")"
   ],
   "id": "4eee3687376ebf3d",
   "outputs": [],
   "execution_count": null
  }
 ],
 "metadata": {
  "kernelspec": {
   "display_name": "Python 3",
   "language": "python",
   "name": "python3"
  },
  "language_info": {
   "codemirror_mode": {
    "name": "ipython",
    "version": 2
   },
   "file_extension": ".py",
   "mimetype": "text/x-python",
   "name": "python",
   "nbconvert_exporter": "python",
   "pygments_lexer": "ipython2",
   "version": "2.7.6"
  }
 },
 "nbformat": 4,
 "nbformat_minor": 5
}
