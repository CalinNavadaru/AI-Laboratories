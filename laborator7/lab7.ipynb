{
 "cells": [
  {
   "cell_type": "code",
   "id": "initial_id",
   "metadata": {
    "collapsed": true,
    "ExecuteTime": {
     "end_time": "2024-04-29T05:22:08.740738Z",
     "start_time": "2024-04-29T05:22:08.727639Z"
    }
   },
   "source": [
    "import sqlite3\n",
    "from io import BytesIO\n",
    "\n",
    "import numpy as np\n",
    "from PIL import Image\n",
    "from tensorflow.keras import layers, models\n",
    "\n",
    "\n",
    "def load_data_from_db(test, target_size=(128, 128)):\n",
    "    conn = sqlite3.connect('images.db')\n",
    "    cursor = conn.cursor()\n",
    "    cursor.execute(\"SELECT imagine, sepia FROM Imagini WHERE test = ?\", (True if test == 1 else False,))\n",
    "    rows = cursor.fetchall()\n",
    "    conn.close()\n",
    "\n",
    "    x = []\n",
    "    y = []\n",
    "    for row in rows:\n",
    "        imagine_blob, sepia = row\n",
    "        imagine_bytes = BytesIO(imagine_blob)\n",
    "        imagine = Image.open(imagine_bytes)\n",
    "        \n",
    "        if imagine.mode == \"P\":\n",
    "            imagine = imagine.convert(\"RGBA\")\n",
    "        if imagine.mode != 'RGB':\n",
    "            imagine = imagine.convert('RGB')\n",
    "\n",
    "        imagine = imagine.resize(target_size)\n",
    "\n",
    "        imagine = np.array(imagine) / 255.0\n",
    "\n",
    "        x.append(imagine)\n",
    "        y.append(1 if sepia else 0)\n",
    "\n",
    "    x = np.array(x)\n",
    "    y = np.array(y)\n",
    "    return x, y\n"
   ],
   "outputs": [],
   "execution_count": 5
  },
  {
   "metadata": {
    "ExecuteTime": {
     "end_time": "2024-04-29T05:22:13.903788Z",
     "start_time": "2024-04-29T05:22:08.810762Z"
    }
   },
   "cell_type": "code",
   "source": [
    "train_input, train_output = load_data_from_db(0)\n",
    "test_input, test_output = load_data_from_db(1)"
   ],
   "id": "a3550284d3a0a74c",
   "outputs": [],
   "execution_count": 6
  },
  {
   "metadata": {
    "ExecuteTime": {
     "end_time": "2024-04-29T05:22:29.137485Z",
     "start_time": "2024-04-29T05:22:13.908785Z"
    }
   },
   "cell_type": "code",
   "source": [
    "from keras.src.callbacks import EarlyStopping\n",
    "from keras.src.optimizers import Adam\n",
    "from keras.src.layers import Dropout, BatchNormalization\n",
    "from keras import Input\n",
    "\n",
    "\n",
    "def build_model(input_shape):\n",
    "    model = models.Sequential([\n",
    "        Input(input_shape),\n",
    "        layers.Flatten(),\n",
    "        layers.Dense(256, activation='relu'),\n",
    "        BatchNormalization(),\n",
    "        Dropout(0.30),\n",
    "        layers.Dense(128, activation='relu'),\n",
    "        BatchNormalization(),\n",
    "        Dropout(0.30),\n",
    "        layers.Dense(64, activation='relu'),\n",
    "        BatchNormalization(),\n",
    "        Dropout(0.30),\n",
    "        layers.Dense(32, activation='relu'),\n",
    "        BatchNormalization(),\n",
    "        Dropout(0.30),\n",
    "        layers.Dense(1, activation='sigmoid')\n",
    "    ])\n",
    "    return model\n",
    "\n",
    "def build_model2(input_shape):\n",
    "    model = models.Sequential([\n",
    "        Input(input_shape),\n",
    "        layers.Flatten(),\n",
    "        layers.Dense(512),\n",
    "        layers.LeakyReLU(negative_slope=0.01),\n",
    "        BatchNormalization(),\n",
    "        Dropout(0.30),\n",
    "        layers.Dense(256),\n",
    "        layers.LeakyReLU(negative_slope=0.01),\n",
    "        BatchNormalization(),\n",
    "        Dropout(0.30),\n",
    "        layers.Dense(128),\n",
    "        layers.LeakyReLU(negative_slope=0.01),\n",
    "        BatchNormalization(),\n",
    "        Dropout(0.30),\n",
    "        layers.Dense(64),\n",
    "        layers.LeakyReLU(negative_slope=0.01),\n",
    "        BatchNormalization(),\n",
    "        Dropout(0.30),\n",
    "        layers.Dense(32),\n",
    "        layers.LeakyReLU(negative_slope=0.01),\n",
    "        BatchNormalization(),\n",
    "        Dropout(0.30),\n",
    "        layers.Dense(1, activation='sigmoid')\n",
    "    ])\n",
    "    return model\n",
    "\n",
    "input_shape = train_input.shape[1:]\n",
    "model = build_model(input_shape)\n",
    "\n",
    "model.compile(optimizer=Adam(learning_rate=0.0001),\n",
    "              loss='binary_crossentropy',\n",
    "              metrics=['accuracy', 'precision', 'recall'])\n",
    "\n",
    "model.fit(train_input, train_output, epochs=10)\n",
    "\n",
    "predicted = model.predict(test_input)\n",
    "predicted = [1 if p > 0.5 else 0 for p in predicted]\n",
    "print(predicted)"
   ],
   "id": "d5d36b7521fbb033",
   "outputs": [
    {
     "name": "stdout",
     "output_type": "stream",
     "text": [
      "Epoch 1/10\n",
      "\u001B[1m4/4\u001B[0m \u001B[32m━━━━━━━━━━━━━━━━━━━━\u001B[0m\u001B[37m\u001B[0m \u001B[1m10s\u001B[0m 124ms/step - accuracy: 0.5208 - loss: 1.0087 - precision: 0.4931 - recall: 0.5447\n",
      "Epoch 2/10\n",
      "\u001B[1m4/4\u001B[0m \u001B[32m━━━━━━━━━━━━━━━━━━━━\u001B[0m\u001B[37m\u001B[0m \u001B[1m1s\u001B[0m 132ms/step - accuracy: 0.5385 - loss: 0.8268 - precision: 0.5502 - recall: 0.4840\n",
      "Epoch 3/10\n",
      "\u001B[1m4/4\u001B[0m \u001B[32m━━━━━━━━━━━━━━━━━━━━\u001B[0m\u001B[37m\u001B[0m \u001B[1m1s\u001B[0m 112ms/step - accuracy: 0.6104 - loss: 0.7300 - precision: 0.5908 - recall: 0.6814\n",
      "Epoch 4/10\n",
      "\u001B[1m4/4\u001B[0m \u001B[32m━━━━━━━━━━━━━━━━━━━━\u001B[0m\u001B[37m\u001B[0m \u001B[1m0s\u001B[0m 112ms/step - accuracy: 0.6427 - loss: 0.6903 - precision: 0.6873 - recall: 0.6139\n",
      "Epoch 5/10\n",
      "\u001B[1m4/4\u001B[0m \u001B[32m━━━━━━━━━━━━━━━━━━━━\u001B[0m\u001B[37m\u001B[0m \u001B[1m0s\u001B[0m 112ms/step - accuracy: 0.7698 - loss: 0.4993 - precision: 0.8048 - recall: 0.7649\n",
      "Epoch 6/10\n",
      "\u001B[1m4/4\u001B[0m \u001B[32m━━━━━━━━━━━━━━━━━━━━\u001B[0m\u001B[37m\u001B[0m \u001B[1m0s\u001B[0m 112ms/step - accuracy: 0.6979 - loss: 0.6484 - precision: 0.6767 - recall: 0.7050\n",
      "Epoch 7/10\n",
      "\u001B[1m4/4\u001B[0m \u001B[32m━━━━━━━━━━━━━━━━━━━━\u001B[0m\u001B[37m\u001B[0m \u001B[1m0s\u001B[0m 109ms/step - accuracy: 0.6521 - loss: 0.6219 - precision: 0.6863 - recall: 0.6116\n",
      "Epoch 8/10\n",
      "\u001B[1m4/4\u001B[0m \u001B[32m━━━━━━━━━━━━━━━━━━━━\u001B[0m\u001B[37m\u001B[0m \u001B[1m0s\u001B[0m 119ms/step - accuracy: 0.8125 - loss: 0.4910 - precision: 0.8054 - recall: 0.8218\n",
      "Epoch 9/10\n",
      "\u001B[1m4/4\u001B[0m \u001B[32m━━━━━━━━━━━━━━━━━━━━\u001B[0m\u001B[37m\u001B[0m \u001B[1m0s\u001B[0m 114ms/step - accuracy: 0.7344 - loss: 0.5436 - precision: 0.7674 - recall: 0.6993\n",
      "Epoch 10/10\n",
      "\u001B[1m4/4\u001B[0m \u001B[32m━━━━━━━━━━━━━━━━━━━━\u001B[0m\u001B[37m\u001B[0m \u001B[1m0s\u001B[0m 107ms/step - accuracy: 0.7792 - loss: 0.4698 - precision: 0.7591 - recall: 0.8030\n",
      "\u001B[1m1/1\u001B[0m \u001B[32m━━━━━━━━━━━━━━━━━━━━\u001B[0m\u001B[37m\u001B[0m \u001B[1m0s\u001B[0m 105ms/step\n",
      "[0, 0, 1, 1, 1, 1, 0, 0, 1, 1, 1, 0, 0, 0, 1, 1, 1, 1, 1, 1, 1, 1, 1, 1, 1, 1, 1, 1, 1, 1]\n"
     ]
    }
   ],
   "execution_count": 7
  },
  {
   "metadata": {
    "ExecuteTime": {
     "end_time": "2024-04-29T05:22:29.459322Z",
     "start_time": "2024-04-29T05:22:29.137485Z"
    }
   },
   "cell_type": "code",
   "source": [
    "from matplotlib import pyplot as plt\n",
    "from sklearn.metrics import confusion_matrix\n",
    "import seaborn as sns\n",
    "\n",
    "cm = confusion_matrix(test_output, predicted)\n",
    "\n",
    "plt.figure(figsize=(10, 7))\n",
    "sns.heatmap(cm, annot=True, fmt='d', xticklabels=[\"normal\", \"sepia\"], yticklabels=[\"normal\", \"sepia\"])\n",
    "plt.xlabel('Predicted')\n",
    "plt.ylabel('Truth')\n",
    "plt.show()"
   ],
   "id": "f2d1bfbe7a2073d5",
   "outputs": [
    {
     "data": {
      "text/plain": [
       "<Figure size 1000x700 with 2 Axes>"
      ],
      "image/png": "[encoded data removed]"
     },
     "metadata": {},
     "output_type": "display_data"
    }
   ],
   "execution_count": 8
  }
 ],
 "metadata": {
  "kernelspec": {
   "display_name": "Python 3",
   "language": "python",
   "name": "python3"
  },
  "language_info": {
   "codemirror_mode": {
    "name": "ipython",
    "version": 2
   },
   "file_extension": ".py",
   "mimetype": "text/x-python",
   "name": "python",
   "nbconvert_exporter": "python",
   "pygments_lexer": "ipython2",
   "version": "2.7.6"
  }
 },
 "nbformat": 4,
 "nbformat_minor": 5
}
