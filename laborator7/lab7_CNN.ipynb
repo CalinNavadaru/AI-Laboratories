{
 "cells": [
  {
   "cell_type": "code",
   "id": "initial_id",
   "metadata": {
    "collapsed": true
   },
   "source": [
    "import sqlite3\n",
    "from io import BytesIO\n",
    "\n",
    "import numpy as np\n",
    "from PIL import Image\n",
    "from keras import Input\n",
    "\n",
    "\n",
    "def load_data_from_db(test, target_size=(128, 128)):\n",
    "    conn = sqlite3.connect('images.db')\n",
    "    cursor = conn.cursor()\n",
    "    cursor.execute(\"SELECT imagine, sepia FROM Imagini WHERE test = ?\", (True if test == 1 else False,))\n",
    "    rows = cursor.fetchall()\n",
    "    conn.close()\n",
    "\n",
    "    x = []\n",
    "    y = []\n",
    "    for row in rows:\n",
    "        imagine_blob, sepia = row\n",
    "        imagine_bytes = BytesIO(imagine_blob)\n",
    "        imagine = Image.open(imagine_bytes)\n",
    "\n",
    "        if imagine.mode == \"P\":\n",
    "            imagine = imagine.convert(\"RGBA\")\n",
    "        if imagine.mode != 'RGB':\n",
    "            imagine = imagine.convert('RGB')\n",
    "\n",
    "        imagine = imagine.resize(target_size)\n",
    "\n",
    "        imagine = np.array(imagine) / 255.0\n",
    "\n",
    "        x.append(imagine)\n",
    "        y.append(1 if sepia else 0)\n",
    "\n",
    "    x = np.array(x)\n",
    "    y = np.array(y)\n",
    "    return x, y\n"
   ],
   "outputs": [],
   "execution_count": null
  },
  {
   "metadata": {},
   "cell_type": "code",
   "source": [
    "train_input, train_output = load_data_from_db(0)\n",
    "test_input, test_output = load_data_from_db(1)"
   ],
   "id": "3c59efc6eed1bf34",
   "outputs": [],
   "execution_count": null
  },
  {
   "metadata": {},
   "cell_type": "code",
   "source": [
    "from keras.src.optimizers import Adam\n",
    "\n",
    "input_shape = train_input.shape[1:]\n",
    "\n",
    "from tensorflow.keras import layers, models\n",
    "\n",
    "model = models.Sequential([\n",
    "    Input(input_shape),\n",
    "    layers.Conv2D(32, (3, 3), activation='relu'),\n",
    "    layers.MaxPooling2D((2, 2)),\n",
    "    layers.Conv2D(64, (3, 3), activation='relu'),\n",
    "    layers.MaxPooling2D((2, 2)),\n",
    "    layers.Conv2D(64, (3, 3), activation='relu'),\n",
    "    layers.Flatten(),\n",
    "    layers.Dense(64, activation='relu'),\n",
    "    layers.Dense(1, activation='sigmoid')\n",
    "])\n",
    "\n",
    "model.compile(optimizer=Adam(learning_rate=0.0001),\n",
    "              loss='binary_crossentropy',\n",
    "              metrics=['accuracy', 'precision', 'recall'])\n",
    "\n",
    "\n",
    "\n",
    "model.fit(train_input, train_output, epochs=10)\n",
    "\n",
    "predicted = model.predict(test_input)\n",
    "predicted = [1 if p > 0.5 else 0 for p in predicted]"
   ],
   "id": "2b89979bf3488bd3",
   "outputs": [],
   "execution_count": null
  },
  {
   "metadata": {},
   "cell_type": "code",
   "source": "model.summary()",
   "id": "3461a9a1e7145cd",
   "outputs": [],
   "execution_count": null
  },
  {
   "metadata": {},
   "cell_type": "code",
   "source": [
    "from matplotlib import pyplot as plt\n",
    "from sklearn.metrics import confusion_matrix\n",
    "import seaborn as sns\n",
    "\n",
    "cm = confusion_matrix(test_output, predicted)\n",
    "\n",
    "plt.figure(figsize=(10, 7))\n",
    "sns.heatmap(cm, annot=True, fmt='d', xticklabels=[\"normal\", \"sepia\"], yticklabels=[\"normal\", \"sepia\"])\n",
    "plt.xlabel('Predicted')\n",
    "plt.ylabel('Truth')\n",
    "plt.show()"
   ],
   "id": "e315b50c060addb5",
   "outputs": [],
   "execution_count": null
  },
  {
   "metadata": {},
   "cell_type": "code",
   "source": [
    "model2 = models.Sequential([\n",
    "    Input(input_shape),\n",
    "    layers.Conv2D(64, (4, 4), activation='relu'),\n",
    "    layers.BatchNormalization(),\n",
    "    layers.MaxPooling2D((2, 2)),\n",
    "    layers.Conv2D(64, (3, 3), activation='relu'),\n",
    "    layers.BatchNormalization(),\n",
    "    layers.MaxPooling2D((2, 2)),\n",
    "    layers.Flatten(),\n",
    "    layers.Dense(128, activation='relu'),\n",
    "    layers.Dropout(0.25),\n",
    "    layers.Dense(1, activation='sigmoid')\n",
    "])\n"
   ],
   "id": "3c6f310188b0fa60",
   "outputs": [],
   "execution_count": null
  },
  {
   "metadata": {},
   "cell_type": "code",
   "source": [
    "model2.compile(optimizer='adadelta',\n",
    "              loss='binary_crossentropy',\n",
    "              metrics=['accuracy', 'precision', 'recall'])\n",
    "\n",
    "model2.fit(train_input, train_output, epochs=10)\n",
    "\n",
    "predicted = model2.predict(test_input)\n",
    "predicted = [1 if p > 0.5 else 0 for p in predicted]"
   ],
   "id": "9347b481fcf91cc6",
   "outputs": [],
   "execution_count": null
  },
  {
   "metadata": {},
   "cell_type": "code",
   "source": "model2.summary()",
   "id": "1101e3c9e7de4e9e",
   "outputs": [],
   "execution_count": null
  },
  {
   "metadata": {},
   "cell_type": "code",
   "source": [
    "from matplotlib import pyplot as plt\n",
    "from sklearn.metrics import confusion_matrix\n",
    "import seaborn as sns\n",
    "\n",
    "cm = confusion_matrix(test_output, predicted)\n",
    "\n",
    "plt.figure(figsize=(10, 7))\n",
    "sns.heatmap(cm, annot=True, fmt='d', xticklabels=[\"normal\", \"sepia\"], yticklabels=[\"normal\", \"sepia\"])\n",
    "plt.xlabel('Predicted')\n",
    "plt.ylabel('Truth')\n",
    "plt.show()"
   ],
   "id": "66d609b98ae04b4b",
   "outputs": [],
   "execution_count": null
  }
 ],
 "metadata": {
  "kernelspec": {
   "display_name": "Python 3",
   "language": "python",
   "name": "python3"
  },
  "language_info": {
   "codemirror_mode": {
    "name": "ipython",
    "version": 2
   },
   "file_extension": ".py",
   "mimetype": "text/x-python",
   "name": "python",
   "nbconvert_exporter": "python",
   "pygments_lexer": "ipython2",
   "version": "2.7.6"
  }
 },
 "nbformat": 4,
 "nbformat_minor": 5
}
